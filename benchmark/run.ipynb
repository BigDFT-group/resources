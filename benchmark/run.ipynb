{
 "cells": [
  {
   "cell_type": "markdown",
   "id": "7e434af4",
   "metadata": {},
   "source": [
    "# Benchmark Runner\n",
    "After the prep work is done you can run the benchmark. First, some basic configuration work."
   ]
  },
  {
   "cell_type": "code",
   "execution_count": 1,
   "id": "e754eed4",
   "metadata": {},
   "outputs": [],
   "source": [
    "from remotemanager import Dataset\n",
    "from remotemanager.transport import rsync, scp\n",
    "\n",
    "from time import sleep\n",
    "from os.path import join\n",
    "\n",
    "from remotemanager import Logger\n",
    "Logger.path = 'benchmark_remotemanager_log'\n",
    "Logger.level = 'debug'\n",
    "\n",
    "computer = \"fugaku\"\n",
    "computer = \"hokusai\"\n",
    "computer = 'archer2'\n",
    "\n",
    "indir = \"inp\"\n",
    "natoms = 54  # number of atoms in a molecule\n",
    "\n",
    "# Small System to Compute\n",
    "geom = \"2CzPN_2\"\n",
    "\n",
    "# Large Systems to Compute\n",
    "geoms = [\"2CzPN_14\", \"2CzPN_18\", \"2CzPN_22\", \"2CzPN_26\",\n",
    "         \"2CzPN_30\", \"2CzPN_34\", \"2CzPN_38\", \"2CzPN_42\",\n",
    "         \"2CzPN_50\", \"2CzPN_58\", \"2CzPN_66\", \"2CzPN_74\",\n",
    "         \"2CzPN_82\", \"2CzPN_90\"\n",
    "        ]"
   ]
  },
  {
   "cell_type": "code",
   "execution_count": 2,
   "id": "803546ac",
   "metadata": {},
   "outputs": [],
   "source": [
    "%load_ext remotemanager"
   ]
  },
  {
   "cell_type": "markdown",
   "id": "36d2cfc7",
   "metadata": {},
   "source": [
    "Setup your computer."
   ]
  },
  {
   "cell_type": "code",
   "execution_count": 3,
   "id": "b11da10b",
   "metadata": {},
   "outputs": [],
   "source": [
    "transport = None\n",
    "\n",
    "if computer == \"hokusai\":\n",
    "    from remotecomputer.hokusai import Hokusai\n",
    "    url = Hokusai()\n",
    "    url.key = \"Q22460\"\n",
    "    url.conda = \"remote\"\n",
    "    # Default mpi/omp\n",
    "    url.mpi = 1\n",
    "    url.omp = 1\n",
    "    url.elapse = \"0:30:00\"\n",
    "    url.path_to_bigdft = \"/home/wddawson/binaries/bdft\"\n",
    "    remote_dir = join(\"runs\", \"2023\", \"benchmark-tn\")\n",
    "    \n",
    "    # For scanning the MPI/OMP choices\n",
    "    mpi_omp = [(1, 40), (2, 20), (4, 10), (8, 5), (5, 8)]\n",
    "    \n",
    "    # Parameters for the large calculations\n",
    "    large_mpi = 64\n",
    "    large_omp = 10\n",
    "    large_elapse = \"4:00:00\"\n",
    "elif computer == \"fugaku\":\n",
    "    from remotecomputer.fugaku import Fugaku\n",
    "    url = Fugaku(user=\"u10035\")\n",
    "    url.key = \"ra000009\"\n",
    "    url.mpi = 1\n",
    "    url.omp = 1\n",
    "    url.elapse = \"00:30:00\"\n",
    "    url.path_to_bigdft = join(\"/home\", url.key.value, \"data\", \n",
    "                              url.user, \"binaries\", \"bdft\")\n",
    "    remote_dir = join(\"/home\", url.key.value, \"data\",\n",
    "                      url.user, \"runs\", \"2023\", \"benchmark-tn\")\n",
    "\n",
    "    # For scanning the MPI/OMP choices\n",
    "    mpi_omp = [(1, 48), (2, 24), (4, 12), (8, 6), (12, 4)]\n",
    "    \n",
    "    # Parameters for the large calculations\n",
    "    large_mpi = 1024\n",
    "    large_omp = 6\n",
    "    large_elapse = \"1:00:00\"\n",
    "elif computer == 'archer2':\n",
    "    from remotecomputer.archer2 import archer2\n",
    "    \n",
    "    url = archer2(user='lbeal', \n",
    "                  passfile = '~/.archerpass', \n",
    "                  keyfile = '~/.ssh/id_ed25519_archer2',\n",
    "                  python = 'python3')\n",
    "    url.mpi = 1\n",
    "    url.omp = 1\n",
    "    url.walltime = \"00:30:00\"\n",
    "    url.nodes = 1\n",
    "    url.queue = 'standard'\n",
    "    url.qos = 'standard'\n",
    "    \n",
    "    # url.modules = ['mkl']\n",
    "\n",
    "    url.extra = \"\"\"\n",
    "module load cray-python\n",
    "module swap PrgEnv-cray PrgEnv-gnu\n",
    "module load mkl    \n",
    "\n",
    "source /work/e572/e572/shared/build_cray/bigdft/bigdftvars.sh\n",
    "export BIGDFT_MPIRUN='srun --hint=nomultithread --distribution=block:block'\n",
    "export OMP_PLACES=cores\n",
    "export FUTILE_PROFILING_DEPTH=0\n",
    "\"\"\"    \n",
    "    \n",
    "    remote_dir = '/work/e572/e572/shared/bench_feb2023'\n",
    "\n",
    "    # For scanning the MPI/OMP choices\n",
    "    mpi_omp = [(128, 1), (64, 2), (32, 4), (16, 8), (8, 16)]\n",
    "    \n",
    "    transport = scp(url)"
   ]
  },
  {
   "cell_type": "code",
   "execution_count": 4,
   "id": "4b6acf51-8195-45ce-9c67-34f155c4c511",
   "metadata": {},
   "outputs": [],
   "source": [
    "# set transport to rsync if not overridden\n",
    "\n",
    "if transport is None:\n",
    "    transport = rsync(url)"
   ]
  },
  {
   "cell_type": "code",
   "execution_count": 5,
   "id": "16e86f0a-a79b-4183-ba14-35e0c9a62c18",
   "metadata": {},
   "outputs": [
    {
     "data": {
      "text/plain": [
       "bench_backup\n",
       "buildrc_from_desk\n",
       "from_archer\n",
       "jpserver-81974-open.html\n",
       "jpserver-81974.json\n",
       "jupyter_cookie_secret\n",
       "kernel-ea70d0f1-d53a-47d7-abe9-e7a061b6d6bb.json\n",
       "manager_run_test"
      ]
     },
     "execution_count": 5,
     "metadata": {},
     "output_type": "execute_result"
    }
   ],
   "source": [
    "# validate that the url is working\n",
    "url.cmd('ls')"
   ]
  },
  {
   "cell_type": "markdown",
   "id": "6ac90d8f",
   "metadata": {},
   "source": [
    "A routine that runs a calculation using the correct parameters for benchmarking."
   ]
  },
  {
   "cell_type": "code",
   "execution_count": 6,
   "id": "0bf54900",
   "metadata": {},
   "outputs": [],
   "source": [
    "def treat_system(sname, mpi, omp, indir=indir, linear=False):\n",
    "    from BigDFT.IO import read_pdb\n",
    "    from BigDFT.Inputfiles import Inputfile\n",
    "    from BigDFT.Calculators import SystemCalculator\n",
    "    from os.path import join\n",
    "    \n",
    "    # System\n",
    "    with open(join(indir, sname + \".pdb\")) as ifile:\n",
    "        sys = read_pdb(ifile)\n",
    "    \n",
    "    # Input\n",
    "    inp = Inputfile()\n",
    "    inp.set_xc(\"PBE\")\n",
    "    inp.set_hgrid(0.5)\n",
    "    inp.set_rmult(coarse=5.0, fine=7.0)\n",
    "    inp.set_psp_nlcc()\n",
    "    \n",
    "    if linear:\n",
    "        inp[\"import\"] = \"linear\"\n",
    "        inp[\"perf\"] = {\"check_sumrho\": 0, \"check_overlap\": 0}\n",
    "        inp[\"lin_general\"] = {\"charge_multipoles\": 0, \"output_mat\": 0}\n",
    "    \n",
    "    # Compute\n",
    "    calc = SystemCalculator(skip=True)\n",
    "    \n",
    "    # Determine the run name\n",
    "    run_name = sname + \"_\" + str(mpi) + \"_\" + str(omp)\n",
    "    log = calc.run(sys=sys, input=inp, name=run_name)"
   ]
  },
  {
   "cell_type": "markdown",
   "id": "e8559ab6",
   "metadata": {},
   "source": [
    "## Cubic Single Node Performance\n",
    "The first benchmark checks the single node performance using a few combinations of threads and mpi ranks."
   ]
  },
  {
   "cell_type": "code",
   "execution_count": 7,
   "id": "9869760e",
   "metadata": {},
   "outputs": [],
   "source": [
    "single_ds = Dataset(function = treat_system,\n",
    "                    url = url, \n",
    "                    transport = transport,\n",
    "                    extra_files_send=[indir],\n",
    "                    dbfile=\"single_db_\" + computer)"
   ]
  },
  {
   "cell_type": "markdown",
   "id": "78a6295c",
   "metadata": {},
   "source": [
    "Add runs with each parameter."
   ]
  },
  {
   "cell_type": "code",
   "execution_count": 8,
   "id": "78f486f4",
   "metadata": {},
   "outputs": [
    {
     "name": "stdout",
     "output_type": "stream",
     "text": [
      "appended run runner-0\n",
      "appended run runner-1\n",
      "appended run runner-2\n",
      "appended run runner-3\n",
      "appended run runner-4\n"
     ]
    }
   ],
   "source": [
    "for comb in mpi_omp:\n",
    "    args = {\"sname\": geom, \"mpi\": comb[0], \"omp\": comb[1]}\n",
    "    single_ds.append_run(arguments = args, mpi=comb[0], omp=comb[1],\n",
    "                         remote_dir=remote_dir)"
   ]
  },
  {
   "cell_type": "code",
   "execution_count": 9,
   "id": "7cda23e4",
   "metadata": {},
   "outputs": [
    {
     "name": "stdout",
     "output_type": "stream",
     "text": [
      "assessing run for runner dataset-82da90fc-runner-0... checks passed, running\n",
      "assessing run for runner dataset-4cba68bc-runner-1... checks passed, running\n",
      "assessing run for runner dataset-c9dc2b0b-runner-2... checks passed, running\n",
      "assessing run for runner dataset-f768eadf-runner-3... checks passed, running\n",
      "assessing run for runner dataset-bdea54e8-runner-4... checks passed, running\n"
     ]
    }
   ],
   "source": [
    "single_ds.run(dry_run=False)"
   ]
  },
  {
   "cell_type": "code",
   "execution_count": 10,
   "id": "de9eda97-0187-47a3-8e77-f57b39e5cec9",
   "metadata": {},
   "outputs": [
    {
     "name": "stdout",
     "output_type": "stream",
     "text": [
      "checking remotely for finished runs\n"
     ]
    },
    {
     "data": {
      "text/plain": [
       "[False, False, False, False, False]"
      ]
     },
     "execution_count": 10,
     "metadata": {},
     "output_type": "execute_result"
    }
   ],
   "source": [
    "single_ds.is_finished"
   ]
  },
  {
   "cell_type": "code",
   "execution_count": 11,
   "id": "f4ac3b04",
   "metadata": {
    "tags": []
   },
   "outputs": [
    {
     "name": "stdout",
     "output_type": "stream",
     "text": [
      "checking remotely for finished runs\n",
      "not finished, sleeping\n",
      "checking remotely for finished runs\n",
      "not finished, sleeping\n",
      "checking remotely for finished runs\n"
     ]
    }
   ],
   "source": [
    "single_ds.run_cmds\n",
    "while not single_ds.all_finished:\n",
    "    print('not finished, sleeping')\n",
    "    sleep(120)"
   ]
  },
  {
   "cell_type": "markdown",
   "id": "f433a17d",
   "metadata": {},
   "source": [
    "Fetch the time to solution data."
   ]
  },
  {
   "cell_type": "code",
   "execution_count": 12,
   "id": "cc485833",
   "metadata": {},
   "outputs": [],
   "source": [
    "url.mpi = 1\n",
    "url.omp = 1\n",
    "url.elapse = \"0:10:00\"\n",
    "db = \"single_fetch_\" + computer"
   ]
  },
  {
   "cell_type": "code",
   "execution_count": 13,
   "id": "4d845a67",
   "metadata": {},
   "outputs": [
    {
     "name": "stdout",
     "output_type": "stream",
     "text": [
      "appended run runner-0\n",
      "assessing run for runner dataset-bd7ed470-runner-0... checks passed, running\n",
      "checking remotely for finished runs\n"
     ]
    }
   ],
   "source": [
    "%%execute_remotely url=url transport=transport remote_dir=remote_dir dbfile=db : mpi_omp=mpi_omp sname=geom\n",
    "from yaml import load, SafeLoader\n",
    "data = {}\n",
    "for r in mpi_omp:\n",
    "    run_name = sname + \"_\" + str(r[0]) + \"_\" + str(r[1])\n",
    "    with open(\"time-\" + run_name + \".yaml\") as ifile:\n",
    "        full = load(ifile, Loader=SafeLoader)\n",
    "    data[run_name] = {\"time\": full[\"WFN_OPT\"][\"Classes\"][\"Total\"][1]}\n",
    "\n",
    "return data"
   ]
  },
  {
   "cell_type": "code",
   "execution_count": 14,
   "id": "a709bd82",
   "metadata": {},
   "outputs": [
    {
     "name": "stdout",
     "output_type": "stream",
     "text": [
      "checking remotely for finished runs\n"
     ]
    }
   ],
   "source": [
    "magic_dataset.fetch_results()\n",
    "times = magic_dataset.results[0]"
   ]
  },
  {
   "cell_type": "markdown",
   "id": "5ac65d2a",
   "metadata": {},
   "source": [
    "Plot."
   ]
  },
  {
   "cell_type": "code",
   "execution_count": 15,
   "id": "1a591e38",
   "metadata": {},
   "outputs": [
    {
     "data": {
      "image/png": "[encoded data removed]",
      "text/plain": [
       "<Figure size 400x300 with 1 Axes>"
      ]
     },
     "metadata": {},
     "output_type": "display_data"
    }
   ],
   "source": [
    "from matplotlib import pyplot as plt\n",
    "fig, axs = plt.subplots(1, 1, figsize=(4, 3))\n",
    "axs.plot([x[\"time\"] for x in times.values()] , 'kx', markersize=14)\n",
    "axs.set_ylabel(\"Time (s)\", fontsize=14)\n",
    "axs.set_xticks(range(len(list(times))))\n",
    "axs.set_xticklabels([\"MPI:\" + str(comb[0]) + \n",
    "                     \"; OMP:\" + str(comb[1]) \n",
    "                     for comb in mpi_omp], rotation=90)\n",
    "pass"
   ]
  },
  {
   "cell_type": "markdown",
   "id": "77723598",
   "metadata": {
    "tags": []
   },
   "source": [
    "## Linear Scaling Calculations\n",
    "We will now switch to the linear scaling mode. We will run calculations of various size on a reasonable sized partition, and examine the performance."
   ]
  },
  {
   "cell_type": "code",
   "execution_count": null,
   "id": "b4236bde",
   "metadata": {},
   "outputs": [],
   "source": [
    "LVC_set = Dataset(function = treat_system,\n",
    "                  url = url, dbfile=\"scale_db_\" + computer)\n",
    "url.elapse = large_elapse"
   ]
  },
  {
   "cell_type": "code",
   "execution_count": null,
   "id": "4c597d6b",
   "metadata": {},
   "outputs": [],
   "source": [
    "for g in geoms:\n",
    "    args = {\"sname\": g, \"mpi\": large_mpi, \"omp\": large_omp, \"linear\": True}\n",
    "    LVC_set.append_run(arguments = args, remote_dir=remote_dir,\n",
    "                       mpi=large_mpi, omp=large_omp)"
   ]
  },
  {
   "cell_type": "code",
   "execution_count": null,
   "id": "7538d9ea",
   "metadata": {},
   "outputs": [],
   "source": [
    "LVC_set.run()"
   ]
  },
  {
   "cell_type": "code",
   "execution_count": null,
   "id": "f681c8f8",
   "metadata": {},
   "outputs": [],
   "source": [
    "while not single_ds.all_finished:\n",
    "    sleep(120)"
   ]
  },
  {
   "cell_type": "markdown",
   "id": "855825e8",
   "metadata": {},
   "source": [
    "Fetch the times."
   ]
  },
  {
   "cell_type": "code",
   "execution_count": null,
   "id": "aab157ce",
   "metadata": {},
   "outputs": [],
   "source": [
    "url.mpi = 1\n",
    "url.omp = 1\n",
    "url.elapse = \"0:10:00\"\n",
    "db = \"scale_fetch_\" + computer"
   ]
  },
  {
   "cell_type": "code",
   "execution_count": null,
   "id": "f8281e07",
   "metadata": {},
   "outputs": [],
   "source": [
    "%%execute_remotely url=url remote_dir=remote_dir dbfile=db : geoms=geoms mpi=large_mpi omp=large_omp\n",
    "from yaml import load, SafeLoader\n",
    "data = {}\n",
    "for g in geoms:\n",
    "    run_name = g + \"_\" + str(mpi) + \"_\" + str(omp)\n",
    "    with open(\"time-\" + run_name + \".yaml\") as ifile:\n",
    "        full = load(ifile, Loader=SafeLoader)\n",
    "    data[run_name] = {\"time\": full[\"WFN_OPT\"][\"Classes\"][\"Total\"][1]}\n",
    "\n",
    "return data"
   ]
  },
  {
   "cell_type": "code",
   "execution_count": null,
   "id": "8cb486bd",
   "metadata": {},
   "outputs": [],
   "source": [
    "magic_dataset.fetch_results()\n",
    "times = magic_dataset.results[0]"
   ]
  },
  {
   "cell_type": "markdown",
   "id": "184b8774",
   "metadata": {},
   "source": [
    "Plot the time vs. number of atoms."
   ]
  },
  {
   "cell_type": "code",
   "execution_count": null,
   "id": "5d683ee5",
   "metadata": {},
   "outputs": [],
   "source": [
    "from matplotlib import pyplot as plt\n",
    "fig, axs = plt.subplots(1, 1, figsize=(4, 3))\n",
    "nats = [int(x.split(\"_\")[-1])*54 for x in geoms]\n",
    "minutes = [times[x + \"_\" + str(large_mpi) + \n",
    "                 \"_\" + str(large_omp)][\"time\"]/60 for x in geoms]\n",
    "axs.plot([(m/a) * large_mpi*large_omp \n",
    "          for m, a in zip(minutes, nats)] , \n",
    "         'kx', markersize=14, label=\"Hokusai\")\n",
    "axs.set_ylabel(\"CPU Minutes per Atom\", fontsize=14)\n",
    "axs.set_xticks(range(len(list(times))))\n",
    "axs.set_xticklabels(nats, rotation=90)\n",
    "axs.set_xlabel(\"Number of Atoms\", fontsize=14)\n",
    "axs.legend()\n",
    "fig.tight_layout()\n",
    "fig.savefig(\"benchmark.png\", dpi=300)\n",
    "pass"
   ]
  }
 ],
 "metadata": {
  "kernelspec": {
   "display_name": "Python 3 (ipykernel)",
   "language": "python",
   "name": "python3"
  },
  "language_info": {
   "codemirror_mode": {
    "name": "ipython",
    "version": 3
   },
   "file_extension": ".py",
   "mimetype": "text/x-python",
   "name": "python",
   "nbconvert_exporter": "python",
   "pygments_lexer": "ipython3",
   "version": "3.10.8"
  }
 },
 "nbformat": 4,
 "nbformat_minor": 5
}
