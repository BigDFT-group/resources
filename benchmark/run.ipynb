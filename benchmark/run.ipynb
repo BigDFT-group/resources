{
 "cells": [
  {
   "cell_type": "markdown",
   "id": "7e434af4",
   "metadata": {},
   "source": [
    "# Benchmark Runner\n",
    "After the prep work is done you can run the benchmark. First, pick your computer of choice."
   ]
  },
  {
   "cell_type": "code",
   "execution_count": 1,
   "id": "4c60e395",
   "metadata": {},
   "outputs": [
    {
     "data": {
      "application/vnd.jupyter.widget-view+json": {
       "model_id": "668087c0150b494faeef5ba4a03ff7ed",
       "version_major": 2,
       "version_minor": 0
      },
      "text/plain": [
       "Dropdown(description='Computer:', options=('ims', 'fugaku', 'hokusai', 'hokudai', 'archer2'), value='ims')"
      ]
     },
     "metadata": {},
     "output_type": "display_data"
    }
   ],
   "source": [
    "import ipywidgets as widgets\n",
    "w = widgets.Dropdown(options=[\"ims\", \"fugaku\", \"hokusai\",\n",
    "                              \"hokudai\", \"archer2\"],\n",
    "                     description=\"Computer:\")\n",
    "display(w)"
   ]
  },
  {
   "cell_type": "markdown",
   "id": "6c6801e6",
   "metadata": {},
   "source": [
    "Then we have to do some basic configuration."
   ]
  },
  {
   "cell_type": "code",
   "execution_count": 2,
   "id": "e754eed4",
   "metadata": {},
   "outputs": [],
   "source": [
    "from remotemanager import Dataset\n",
    "from remotemanager.transport import rsync, scp\n",
    "\n",
    "from time import sleep\n",
    "from os.path import join\n",
    "\n",
    "from remotemanager import Logger\n",
    "Logger.path = 'benchmark_remotemanager_log'\n",
    "Logger.level = 'debug'\n",
    "\n",
    "computer = w.value\n",
    "\n",
    "indir = \"inp\"\n",
    "natoms = 54  # number of atoms in a molecule\n",
    "\n",
    "# Small System to Compute\n",
    "geom = \"2CzPN_2\"\n",
    "\n",
    "# Large Systems to Compute\n",
    "geoms = [\"2CzPN_14\", \"2CzPN_18\", \"2CzPN_22\", \"2CzPN_26\",\n",
    "         \"2CzPN_30\", \"2CzPN_34\", \"2CzPN_38\", \"2CzPN_42\",\n",
    "         \"2CzPN_50\", \"2CzPN_58\", \"2CzPN_66\", \"2CzPN_74\",\n",
    "         \"2CzPN_82\", \"2CzPN_90\", \"2CzPN_98\", \"2CzPN_106\",\n",
    "         \"2CzPN_114\", \"2CzPN_122\", \"2CzPN_138\", \"2CzPN_154\"\n",
    "        ]"
   ]
  },
  {
   "cell_type": "code",
   "execution_count": 3,
   "id": "803546ac",
   "metadata": {},
   "outputs": [],
   "source": [
    "%load_ext remotemanager"
   ]
  },
  {
   "cell_type": "markdown",
   "id": "36d2cfc7",
   "metadata": {},
   "source": [
    "Setup your computer."
   ]
  },
  {
   "cell_type": "code",
   "execution_count": 4,
   "id": "b11da10b",
   "metadata": {},
   "outputs": [],
   "source": [
    "transport = None\n",
    "from ims import IMS, IMSLogin\n",
    "from remotemanager import URL\n",
    "url = IMS(user=\"anp\")\n",
    "url.mpi = 1\n",
    "url.omp = 1\n",
    "url.time = 1800\n",
    "url.path_to_bigdft = \"/home/users/anp/binaries/gcc\"\n",
    "remote_dir = join(\"runs\", \"2023\", \"benchmark-technical\")\n",
    "\n",
    "furl = IMSLogin(user=\"anp\",)\n",
    "furl.path_to_bigdft = \"/home/users/anp/binaries/gcc\"\n",
    "\n",
    "# For scanning the MPI/OMP choices\n",
    "mpi_omp = [(4, 32), (8, 16), (16, 8), (32, 4), (64, 2)]\n",
    "\n",
    "# Parameters for the large calculations\n",
    "large_mpi = 128\n",
    "large_omp = 8\n",
    "large_elapse = 14400"
   ]
  },
  {
   "cell_type": "markdown",
   "id": "70a8c807",
   "metadata": {},
   "source": [
    "Set transport to rsync if not overridden"
   ]
  },
  {
   "cell_type": "code",
   "execution_count": 5,
   "id": "4b6acf51-8195-45ce-9c67-34f155c4c511",
   "metadata": {},
   "outputs": [],
   "source": [
    "if transport is None:\n",
    "    transport = rsync(url)"
   ]
  },
  {
   "cell_type": "markdown",
   "id": "ae8e9b42",
   "metadata": {},
   "source": [
    "Validate that the url is working"
   ]
  },
  {
   "cell_type": "code",
   "execution_count": 6,
   "id": "16e86f0a-a79b-4183-ba14-35e0c9a62c18",
   "metadata": {},
   "outputs": [
    {
     "data": {
      "text/plain": [
       "binaries\n",
       "devel\n",
       "runs\n",
       "temp_runner_remote"
      ]
     },
     "execution_count": 6,
     "metadata": {},
     "output_type": "execute_result"
    }
   ],
   "source": [
    "url.cmd('ls')"
   ]
  },
  {
   "cell_type": "markdown",
   "id": "6ac90d8f",
   "metadata": {},
   "source": [
    "A routine that runs a calculation using the correct parameters for benchmarking."
   ]
  },
  {
   "cell_type": "code",
   "execution_count": 7,
   "id": "0bf54900",
   "metadata": {},
   "outputs": [],
   "source": [
    "def treat_system(sname, mpi, omp, indir=indir, linear=False):\n",
    "    from BigDFT.IO import read_pdb\n",
    "    from BigDFT.Inputfiles import Inputfile\n",
    "    from BigDFT.Calculators import SystemCalculator\n",
    "    from os.path import join\n",
    "    \n",
    "    # System\n",
    "    with open(join(indir, sname + \".pdb\")) as ifile:\n",
    "        sys = read_pdb(ifile)\n",
    "    \n",
    "    # Input\n",
    "    inp = Inputfile()\n",
    "    inp.set_xc(\"PBE\")\n",
    "    inp.set_hgrid(0.5)\n",
    "    inp.set_rmult(coarse=5.0, fine=7.0)\n",
    "    inp.set_psp_nlcc()\n",
    "    \n",
    "    if linear:\n",
    "        inp[\"import\"] = \"linear\"\n",
    "        inp[\"perf\"] = {\"check_sumrho\": 0, \"check_overlap\": 0}\n",
    "        inp[\"lin_general\"] = {\"charge_multipoles\": 0, \"output_mat\": 0}\n",
    "    \n",
    "    # Compute\n",
    "    calc = SystemCalculator(skip=True)\n",
    "    \n",
    "    # Determine the run name\n",
    "    run_name = sname + \"_\" + str(mpi) + \"_\" + str(omp)\n",
    "    log = calc.run(sys=sys, input=inp, name=run_name)"
   ]
  },
  {
   "cell_type": "markdown",
   "id": "e8559ab6",
   "metadata": {},
   "source": [
    "## Cubic Single Node Performance\n",
    "The first benchmark checks the single node performance using a few combinations of threads and mpi ranks."
   ]
  },
  {
   "cell_type": "code",
   "execution_count": 8,
   "id": "9869760e",
   "metadata": {},
   "outputs": [],
   "source": [
    "single_ds = Dataset(function = treat_system,\n",
    "                    url = url, \n",
    "                    transport = transport,\n",
    "                    extra_files_send=[indir],\n",
    "                    dbfile=\"single_db_\" + computer)"
   ]
  },
  {
   "cell_type": "markdown",
   "id": "78a6295c",
   "metadata": {},
   "source": [
    "Add runs with each parameter."
   ]
  },
  {
   "cell_type": "code",
   "execution_count": 9,
   "id": "78f486f4",
   "metadata": {},
   "outputs": [
    {
     "name": "stdout",
     "output_type": "stream",
     "text": [
      "runner runner-5 already exists\n",
      "runner runner-5 already exists\n",
      "runner runner-5 already exists\n",
      "runner runner-5 already exists\n",
      "runner runner-5 already exists\n"
     ]
    }
   ],
   "source": [
    "for comb in mpi_omp:\n",
    "    args = {\"sname\": geom, \"mpi\": comb[0], \"omp\": comb[1]}\n",
    "    single_ds.append_run(arguments = args, mpi=comb[0], omp=comb[1],\n",
    "                         remote_dir=remote_dir)"
   ]
  },
  {
   "cell_type": "code",
   "execution_count": 10,
   "id": "7cda23e4",
   "metadata": {},
   "outputs": [
    {
     "name": "stdout",
     "output_type": "stream",
     "text": [
      "assessing run for runner dataset-eb2cdea7-runner-0... skipping already submitted run\n",
      "assessing run for runner dataset-eb2cdea7-runner-1... skipping already submitted run\n",
      "assessing run for runner dataset-eb2cdea7-runner-2... skipping already submitted run\n",
      "assessing run for runner dataset-eb2cdea7-runner-3... skipping already submitted run\n",
      "assessing run for runner dataset-eb2cdea7-runner-4... skipping already submitted run\n"
     ]
    }
   ],
   "source": [
    "single_ds.run()"
   ]
  },
  {
   "cell_type": "code",
   "execution_count": 11,
   "id": "f4ac3b04",
   "metadata": {
    "tags": []
   },
   "outputs": [
    {
     "name": "stdout",
     "output_type": "stream",
     "text": [
      "checking remotely for finished runs\n"
     ]
    }
   ],
   "source": [
    "while not single_ds.all_finished:\n",
    "    print('not finished, sleeping')\n",
    "    sleep(120)"
   ]
  },
  {
   "cell_type": "markdown",
   "id": "f433a17d",
   "metadata": {},
   "source": [
    "Fetch the time to solution data."
   ]
  },
  {
   "cell_type": "code",
   "execution_count": 12,
   "id": "4d845a67",
   "metadata": {},
   "outputs": [
    {
     "name": "stdout",
     "output_type": "stream",
     "text": [
      "runner runner-1 already exists\n",
      "assessing run for runner dataset-f9cbc0b6-runner-0... skipping already completed run\n",
      "checking remotely for finished runs\n"
     ]
    }
   ],
   "source": [
    "%%sanzu url=furl, transport=transport\n",
    "%%sanzu remote_dir=remote_dir, dbfile=\"single_fetch_\" + computer \n",
    "%%sargs mpi_omp=mpi_omp, sname=geom\n",
    "from yaml import load, SafeLoader\n",
    "data = {}\n",
    "for r in mpi_omp:\n",
    "    rname = sname + \"_\" + str(r[0]) + \"_\" + str(r[1])\n",
    "    with open(\"time-\" + rname + \".yaml\") as ifile:\n",
    "        full = load(ifile, Loader=SafeLoader)\n",
    "    data[rname] = {\"time\": full[\"WFN_OPT\"][\"Classes\"][\"Total\"][1]}\n",
    "data"
   ]
  },
  {
   "cell_type": "code",
   "execution_count": 13,
   "id": "a709bd82",
   "metadata": {},
   "outputs": [],
   "source": [
    "times = magic_dataset.results[0]"
   ]
  },
  {
   "cell_type": "markdown",
   "id": "5ac65d2a",
   "metadata": {},
   "source": [
    "Plot."
   ]
  },
  {
   "cell_type": "code",
   "execution_count": 14,
   "id": "1a591e38",
   "metadata": {},
   "outputs": [
    {
     "data": {
      "image/png": "[encoded data removed]",
      "text/plain": [
       "<Figure size 400x300 with 1 Axes>"
      ]
     },
     "metadata": {},
     "output_type": "display_data"
    }
   ],
   "source": [
    "from matplotlib import pyplot as plt\n",
    "fig, axs = plt.subplots(1, 1, figsize=(4, 3))\n",
    "axs.plot([x[\"time\"] for x in times.values()] , 'k.', markersize=14)\n",
    "axs.set_ylabel(\"Time (s)\", fontsize=14)\n",
    "axs.set_xticks(range(len(list(times))))\n",
    "axs.set_xticklabels([\"MPI:\" + str(comb[0]) + \n",
    "                     \"; OMP:\" + str(comb[1]) \n",
    "                     for comb in mpi_omp], rotation=90)\n",
    "pass"
   ]
  },
  {
   "cell_type": "markdown",
   "id": "77723598",
   "metadata": {
    "tags": []
   },
   "source": [
    "## Linear Scaling Calculations\n",
    "We will now switch to the linear scaling mode. We will run calculations of various size on a reasonable sized partition, and examine the performance."
   ]
  },
  {
   "cell_type": "code",
   "execution_count": 15,
   "id": "b4236bde",
   "metadata": {},
   "outputs": [],
   "source": [
    "LVC_set = Dataset(function = treat_system,\n",
    "                  url = url, dbfile=\"scale_db_\" + computer)\n",
    "url.time = large_elapse"
   ]
  },
  {
   "cell_type": "code",
   "execution_count": 16,
   "id": "4c597d6b",
   "metadata": {},
   "outputs": [
    {
     "name": "stdout",
     "output_type": "stream",
     "text": [
      "runner runner-20 already exists\n",
      "runner runner-20 already exists\n",
      "runner runner-20 already exists\n",
      "runner runner-20 already exists\n",
      "runner runner-20 already exists\n",
      "runner runner-20 already exists\n",
      "runner runner-20 already exists\n",
      "runner runner-20 already exists\n",
      "runner runner-20 already exists\n",
      "runner runner-20 already exists\n",
      "runner runner-20 already exists\n",
      "runner runner-20 already exists\n",
      "runner runner-20 already exists\n",
      "runner runner-20 already exists\n",
      "runner runner-20 already exists\n",
      "runner runner-20 already exists\n",
      "runner runner-20 already exists\n",
      "runner runner-20 already exists\n",
      "runner runner-20 already exists\n",
      "runner runner-20 already exists\n"
     ]
    }
   ],
   "source": [
    "for g in geoms:\n",
    "    args = {\"sname\": g, \"mpi\": large_mpi, \"omp\": large_omp, \"linear\": True}\n",
    "    LVC_set.append_run(arguments = args, remote_dir=remote_dir,\n",
    "                       mpi=large_mpi, omp=large_omp)"
   ]
  },
  {
   "cell_type": "code",
   "execution_count": 17,
   "id": "7538d9ea",
   "metadata": {},
   "outputs": [
    {
     "name": "stdout",
     "output_type": "stream",
     "text": [
      "assessing run for runner dataset-eb2cdea7-runner-0... skipping already submitted run\n",
      "assessing run for runner dataset-eb2cdea7-runner-1... skipping already submitted run\n",
      "assessing run for runner dataset-eb2cdea7-runner-10... skipping already submitted run\n",
      "assessing run for runner dataset-eb2cdea7-runner-11... skipping already submitted run\n",
      "assessing run for runner dataset-eb2cdea7-runner-12... skipping already submitted run\n",
      "assessing run for runner dataset-eb2cdea7-runner-13... skipping already submitted run\n",
      "assessing run for runner dataset-eb2cdea7-runner-14... skipping already submitted run\n",
      "assessing run for runner dataset-eb2cdea7-runner-15... skipping already submitted run\n",
      "assessing run for runner dataset-eb2cdea7-runner-16... skipping already submitted run\n",
      "assessing run for runner dataset-eb2cdea7-runner-17... skipping already submitted run\n",
      "assessing run for runner dataset-eb2cdea7-runner-18... skipping already submitted run\n",
      "assessing run for runner dataset-eb2cdea7-runner-19... skipping already submitted run\n",
      "assessing run for runner dataset-eb2cdea7-runner-2... skipping already submitted run\n",
      "assessing run for runner dataset-eb2cdea7-runner-3... skipping already submitted run\n",
      "assessing run for runner dataset-eb2cdea7-runner-4... skipping already submitted run\n",
      "assessing run for runner dataset-eb2cdea7-runner-5... skipping already submitted run\n",
      "assessing run for runner dataset-eb2cdea7-runner-6... skipping already submitted run\n",
      "assessing run for runner dataset-eb2cdea7-runner-7... skipping already submitted run\n",
      "assessing run for runner dataset-eb2cdea7-runner-8... skipping already submitted run\n",
      "assessing run for runner dataset-eb2cdea7-runner-9... skipping already submitted run\n"
     ]
    }
   ],
   "source": [
    "LVC_set.run()"
   ]
  },
  {
   "cell_type": "code",
   "execution_count": 18,
   "id": "f681c8f8",
   "metadata": {},
   "outputs": [
    {
     "name": "stdout",
     "output_type": "stream",
     "text": [
      "checking remotely for finished runs\n"
     ]
    }
   ],
   "source": [
    "while not single_ds.all_finished:\n",
    "    sleep(120)"
   ]
  },
  {
   "cell_type": "markdown",
   "id": "855825e8",
   "metadata": {},
   "source": [
    "Fetch the times."
   ]
  },
  {
   "cell_type": "code",
   "execution_count": 19,
   "id": "f8281e07",
   "metadata": {},
   "outputs": [
    {
     "name": "stdout",
     "output_type": "stream",
     "text": [
      "runner runner-1 already exists\n",
      "assessing run for runner dataset-3fb55c52-runner-0... skipping already completed run\n",
      "checking remotely for finished runs\n"
     ]
    }
   ],
   "source": [
    "%%sanzu url=furl, remote_dir=remote_dir\n",
    "%%sanzu dbfile=\"scale_fetch_\" + computer\n",
    "%%sargs geoms=geoms, mpi=large_mpi, omp=large_omp\n",
    "from yaml import load, SafeLoader\n",
    "timing = {}\n",
    "for g in geoms:\n",
    "    run_name = g + \"_\" + str(mpi) + \"_\" + str(omp)\n",
    "    with open(\"time-\" + run_name + \".yaml\") as ifile:\n",
    "        full = load(ifile, Loader=SafeLoader)\n",
    "    timing[run_name] = {\"time\": full[\"WFN_OPT\"][\"Classes\"][\"Total\"][1]}\n",
    "\n",
    "memory = {}\n",
    "for g in geoms:\n",
    "    run_name = g + \"_\" + str(mpi) + \"_\" + str(omp)\n",
    "    with open(\"log-\" + run_name + \".yaml\") as ifile:\n",
    "        full = load(ifile, Loader=SafeLoader)\n",
    "    memory[run_name] = full[\"Memory Consumption Report\"][\"Memory occupation\"][\"Peak Value (MB)\"]\n",
    "timing, memory"
   ]
  },
  {
   "cell_type": "code",
   "execution_count": 20,
   "id": "8cb486bd",
   "metadata": {},
   "outputs": [
    {
     "name": "stdout",
     "output_type": "stream",
     "text": [
      "checking remotely for finished runs\n"
     ]
    }
   ],
   "source": [
    "magic_dataset.fetch_results()\n",
    "times, memory = magic_dataset.results[0]"
   ]
  },
  {
   "cell_type": "markdown",
   "id": "184b8774",
   "metadata": {},
   "source": [
    "Plot the time vs. number of atoms."
   ]
  },
  {
   "cell_type": "code",
   "execution_count": 33,
   "id": "5d683ee5",
   "metadata": {},
   "outputs": [
    {
     "data": {
      "image/png": "[encoded data removed]",
      "text/plain": [
       "<Figure size 500x400 with 2 Axes>"
      ]
     },
     "metadata": {},
     "output_type": "display_data"
    }
   ],
   "source": [
    "from matplotlib import pyplot as plt\n",
    "fig, axs = plt.subplots(2, 1, figsize=(5, 4))\n",
    "nats = [int(x.split(\"_\")[-1])*54 for x in geoms]\n",
    "minutes = [times[x + \"_\" + str(large_mpi) + \n",
    "                 \"_\" + str(large_omp)][\"time\"]/60 for x in geoms]\n",
    "axs[0].plot([(m/a) * large_mpi*large_omp \n",
    "            for m, a in zip(minutes, nats)] , \n",
    "            'k.', markersize=14, label=\"Time\")\n",
    "axs[0].set_title(\"CPU Minutes per Atom\", fontsize=12)\n",
    "axs[0].set_xticks(range(len(list(times))))\n",
    "axs[0].set_xticklabels(nats, rotation=90)\n",
    "axs[0].set_yticks(range(12, 22, 2))\n",
    "\n",
    "mem = [memory[x + \"_\" + str(large_mpi) + \n",
    "             \"_\" + str(large_omp)] for x in geoms]\n",
    "axs[1].plot([m / 1024\n",
    "            for m, a in zip(mem, nats)] , \n",
    "           'k.', markersize=14, label=\"Memory\")\n",
    "axs[1].set_xlabel(\"Number of Atoms\", fontsize=14)\n",
    "axs[1].set_title(\"Peak Memory per Process (GB)\", fontsize=12)\n",
    "axs[1].set_xticks(range(len(list(times))))\n",
    "axs[1].set_xticklabels(nats, rotation=90)\n",
    "axs[1].set_yticks(range(0, 20, 4))\n",
    "\n",
    "# axs.legend()\n",
    "fig.tight_layout()\n",
    "fig.savefig(\"benchmark.png\", dpi=300)\n",
    "pass"
   ]
  },
  {
   "cell_type": "code",
   "execution_count": null,
   "id": "c800f730",
   "metadata": {},
   "outputs": [],
   "source": []
  }
 ],
 "metadata": {
  "kernelspec": {
   "display_name": "Python 3 (ipykernel)",
   "language": "python",
   "name": "python3"
  },
  "language_info": {
   "codemirror_mode": {
    "name": "ipython",
    "version": 3
   },
   "file_extension": ".py",
   "mimetype": "text/x-python",
   "name": "python",
   "nbconvert_exporter": "python",
   "pygments_lexer": "ipython3",
   "version": "3.11.3"
  }
 },
 "nbformat": 4,
 "nbformat_minor": 5
}
