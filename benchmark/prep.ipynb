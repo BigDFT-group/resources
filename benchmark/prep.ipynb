{
 "cells": [
  {
   "cell_type": "markdown",
   "id": "ff4fe5fa",
   "metadata": {},
   "source": [
    "# Prep\n",
    "This notebook will prepare the systems of varying sizes starting from the MD snapshot which contains 54,000 atoms."
   ]
  },
  {
   "cell_type": "code",
   "execution_count": null,
   "id": "61154d03",
   "metadata": {},
   "outputs": [],
   "source": [
    "from os.path import join\n",
    "outdir = \"inp\"\n",
    "geom = \"base\"\n",
    "natoms = 54  # number of atoms in a molecule"
   ]
  },
  {
   "cell_type": "markdown",
   "id": "7498921e",
   "metadata": {},
   "source": [
    "Sizes to generate."
   ]
  },
  {
   "cell_type": "code",
   "execution_count": null,
   "id": "ff920a2b",
   "metadata": {},
   "outputs": [],
   "source": [
    "cutoffs = [1]\n",
    "cutoffs += range(2, 18, 2)\n",
    "cutoffs += range(18, 42, 4)\n",
    "cutoffs += range(42, 122, 8)\n",
    "cutoffs += range(122, 282, 16)\n",
    "cutoffs += range(282, 602, 32)\n",
    "cutoffs += range(602, 1000, 64)\n",
    "cutoffs += [1000]\n",
    "\n",
    "ranges = {\"easy\": 42 - 4, \"medium\": 122 - 8, \n",
    "          \"hard\": 282 - 16, \"very hard\": 602-32,\n",
    "          \"extreme\": 1000}"
   ]
  },
  {
   "cell_type": "markdown",
   "id": "11905e28",
   "metadata": {},
   "source": [
    "Read in the starting file."
   ]
  },
  {
   "cell_type": "code",
   "execution_count": null,
   "id": "5d94f405",
   "metadata": {},
   "outputs": [],
   "source": [
    "from BigDFT.IO import XYZReader\n",
    "from BigDFT.Systems import System\n",
    "from BigDFT.Fragments import Fragment\n",
    "\n",
    "sys = System()\n",
    "\n",
    "with XYZReader(join(outdir, geom + \".xyz\")) as ifile:\n",
    "    for i, at in enumerate(ifile):\n",
    "        fid = \"SOL:\" + str(int((i)/natoms))\n",
    "        if fid not in sys:\n",
    "            sys[fid] = Fragment()\n",
    "        sys[fid].append(at)"
   ]
  },
  {
   "cell_type": "markdown",
   "id": "2cb120b3",
   "metadata": {},
   "source": [
    "Order the fragments by distance to the centroid."
   ]
  },
  {
   "cell_type": "code",
   "execution_count": null,
   "id": "c98112cb",
   "metadata": {},
   "outputs": [],
   "source": [
    "from numpy import array\n",
    "from numpy.linalg import norm\n",
    "\n",
    "distances = {}\n",
    "cent = sys.centroid\n",
    "for fragid, frag in sys.items():\n",
    "    distances[fragid] = norm(array(frag.centroid) - array(cent))"
   ]
  },
  {
   "cell_type": "code",
   "execution_count": null,
   "id": "fb5dccb2",
   "metadata": {},
   "outputs": [],
   "source": [
    "newsys = System()\n",
    "for i, fragid in enumerate(sorted(list(distances), key=distances.get)):\n",
    "    if i == 0:\n",
    "        newsys[\"TAR:0\"] = sys[fragid]\n",
    "    else:\n",
    "        newsys[\"SOL:\" + str(i)] = sys[fragid]"
   ]
  },
  {
   "cell_type": "markdown",
   "id": "1d83043f",
   "metadata": {},
   "source": [
    "Generate."
   ]
  },
  {
   "cell_type": "code",
   "execution_count": null,
   "id": "03bd2c84",
   "metadata": {},
   "outputs": [],
   "source": [
    "new_distances = {}\n",
    "cent = newsys[\"TAR:0\"].centroid\n",
    "for fragid, frag in newsys.items():\n",
    "    new_distances[fragid] = norm(array(frag.centroid) - array(cent))"
   ]
  },
  {
   "cell_type": "code",
   "execution_count": null,
   "id": "e279e8b5",
   "metadata": {},
   "outputs": [],
   "source": [
    "from BigDFT.Fragments import pairwise_distance\n",
    "from BigDFT.Atoms import AU_to_A\n",
    "\n",
    "subsystems = {}\n",
    "\n",
    "for cut in cutoffs:\n",
    "    subsystems[cut] = System()\n",
    "    for i, fragid in enumerate(sorted(list(new_distances), key=new_distances.get)):\n",
    "        if i >= cut:\n",
    "            break\n",
    "        subsystems[cut][fragid] = newsys[fragid]"
   ]
  },
  {
   "cell_type": "markdown",
   "id": "6c84d162",
   "metadata": {},
   "source": [
    "Write to file."
   ]
  },
  {
   "cell_type": "code",
   "execution_count": null,
   "id": "d7a1aa8c",
   "metadata": {},
   "outputs": [],
   "source": [
    "from BigDFT.IO import write_pdb\n",
    "\n",
    "for cut, subsys in subsystems.items():\n",
    "    with open(join(outdir, \"2CzPN_\" + str(cut) + \".pdb\"), \"w\") as ofile:\n",
    "        write_pdb(subsys, ofile)"
   ]
  }
 ],
 "metadata": {
  "kernelspec": {
   "display_name": "Python 3 (ipykernel)",
   "language": "python",
   "name": "python3"
  },
  "language_info": {
   "codemirror_mode": {
    "name": "ipython",
    "version": 3
   },
   "file_extension": ".py",
   "mimetype": "text/x-python",
   "name": "python",
   "nbconvert_exporter": "python",
   "pygments_lexer": "ipython3",
   "version": "3.10.8"
  }
 },
 "nbformat": 4,
 "nbformat_minor": 5
}
