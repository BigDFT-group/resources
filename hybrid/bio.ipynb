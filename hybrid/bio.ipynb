{
 "cells": [
  {
   "cell_type": "markdown",
   "id": "c09028c2",
   "metadata": {},
   "source": [
    "# Bio Benchmark\n",
    "This notebook will benchmark some systems relevant to biological applications using exact-exchange."
   ]
  },
  {
   "cell_type": "code",
   "execution_count": null,
   "id": "8ae44ce8",
   "metadata": {},
   "outputs": [],
   "source": [
    "from os.path import join\n",
    "import ipywidgets as widgets\n",
    "w = widgets.Dropdown(options=[\"1uao\", \"1crn\", \"1oxr\", \"1a94\", \"1gfl\"],\n",
    "                     description=\"System:\")\n",
    "display(w)"
   ]
  },
  {
   "cell_type": "code",
   "execution_count": null,
   "id": "6c10f0e1",
   "metadata": {},
   "outputs": [],
   "source": [
    "geom = w.value\n",
    "sendir = \"input\""
   ]
  },
  {
   "cell_type": "code",
   "execution_count": null,
   "id": "f0632984",
   "metadata": {},
   "outputs": [],
   "source": [
    "%load_ext remotemanager"
   ]
  },
  {
   "cell_type": "code",
   "execution_count": null,
   "id": "302fe5e3",
   "metadata": {},
   "outputs": [],
   "source": [
    "from remotecomputer.spring import SpringGPU\n",
    "url = SpringGPU()\n",
    "url.conda = \"remote\"\n",
    "remote_dir = join(\"Runs\", \"2023\", \"hybrid\")\n",
    "url.mpi = 1\n",
    "url.omp = 32\n",
    "url.queue = \"autumn4\""
   ]
  },
  {
   "cell_type": "markdown",
   "id": "0066cd40",
   "metadata": {},
   "source": [
    "Now try running it."
   ]
  },
  {
   "cell_type": "code",
   "execution_count": null,
   "id": "e5a47dfc",
   "metadata": {},
   "outputs": [],
   "source": [
    "%%execute_remotely url=url remote_dir=remote_dir extra_files_send=sendir : sname=geom\n",
    "from BigDFT.IO import read_pdb\n",
    "from BigDFT.Inputfiles import Inputfile\n",
    "from BigDFT.Calculators import SystemCalculator\n",
    "from os.path import join\n",
    "\n",
    "# System\n",
    "with open(join(\"input\", sname + \".pdb\")) as ifile:\n",
    "    sys = read_pdb(ifile)\n",
    "\n",
    "# Input\n",
    "inp = Inputfile()\n",
    "inp.set_xc(\"PBE0\")\n",
    "inp.set_hgrid(0.5)\n",
    "inp.set_psp_nlcc()\n",
    "inp[\"psolver\"] = {\"setup\": {\"accel\": \"CUDA\"}}\n",
    "\n",
    "# Compute\n",
    "calc = SystemCalculator(skip=True)\n",
    "\n",
    "# Determine the run name\n",
    "log = calc.run(sys=sys, input=inp, name=sname)"
   ]
  },
  {
   "cell_type": "code",
   "execution_count": null,
   "id": "05234614",
   "metadata": {},
   "outputs": [],
   "source": []
  }
 ],
 "metadata": {
  "kernelspec": {
   "display_name": "Python 3 (ipykernel)",
   "language": "python",
   "name": "python3"
  },
  "language_info": {
   "codemirror_mode": {
    "name": "ipython",
    "version": 3
   },
   "file_extension": ".py",
   "mimetype": "text/x-python",
   "name": "python",
   "nbconvert_exporter": "python",
   "pygments_lexer": "ipython3",
   "version": "3.11.0"
  }
 },
 "nbformat": 4,
 "nbformat_minor": 5
}
