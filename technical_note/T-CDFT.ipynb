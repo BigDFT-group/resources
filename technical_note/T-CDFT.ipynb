{
 "cells": [
  {
   "cell_type": "markdown",
   "metadata": {},
   "source": [
    "# Support Function-Based T-CDFT with Remote Manager\n",
    "\n",
    "Notebook containing the complete workflow for a singlet excitation using T-CDFT with a mixed constraint for an active molecule in an environment. It contains the following steps:\n",
    "\n",
    "0. Initialisation\n",
    "1. Run NWChem TDDFT for all `active' molecules in gas phase to determine:\n",
    "    - The transition orbitals and breakdown\n",
    "    - The number of negative virtual states to be optimised for in the `active' SF basis\n",
    "2. Generate SF basis for the `active' molecules, requiring 3 steps:\n",
    "    - Initial calculation using the standard LS parameters\n",
    "    - Calculation where the SFs are optimised to represent the virtual states\n",
    "    - Reoptimisation of the kernel in the above (fixed) basis to get the final kernel and coefficients\n",
    "3. Generate SF basis for the `environment' molecules, involving only 1 step (can be performed at the same time as 2):\n",
    "    - Calculation using standard LS parameters\n",
    "4. Setup the directory structure for fragment calculations, to be performed on the front end\n",
    "5. Run S0 and T-CDFT calculations for each system, for each pure constraint involved in the final transitions\n",
    "6. Combine the density kernels coming from the pure constraints using the appropriate weights, on the front end\n",
    "7. Run T-CDFT using the appropriate linear combination of density kernels generated in step 5"
   ]
  },
  {
   "cell_type": "markdown",
   "metadata": {},
   "source": [
    "### Step 0: Initialisation\n",
    "\n",
    "Setup systems"
   ]
  },
  {
   "cell_type": "code",
   "execution_count": 1,
   "metadata": {},
   "outputs": [
    {
     "name": "stdout",
     "output_type": "stream",
     "text": [
      "List of active molecules: ['acetone', 'naphthalene']\n",
      "List of environment molecules: ['water', 'naphthalene']\n"
     ]
    }
   ],
   "source": [
    "from copy import deepcopy\n",
    "\n",
    "# give a list of dictionaries for each system\n",
    "# where we give the name of each molecule and specify whether it is active or environment\n",
    "# for now only one active molecule per system is assumed, this could be generalised in future, e.g. for CT states\n",
    "system_compositions = {}\n",
    "system_compositions['acetone'] = [{'name': 'acetone', 'type': 'active'}]\n",
    "system_compositions['acetone_water'] = [{'name': 'acetone', 'type': 'active'},\n",
    "                                        {'name': 'water', 'type': 'environment'}]\n",
    "system_compositions['naphthalene'] = [{'name': 'naphthalene', 'type': 'active'}]\n",
    "system_compositions['naphthalene_dimer'] = [{'name': 'naphthalene', 'type': 'active'},\n",
    "                                            {'name': 'naphthalene', 'type': 'environment'}]\n",
    "\n",
    "\n",
    "# generate the list of active molecules from the system list\n",
    "active_names = []\n",
    "env_names = []\n",
    "for system in system_compositions:\n",
    "    for molecule_dict in system_compositions[system]:\n",
    "        mol_name = molecule_dict['name']\n",
    "        mol_type = molecule_dict['type']\n",
    "        if mol_type == 'active':\n",
    "            if mol_name not in active_names:\n",
    "                active_names.append(mol_name)\n",
    "        elif mol_type == 'environment':\n",
    "            if mol_name not in env_names:\n",
    "                env_names.append(mol_name)\n",
    "        else:\n",
    "            print('Error in molecule type for '+mol_name+' in '+system)\n",
    "\n",
    "print('List of active molecules:', active_names)\n",
    "print('List of environment molecules:', env_names)"
   ]
  },
  {
   "cell_type": "markdown",
   "metadata": {},
   "source": [
    "Define calculation parameters"
   ]
  },
  {
   "cell_type": "code",
   "execution_count": 2,
   "metadata": {},
   "outputs": [],
   "source": [
    "# XC functional\n",
    "xc = 'PBE'\n",
    "\n",
    "# wavelet parameters\n",
    "hgrid = 0.5\n",
    "crmult = 6.0\n",
    "frmult = 8.0\n",
    "\n",
    "# SF parameters\n",
    "active_basis_size = 'sp_spd'\n",
    "active_rloc = 8.0\n",
    "\n",
    "env_basis_size = 's_sp'\n",
    "env_rloc = 7.0\n",
    "env_tag = '1'\n",
    "\n",
    "# NWChem parameters\n",
    "nwchem_basis = 'cc-pVTZ'"
   ]
  },
  {
   "cell_type": "markdown",
   "metadata": {},
   "source": [
    "Setup remote manager"
   ]
  },
  {
   "cell_type": "code",
   "execution_count": 3,
   "metadata": {},
   "outputs": [],
   "source": [
    "from remotemanager import Dataset, URL\n",
    "from remotemanager.connection.computers.base import BaseComputer\n",
    "from remotemanager.serialisation import serialdill\n",
    "\n",
    "# remote computer username\n",
    "user = 'lra040'\n",
    "\n",
    "# remote directory to work in \n",
    "remote_dir = f'/work/e89/e89/lra040/tcdft'\n",
    "\n",
    "# directory to run in\n",
    "calc_dir = 'tcdft_workflow'\n",
    "\n",
    "# parameters associated with the supercomputer\n",
    "url = BaseComputer.from_yaml('archer2.yaml', user=user, passfile='/home/ff21106/Documents/.shp', timeout=15)\n",
    "#url = BaseComputer.from_repo('archer2', user=user, passfile='/home/lr408/.ssh/.shp', timeout=15)\n",
    "url.python = 'python3'\n",
    "\n",
    "url.extra = \"\"\"\n",
    "export BIGDFT_MPIRUN='srun --hint=nomultithread --distribution=block:block'\n",
    "export NWCHEM_MPIRUN='srun --hint=nomultithread --distribution=block:block'\n",
    "module swap PrgEnv-cray PrgEnv-gnu\n",
    "module load mkl\n",
    "module load nwchem\n",
    "source /work/e89/e89/lra040/bigdft-suite/Build/install/bin/bigdftvars.sh\n",
    "export OMP_PLACES=cores\"\"\"\n",
    "\n",
    "url.account = 'e89-bris-c'"
   ]
  },
  {
   "cell_type": "markdown",
   "metadata": {},
   "source": [
    "Read in the systems and constituent molecules as BigDFT systems, changing the atom names to include the environment tag for environment molecules - this allows us to specify different SF parameters for active and environment molecules"
   ]
  },
  {
   "cell_type": "code",
   "execution_count": 4,
   "metadata": {},
   "outputs": [],
   "source": [
    "def read_molecule(molecule_name, env_tag=None):\n",
    "    from os.path import join\n",
    "    from BigDFT.IO import read_xyz\n",
    "    \n",
    "    with open(join('xyzs', molecule_name+'.xyz')) as ifile:\n",
    "        sys = read_xyz(ifile)\n",
    "     \n",
    "    # add the environment tag if argument is present\n",
    "    if env_tag is not None:\n",
    "        for frag in sys:\n",
    "            for at in sys[frag]:\n",
    "                at.sym += env_tag       \n",
    "    return sys\n",
    "     \n",
    "    \n",
    "def read_system(system_name, system_composition, active_names, active_structures, \n",
    "                env_names, env_structures, env_tag):\n",
    "    from os.path import join\n",
    "    from BigDFT.IO import read_xyz\n",
    "    \n",
    "    with open(join('xyzs', system_name+'.xyz')) as ifile:\n",
    "        sys = read_xyz(ifile)    \n",
    "        \n",
    "    # loop over the constituent molecules, adding the environment tag as needed\n",
    "    atom_tags = []\n",
    "    for m,molecule in enumerate(system_composition):\n",
    "        if system_composition[m]['type']  == 'active':\n",
    "            mol_ind = active_names.index(system_composition[m]['name'])\n",
    "            nat = len(active_structures[mol_ind])\n",
    "            atom_tags += [''] * nat\n",
    "        elif system_composition[m]['type']  == 'environment':\n",
    "            mol_ind = env_names.index(system_composition[m]['name'])\n",
    "            nat = len(env_structures[mol_ind])\n",
    "            atom_tags += [env_tag] * nat\n",
    "\n",
    "    iat = 0\n",
    "    if env_tag is not None:\n",
    "        for frag in sys:\n",
    "            for at in sys[frag]:\n",
    "                at.sym += atom_tags[iat]\n",
    "                iat += 1\n",
    "    \n",
    "    return sys\n",
    "    \n",
    "\n",
    "active_structures = []\n",
    "for molecule in active_names:\n",
    "    active_structures.append(read_molecule(molecule))\n",
    "        \n",
    "env_structures = []\n",
    "for molecule in env_names:\n",
    "    env_structures.append(read_molecule(molecule, env_tag=env_tag))\n",
    "        \n",
    "system_structures = []\n",
    "for system in system_compositions:\n",
    "    system_structures.append(read_system(system, system_compositions[system], active_names, active_structures,\n",
    "                                         env_names, env_structures, env_tag))"
   ]
  },
  {
   "cell_type": "markdown",
   "metadata": {},
   "source": [
    "### Step 1: TDDFT Calculation with NWChem\n",
    "\n",
    "Define the function for treating a system with TDDFT, using PBE or PBE0"
   ]
  },
  {
   "cell_type": "code",
   "execution_count": 5,
   "metadata": {},
   "outputs": [],
   "source": [
    "def run_nwchem_tddft(sys_name, sys, basis, xc, thresh=0.001, nstates=1, restricted=True, tda=True):\n",
    "    from BigDFT.Interop.NWChemInterop import NWBlock, nwchem_basis, NWChemCalculator\n",
    "    \n",
    "    Ha2eV = 27.211396132\n",
    "\n",
    "    # Create an input file\n",
    "    inp = []\n",
    "\n",
    "    # Create the basis set\n",
    "    inp.append(nwchem_basis(sys, basis, spherical='spherical'))\n",
    "\n",
    "    # Create the DFT block\n",
    "    if xc == 'LDA':\n",
    "        dftvals = ['xc slater vwn_5']\n",
    "    if xc == 'PBE':\n",
    "        dftvals = ['xc xpbe96 1.0 cpbe96 1.0']\n",
    "    elif xc == 'PBE0':\n",
    "        dftvals = ['xc pbe0']\n",
    "    else:\n",
    "        print('Warning, currently only LDA, PBE and PBE0 have been implemented, defaulting to PBE')\n",
    "        dftvals = ['xc xpbe96 1.0 cpbe96 1.0']\n",
    "        \n",
    "    dftvals += ['convergence nolevelshifting', 'iterations 200', \n",
    "                'grid medium', 'direct', 'noio', 'grid nodisk']\n",
    "    if not restricted:\n",
    "        dftvals += ['odft']\n",
    "    inp.append(NWBlock('dft', values=dftvals))\n",
    "\n",
    "    # Create the TDDFT Block\n",
    "    # Search for more roots than we actually want to be safe\n",
    "    if tda:\n",
    "        tddft_block = NWBlock('tddft', values=['CIS', NWBlock('nroots', nstates+5)]) \n",
    "    else:\n",
    "        tddft_block = NWBlock('tddft', values=['RPA', NWBlock('nroots', nstates+5)]) \n",
    "    inp.append(tddft_block)\n",
    "    inp.append(NWBlock('task', 'tddft'))\n",
    "\n",
    "    # Create a calculator\n",
    "    code = NWChemCalculator(skip=True)\n",
    "    log = code.run(sys=sys, input=inp, name=sys_name)\n",
    "    \n",
    "    # Extract the excitation information\n",
    "    energy = {}\n",
    "    components = {}\n",
    "\n",
    "    tddft_data = log.get_tddft_roots()\n",
    "    \n",
    "    for st in ['singlet']:\n",
    "        istate = 0\n",
    "        for state in tddft_data:\n",
    "            if state == st:\n",
    "                for istate in range(nstates):\n",
    "                    comp = tddft_data[state][istate]\n",
    "                    tag = state.capitalize()[0] + str(istate + 1)\n",
    "                    energy[tag] = comp['Energy'] * Ha2eV\n",
    "                    ihomo = log.nocca\n",
    "                    components[tag] = []\n",
    "                    for v in comp['Components']:\n",
    "                        occ_orb = v['Occ']\n",
    "                        virt_orb = v['Virt']\n",
    "                        if not restricted:\n",
    "                            occ_spin = v['Spin_Occ']\n",
    "                            virt_spin = v['Spin_Virt']\n",
    "                        else:\n",
    "                            occ_spin = 0\n",
    "                            virt_spin = 0\n",
    "                        c = v['Comp']**2\n",
    "                        if c > thresh:\n",
    "                            components[tag].append([occ_orb-ihomo, virt_orb-ihomo-1, c, occ_spin, virt_spin]) \n",
    "            \n",
    "    return {'energy': energy, 'components': components}"
   ]
  },
  {
   "cell_type": "markdown",
   "metadata": {},
   "source": [
    "Setup and submit the dataset for the active molecules"
   ]
  },
  {
   "cell_type": "code",
   "execution_count": 6,
   "metadata": {},
   "outputs": [
    {
     "name": "stdout",
     "output_type": "stream",
     "text": [
      "runner runner-0 already exists\n",
      "runner runner-1 already exists\n",
      "assessing run for runner run_nwchem_tddft-be49c8d0-runner-0... skipping already completed run\n",
      "assessing run for runner run_nwchem_tddft-be49c8d0-runner-1... skipping already completed run\n"
     ]
    }
   ],
   "source": [
    "from os.path import join\n",
    "\n",
    "nnodes = 1\n",
    "nmpi = 128\n",
    "nomp = 1\n",
    "\n",
    "run_args = {}\n",
    "run_args['mpi'] = nnodes * nmpi\n",
    "run_args['omp'] = nomp\n",
    "run_args['time'] = 8 * 3600\n",
    "\n",
    "active_tddft_runs = Dataset(function=run_nwchem_tddft, url=url, name='run_nwchem_tddft',\n",
    "                            remote_dir=join(remote_dir, calc_dir), local_dir=calc_dir,\n",
    "                            serialiser=serialdill(), skip=False)\n",
    "\n",
    "active_tddft_run_names = []\n",
    "\n",
    "for m,molecule in enumerate(active_names):  \n",
    "    run_name = molecule\n",
    "    run_args['jobname'] = run_name+'_TDDFT'\n",
    "    func_kwargs = dict(sys_name=molecule, sys=active_structures[m], basis=nwchem_basis, xc=xc,\n",
    "                       thresh=0.01, restricted=True, tda=False)\n",
    "    \n",
    "    active_tddft_runs.append_run(args=func_kwargs, local_dir=calc_dir, **run_args)\n",
    "    active_tddft_run_names.append(run_name)    \n",
    "\n",
    "active_tddft_runs.run()"
   ]
  },
  {
   "cell_type": "markdown",
   "metadata": {},
   "source": [
    "Pause to allow calculations to finish running if running the notebook using \"run all\""
   ]
  },
  {
   "cell_type": "code",
   "execution_count": 7,
   "metadata": {},
   "outputs": [
    {
     "ename": "AssertionError",
     "evalue": "",
     "output_type": "error",
     "traceback": [
      "\u001b[0;31m---------------------------------------------------------------------------\u001b[0m",
      "\u001b[0;31mAssertionError\u001b[0m                            Traceback (most recent call last)",
      "Cell \u001b[0;32mIn[7], line 1\u001b[0m\n\u001b[0;32m----> 1\u001b[0m \u001b[38;5;28;01massert\u001b[39;00m \u001b[38;5;28;01mFalse\u001b[39;00m\n",
      "\u001b[0;31mAssertionError\u001b[0m: "
     ]
    }
   ],
   "source": [
    "assert False"
   ]
  },
  {
   "cell_type": "markdown",
   "metadata": {},
   "source": [
    "Check status"
   ]
  },
  {
   "cell_type": "code",
   "execution_count": 8,
   "metadata": {},
   "outputs": [
    {
     "name": "stdout",
     "output_type": "stream",
     "text": [
      "[True, True]\n"
     ]
    }
   ],
   "source": [
    "print(active_tddft_runs.is_finished)"
   ]
  },
  {
   "cell_type": "markdown",
   "metadata": {},
   "source": [
    "Fetch results"
   ]
  },
  {
   "cell_type": "code",
   "execution_count": 9,
   "metadata": {},
   "outputs": [],
   "source": [
    "active_tddft_runs.fetch_results()"
   ]
  },
  {
   "cell_type": "markdown",
   "metadata": {},
   "source": [
    "Summarise the results in a table."
   ]
  },
  {
   "cell_type": "code",
   "execution_count": 10,
   "metadata": {},
   "outputs": [
    {
     "data": {
      "text/html": [
       "<div>\n",
       "<style scoped>\n",
       "    .dataframe tbody tr th:only-of-type {\n",
       "        vertical-align: middle;\n",
       "    }\n",
       "\n",
       "    .dataframe tbody tr th {\n",
       "        vertical-align: top;\n",
       "    }\n",
       "\n",
       "    .dataframe thead th {\n",
       "        text-align: right;\n",
       "    }\n",
       "</style>\n",
       "<table border=\"1\" class=\"dataframe\">\n",
       "  <thead>\n",
       "    <tr style=\"text-align: right;\">\n",
       "      <th></th>\n",
       "      <th>Energy</th>\n",
       "      <th>HOMO -&gt; LUMO</th>\n",
       "      <th>Sum</th>\n",
       "    </tr>\n",
       "  </thead>\n",
       "  <tbody>\n",
       "    <tr>\n",
       "      <th>acetone</th>\n",
       "      <td></td>\n",
       "      <td></td>\n",
       "      <td></td>\n",
       "    </tr>\n",
       "    <tr>\n",
       "      <th>S1</th>\n",
       "      <td>4.18</td>\n",
       "      <td>1.000</td>\n",
       "      <td>1.000</td>\n",
       "    </tr>\n",
       "  </tbody>\n",
       "</table>\n",
       "</div>"
      ],
      "text/plain": [
       "        Energy HOMO -> LUMO    Sum\n",
       "acetone                           \n",
       "S1        4.18        1.000  1.000"
      ]
     },
     "metadata": {},
     "output_type": "display_data"
    },
    {
     "data": {
      "text/html": [
       "<div>\n",
       "<style scoped>\n",
       "    .dataframe tbody tr th:only-of-type {\n",
       "        vertical-align: middle;\n",
       "    }\n",
       "\n",
       "    .dataframe tbody tr th {\n",
       "        vertical-align: top;\n",
       "    }\n",
       "\n",
       "    .dataframe thead th {\n",
       "        text-align: right;\n",
       "    }\n",
       "</style>\n",
       "<table border=\"1\" class=\"dataframe\">\n",
       "  <thead>\n",
       "    <tr style=\"text-align: right;\">\n",
       "      <th></th>\n",
       "      <th>Energy</th>\n",
       "      <th>HOMO-2 -&gt; LUMO+2</th>\n",
       "      <th>HOMO-1 -&gt; LUMO+1</th>\n",
       "      <th>HOMO -&gt; LUMO</th>\n",
       "      <th>Sum</th>\n",
       "    </tr>\n",
       "  </thead>\n",
       "  <tbody>\n",
       "    <tr>\n",
       "      <th>naphthalene</th>\n",
       "      <td></td>\n",
       "      <td></td>\n",
       "      <td></td>\n",
       "      <td></td>\n",
       "      <td></td>\n",
       "    </tr>\n",
       "    <tr>\n",
       "      <th>S1</th>\n",
       "      <td>4.07</td>\n",
       "      <td>0.036</td>\n",
       "      <td>0.033</td>\n",
       "      <td>0.932</td>\n",
       "      <td>1.001</td>\n",
       "    </tr>\n",
       "  </tbody>\n",
       "</table>\n",
       "</div>"
      ],
      "text/plain": [
       "            Energy HOMO-2 -> LUMO+2 HOMO-1 -> LUMO+1 HOMO -> LUMO    Sum\n",
       "naphthalene                                                             \n",
       "S1            4.07            0.036            0.033        0.932  1.001"
      ]
     },
     "metadata": {},
     "output_type": "display_data"
    }
   ],
   "source": [
    "import pandas as pd\n",
    "from IPython.display import display\n",
    "\n",
    "# convert the orbital index to a string for displaying in a table\n",
    "def orbital_index_to_name(index, occupied=True):\n",
    "    if occupied:\n",
    "        if index == 0:\n",
    "            name = 'HOMO'\n",
    "        else:\n",
    "            name = 'HOMO'+str(index)\n",
    "    else:\n",
    "        if index == 0:\n",
    "            name = 'LUMO'\n",
    "        else:\n",
    "            name = 'LUMO+'+str(index)\n",
    "            \n",
    "    return name\n",
    "\n",
    "# define a function to return a table summarising the excitations for each molecule\n",
    "def get_tddft_table(molecule, tddft_data, thresh=0, restricted=True):\n",
    "    \n",
    "    # even if we perform TDDFT calculation in unrestricted mode, we don't want a spin dependent constraint\n",
    "    # since all our molecules are closed shell, we can just add a factor of 2,\n",
    "    # but we might want to treat the spin components more robustly in the future\n",
    "    if restricted:\n",
    "        spin_fac = 1\n",
    "    else:\n",
    "        spin_fac = 2\n",
    "    \n",
    "    # find all pairs of orbitals involved in transitions above some threshold\n",
    "    # note this threshold must be >= that specified when extracting the results from NWChem\n",
    "    orbital_indices = []\n",
    "    for state in tddft_data['components']:\n",
    "        for component in tddft_data['components'][state]:\n",
    "            if component[2] > thresh:\n",
    "                if [component[0], component[1]] not in orbital_indices:\n",
    "                    orbital_indices.append([component[0], component[1]])\n",
    "    orbital_indices.sort(key=lambda tup: tup[1])\n",
    "    orbital_indices.sort()\n",
    "\n",
    "    # get the column headings based on the involved orbitals\n",
    "    column_names = ['Energy']\n",
    "    for ind in orbital_indices:\n",
    "        occ_name = orbital_index_to_name(ind[0], occupied=True)\n",
    "        virt_name = orbital_index_to_name(ind[1], occupied=False)\n",
    "        column_names.append(occ_name+' -> '+virt_name)\n",
    "    column_names.append('Sum')              \n",
    "    \n",
    "    # now the row headings, which are just the excited states\n",
    "    row_names = [molecule] + [state for state in tddft_data['components']]    \n",
    "    \n",
    "    # fill in the table data, reordering the components as we go\n",
    "    table_data = [[''] * (len(column_names))]\n",
    "    for state in tddft_data['components']:\n",
    "        table_row = ['{0:.2f}'.format(tddft_data['energy'][state])]\n",
    "        transition_sum = 0.0\n",
    "        for ind in orbital_indices:\n",
    "            occ_ind = ind[0]\n",
    "            virt_ind = ind[1]\n",
    "            found = False\n",
    "            for component in tddft_data['components'][state]:\n",
    "                if component[0] == occ_ind and component[1] == virt_ind and component[2] > thresh:\n",
    "                    table_row.append('{0:.3f}'.format(spin_fac * component[2]))\n",
    "                    transition_sum += spin_fac * component[2]\n",
    "                    found = True\n",
    "                    break\n",
    "            if not found:\n",
    "                table_row.append('')\n",
    "        table_row.append('{0:.3f}'.format(transition_sum))\n",
    "        table_data.append(table_row)\n",
    "            \n",
    "    table = pd.DataFrame(table_data, index=row_names, columns=column_names)\n",
    "    return table\n",
    "    \n",
    "        \n",
    "# summarise the TDDFT results in a single table for each active molecule\n",
    "for m,molecule in enumerate(active_names): \n",
    "    tddft_table = get_tddft_table(molecule, active_tddft_runs.results[m], restricted=True)\n",
    "    display(tddft_table)"
   ]
  },
  {
   "cell_type": "markdown",
   "metadata": {},
   "source": [
    "Define the number of virtual orbitals based on the highest energy virtual state involved in the target excitations, noting that if this is very high it might not be possible to represent the states sufficiently accurately in a localised support function basis"
   ]
  },
  {
   "cell_type": "code",
   "execution_count": 11,
   "metadata": {},
   "outputs": [],
   "source": [
    "nvirts = {}\n",
    "for m,molecule in enumerate(active_names):   \n",
    "    nvirts[molecule] = 0\n",
    "    for state in active_tddft_runs.results[m]['components']:\n",
    "        for component in active_tddft_runs.results[m]['components'][state]:\n",
    "            nvirts[molecule] = max(nvirts[molecule], component[1] + 1)"
   ]
  },
  {
   "cell_type": "markdown",
   "metadata": {},
   "source": [
    "### Step 2: Generate SF Basis for Active and Environment Molecules\n",
    "\n",
    "Define function to get name of SF radicals based on SF parameters, to save having to remember syntax. Also do the same for system calculations, which cannot be so strictly tied to the basis due to different environment and active."
   ]
  },
  {
   "cell_type": "code",
   "execution_count": 12,
   "metadata": {},
   "outputs": [],
   "source": [
    "def get_radical_name(molecule, xc, basis_size, rloc):\n",
    "    return molecule+'_'+str(xc)+'_SF_'+basis_size+'_'+str(rloc)\n",
    "\n",
    "from remotemanager import RemoteFunction\n",
    "\n",
    "@RemoteFunction\n",
    "def get_system_name(system, xc, calc_type, orbitals=None, mixed=False):\n",
    "    name = system+'_'+str(xc)+'_SF_'+calc_type\n",
    "    # should only be one or another, would be too long to include all orbitals in a mixed calculation\n",
    "    if mixed and orbitals is not None:\n",
    "        print('Error, orbitals should not be specified in the case of mixed calculations')\n",
    "        assert False\n",
    "    if orbitals is not None:\n",
    "        name += '_pure_'+orbitals[0]+'_'+orbitals[1]\n",
    "    elif mixed:\n",
    "        name += '_mixed'        \n",
    "    return name"
   ]
  },
  {
   "cell_type": "markdown",
   "metadata": {},
   "source": [
    "Define function to set up basis set parameters for linear, virtual or system (i.e. fixed basis)"
   ]
  },
  {
   "cell_type": "code",
   "execution_count": 17,
   "metadata": {},
   "outputs": [],
   "source": [
    "# input_type = linear, virtual or system\n",
    "# if this is a mixed basis calculation, then all arguments related to the environment basis must be present\n",
    "def get_LS_input_file(hgrid, crmult, frmult, xc, basis_size, rloc, input_type='linear', nvirt=0,\n",
    "                      env_basis_size=None, env_rloc=None, env_tag=None):\n",
    "    from BigDFT import Inputfiles as I, InputActions as A\n",
    "    import sf_sizes\n",
    "    from os.path import join, abspath, dirname\n",
    "    import sys\n",
    "    \n",
    "    # define input file\n",
    "    inp = I.Inputfile()\n",
    "    \n",
    "    # setup wavelet basis set and PSP parameters\n",
    "    inp.set_hgrid(hgrid)\n",
    "    inp.set_rmult(coarse=crmult, fine=frmult)\n",
    "    inp.set_xc(xc)\n",
    "\n",
    "    # set the PSP file - here we hard code the BigDFT path on this laptop\n",
    "    # to eventually be made more robust\n",
    "    path = abspath('/home/ff21106/bigdft-suite/PyBigDFT/BigDFT/Database/psppar/SS')\n",
    "    #path = abspath('/home/lr408/bigdft_gl_lsim/PyBigDFT/BigDFT/Database/psppar/SS')\n",
    "    for element in ['C', 'N', 'H', 'O']:\n",
    "        psp_file = abspath(join(path, 'psppar.'+element+'.yaml'))\n",
    "        inp.set_psp_file(filename=psp_file, element=element)\n",
    "        if env_tag is not None:\n",
    "            inp.set_psp_file(filename=psp_file, element=element+env_tag)\n",
    "        \n",
    "    # common LS parameters\n",
    "    inp['import'] = 'linear'\n",
    "    inp.update({'lin_general': {'rpnrm_cv': 1.0e-11, 'charge_multipoles': 0}})\n",
    "        \n",
    "    # linear calculation for ground state\n",
    "    if input_type == 'linear':\n",
    "        inp.update({'lin_general': {'output_wf': 1, 'output_mat': 1}})\n",
    "        inp.update({'lin_kernel': {'linear_method': 'DIAG', 'alphamix': 0.1}})\n",
    "\n",
    "    # non-self-consistent linear calculations for virtual state(s)\n",
    "    elif input_type == 'virtual':\n",
    "        inp['dft'].update({'inputpsiid': 'linear_restart'}) \n",
    "        inp.update({'perf': {'adjust_kernel_iterations': False, 'adjust_kernel_threshold': False}})\n",
    "        inp['lin_general'].update({'hybrid': False, 'kernel_restart_mode': 'coeff', 'nit': [0, 200],\n",
    "                                   'rpnrm_cv': 1.0e-8, 'output_wf': 1, 'output_mat': 1, 'extra_states': nvirt})\n",
    "        inp.update({'lin_basis': {'nit': 4, 'idsx': 2, 'fix_basis': 0.0, 'gnrm_cv': 1.0e-2}})\n",
    "        inp.update({'lin_kernel': {'nit': 1, 'rpnrm_cv': 1.0e-8, 'delta_pnrm': -1, 'linear_method': 'DIRMIN', \n",
    "                                   'alphamix': 0.0, 'nstep':  500, 'gnrm_cv_coeff': 1.0e-4}})\n",
    "        \n",
    "        # crashes while writing orbitals, only needed for WFN-based TCDFT or for CT parameter (not yet here)\n",
    "        # so skipping for now\n",
    "        #inp.update({'output': {'orbitals': 'text'}})\n",
    "        inp.update({'mix': {'norbsempty': nvirt}})\n",
    "    \n",
    "    # the system input file, for calculations to be performed in a fixed basis\n",
    "    elif input_type == 'system':\n",
    "        inp['dft'].update({'inputpsiid': 'linear_restart'}) \n",
    "        inp.update({'perf': {'adjust_kernel_iterations': False, 'adjust_kernel_threshold': False}})\n",
    "        inp.update({'lin_general': {'output_wf': 0, 'output_mat': 0, 'hybrid': False, 'output_fragments': 2,\n",
    "                                    'nit': [0, 1], 'subspace_diag': True, 'charge_multipoles': 0}})\n",
    "        inp.update({'lin_basis': {'nit': 1, 'idsx': 0}})\n",
    "        inp.update({'lin_kernel': {'nit': 100, 'rpnrm_cv': 1.0e-11, 'delta_pnrm': -1, \n",
    "                                   'alphamix': 0.1, 'linear_method': 'DIAG'}})\n",
    "\n",
    "    else:\n",
    "        print('Error with input_type ', input_type, ' must be linear, virtual or system')\n",
    "        assert False\n",
    "\n",
    "    # set up the basis, making sure the kernel cutoff is large enough to give dense matrices needed by T-CDFT\n",
    "    if rloc == 'l':\n",
    "        rlock = 'l'\n",
    "    else:\n",
    "        rlock = rloc + 100\n",
    "    # if we have a tag and this is not a mixed calculation, use it now\n",
    "    if env_tag is not None and (env_basis_size is None or env_rloc is None):\n",
    "        lin_basis_dict = sf_sizes.set_support_function_dict(rloc, rlock, basis_size, tag=env_tag)\n",
    "    else:\n",
    "        lin_basis_dict = sf_sizes.set_support_function_dict(rloc, rlock, basis_size)\n",
    "    \n",
    "    if env_tag is not None and env_basis_size is not None and env_rloc is not None:\n",
    "        if env_rloc == 'l':\n",
    "            env_rlock = 'l'\n",
    "        else:\n",
    "            # the kernel cutoff can be smaller, as we are not performing an excitation which needs dense matrices\n",
    "            env_rlock = env_rloc + 10\n",
    "        env_mol_lin_basis_dict = sf_sizes.set_support_function_dict(env_rloc, env_rlock,\n",
    "                                                                    env_basis_size, tag=env_tag)\n",
    "        lin_basis_dict['lin_basis_params'].update(env_mol_lin_basis_dict['lin_basis_params'])\n",
    "        lin_basis_dict['ig_occupation'].update(env_mol_lin_basis_dict['ig_occupation'])\n",
    "        \n",
    "    # the tag on its own is fine, but other possibilities are meaningless\n",
    "    elif env_basis_size is not None or env_rloc is not None:\n",
    "        print('Error, all environment basis parameters must be present, ignoring')\n",
    "\n",
    "    inp.update(lin_basis_dict)   \n",
    "\n",
    "    return inp"
   ]
  },
  {
   "cell_type": "markdown",
   "metadata": {},
   "source": [
    "Define a function to generate the SF basis, which will run the different calculations as needed"
   ]
  },
  {
   "cell_type": "code",
   "execution_count": 14,
   "metadata": {},
   "outputs": [],
   "source": [
    "def generate_sf_basis(system, inpl=None, inpv=None, inps=None):\n",
    "    from BigDFT import Calculators as C\n",
    "    from futile.Utils import create_tarball\n",
    "    from os.path import join\n",
    "    \n",
    "    Ha2eV = 27.211396132\n",
    "\n",
    "    # create the calculator\n",
    "    code = C.SystemCalculator(skip=True)\n",
    "\n",
    "    # save a summary of the results\n",
    "    results_dict = {}\n",
    "     \n",
    "    if inpl is not None:\n",
    "        # SF calculation using standard LS parameters\n",
    "        lin_name = inpl['radical']+'_linear'\n",
    "        run_lin = code.run(input=inpl, sys=system, name=lin_name) \n",
    "        ihomo = run_lin.log['Total Number of Orbitals']\n",
    "        results_dict['ihomo'] = ihomo\n",
    "        results_dict['linear'] = {}\n",
    "        results_dict['linear']['energy'] = Ha2eV * run_lin.energy / run_lin.nat\n",
    "        results_dict['linear']['evals'] = [Ha2eV * e for e in run_lin.evals[0][0]]\n",
    "    \n",
    "    if inpv is not None:\n",
    "        # SF calculation also optimising the virtual states\n",
    "        virt_name = inpv['radical']+'_virtual'\n",
    "        run_virt = code.run(input=inpv, sys=system, name=virt_name) \n",
    "        results_dict['virtual'] = {}\n",
    "        results_dict['virtual']['energy'] = Ha2eV * run_virt.energy / run_virt.nat\n",
    "        results_dict['virtual']['evals'] = [Ha2eV * e for e in run_virt.evals[0][0]]\n",
    "\n",
    "    if inps is not None:\n",
    "        # SF calculation optimising only the kernel in a fixed basis\n",
    "        # modify the input file to output the matrices and SFs, which we don't want to do in the more general case\n",
    "        inps['lin_general'].update({'kernel_restart_mode': 'kernel', 'output_wf': 1, 'output_mat': 1})      \n",
    "        s0_name = inps['radical']+'_S0'\n",
    "        run_s0 = code.run(input=inps, sys=system, name=s0_name)   \n",
    "        results_dict['S0'] = {}\n",
    "        results_dict['S0']['energy'] = Ha2eV * run_s0.energy / run_s0.nat\n",
    "        results_dict['S0']['evals'] = [Ha2eV * e for e in run_s0.evals[0][0]]\n",
    "  \n",
    "    return results_dict"
   ]
  },
  {
   "cell_type": "markdown",
   "metadata": {},
   "source": [
    "Set up and submit dataset for active molecules"
   ]
  },
  {
   "cell_type": "code",
   "execution_count": 18,
   "metadata": {},
   "outputs": [
    {
     "name": "stdout",
     "output_type": "stream",
     "text": [
      "appended run runner-0\n",
      "appended run runner-1\n",
      "assessing run for runner generate_active_sf_basis-f665e94b-runner-0... running\n",
      "128 total cores requested\n",
      "appending partition = qos (standard)\n",
      "script parsing complete\n",
      "assessing run for runner generate_active_sf_basis-f665e94b-runner-1... running\n",
      "128 total cores requested\n",
      "appending partition = qos (standard)\n",
      "script parsing complete\n"
     ]
    }
   ],
   "source": [
    "# change the MPI/OpenMP layout to be more suited to BigDFT\n",
    "nnodes = 1\n",
    "nmpi = 16\n",
    "nomp = 8\n",
    "\n",
    "run_args = {}\n",
    "run_args['mpi'] = nnodes * nmpi\n",
    "run_args['omp'] = nomp\n",
    "run_args['time'] = 1 * 3600\n",
    "\n",
    "active_sf_runs = Dataset(function=generate_sf_basis, url=url, name='generate_active_sf_basis',\n",
    "                         remote_dir=join(remote_dir, calc_dir), local_dir=calc_dir,\n",
    "                         serialiser=serialdill(), skip=False)\n",
    "\n",
    "active_sf_run_names = []\n",
    " \n",
    "for m,molecule in enumerate(active_names):  \n",
    "    # get input files to pass as arguments\n",
    "    inpl = get_LS_input_file(hgrid, crmult, frmult, xc, active_basis_size, active_rloc, input_type='linear')\n",
    "    inpv = get_LS_input_file(hgrid, crmult, frmult, xc, active_basis_size, active_rloc, input_type='virtual',\n",
    "                             nvirt=nvirts[molecule])\n",
    "    inps = get_LS_input_file(hgrid, crmult, frmult, xc, active_basis_size, active_rloc, input_type='system')\n",
    "    \n",
    "    radical = get_radical_name(molecule, xc, active_basis_size, active_rloc)\n",
    "    for inp in [inpl, inpv, inps]:\n",
    "        inp.update({'radical': radical})\n",
    "    run_args['jobname'] = radical\n",
    "    func_kwargs = dict(system=active_structures[m], inpl=inpl, inpv=inpv, inps=inps)\n",
    "    active_sf_runs.append_run(args=func_kwargs, local_dir=calc_dir, **run_args)\n",
    "    active_sf_run_names.append(radical)    \n",
    "\n",
    "active_sf_runs.run()"
   ]
  },
  {
   "cell_type": "markdown",
   "metadata": {},
   "source": [
    "Do the same for environment molecules"
   ]
  },
  {
   "cell_type": "code",
   "execution_count": 20,
   "metadata": {},
   "outputs": [
    {
     "name": "stdout",
     "output_type": "stream",
     "text": [
      "appended run runner-0\n",
      "appended run runner-1\n",
      "assessing run for runner generate_env_sf_basis-e874aebb-runner-0... running\n",
      "128 total cores requested\n",
      "appending partition = qos (standard)\n",
      "script parsing complete\n",
      "assessing run for runner generate_env_sf_basis-e874aebb-runner-1... running\n",
      "128 total cores requested\n",
      "appending partition = qos (standard)\n",
      "script parsing complete\n"
     ]
    }
   ],
   "source": [
    "run_args = {}\n",
    "run_args['mpi'] = nnodes * nmpi\n",
    "run_args['omp'] = nomp\n",
    "run_args['time'] = 1 * 3600\n",
    "\n",
    "env_sf_runs = Dataset(function=generate_sf_basis, url=url, name='generate_env_sf_basis',\n",
    "                      remote_dir=join(remote_dir, calc_dir), local_dir=calc_dir, serialiser=serialdill(),\n",
    "                      skip=False)\n",
    "\n",
    "env_sf_run_names = []\n",
    "\n",
    "for m,molecule in enumerate(env_names):  \n",
    "    inpl = get_LS_input_file(hgrid, crmult, frmult, xc, env_basis_size, env_rloc, env_tag=env_tag,\n",
    "                             input_type='linear')\n",
    "    \n",
    "    radical = get_radical_name(molecule, xc, env_basis_size, env_rloc)\n",
    "    inpl.update({'radical': radical})\n",
    "    run_args['jobname'] = radical\n",
    "    func_kwargs = dict(system=env_structures[m], inpl=inpl)\n",
    "    env_sf_runs.append_run(args=func_kwargs, local_dir=calc_dir, **run_args)\n",
    "    env_sf_run_names.append(radical)\n",
    "\n",
    "env_sf_runs.run()"
   ]
  },
  {
   "cell_type": "markdown",
   "metadata": {},
   "source": [
    "Pause to allow calculations to finish running if running the notebook using \"run all\""
   ]
  },
  {
   "cell_type": "code",
   "execution_count": 21,
   "metadata": {},
   "outputs": [
    {
     "ename": "AssertionError",
     "evalue": "",
     "output_type": "error",
     "traceback": [
      "\u001b[0;31m---------------------------------------------------------------------------\u001b[0m",
      "\u001b[0;31mAssertionError\u001b[0m                            Traceback (most recent call last)",
      "Cell \u001b[0;32mIn[21], line 1\u001b[0m\n\u001b[0;32m----> 1\u001b[0m \u001b[38;5;28;01massert\u001b[39;00m \u001b[38;5;28;01mFalse\u001b[39;00m\n",
      "\u001b[0;31mAssertionError\u001b[0m: "
     ]
    }
   ],
   "source": [
    "assert False"
   ]
  },
  {
   "cell_type": "markdown",
   "metadata": {},
   "source": [
    "Check status"
   ]
  },
  {
   "cell_type": "code",
   "execution_count": 22,
   "metadata": {},
   "outputs": [
    {
     "name": "stdout",
     "output_type": "stream",
     "text": [
      "[True, True]\n",
      "[True, True]\n"
     ]
    }
   ],
   "source": [
    "print(active_sf_runs.is_finished)\n",
    "print(env_sf_runs.is_finished)"
   ]
  },
  {
   "cell_type": "markdown",
   "metadata": {},
   "source": [
    "Fetch results"
   ]
  },
  {
   "cell_type": "code",
   "execution_count": 23,
   "metadata": {},
   "outputs": [],
   "source": [
    "active_sf_runs.fetch_results()\n",
    "env_sf_runs.fetch_results()"
   ]
  },
  {
   "cell_type": "markdown",
   "metadata": {},
   "source": [
    "Summarise results"
   ]
  },
  {
   "cell_type": "code",
   "execution_count": 24,
   "metadata": {},
   "outputs": [
    {
     "data": {
      "text/html": [
       "<div>\n",
       "<style scoped>\n",
       "    .dataframe tbody tr th:only-of-type {\n",
       "        vertical-align: middle;\n",
       "    }\n",
       "\n",
       "    .dataframe tbody tr th {\n",
       "        vertical-align: top;\n",
       "    }\n",
       "\n",
       "    .dataframe thead th {\n",
       "        text-align: right;\n",
       "    }\n",
       "</style>\n",
       "<table border=\"1\" class=\"dataframe\">\n",
       "  <thead>\n",
       "    <tr style=\"text-align: right;\">\n",
       "      <th></th>\n",
       "      <th>$E$ (eV/atom)</th>\n",
       "      <th>HOMO (eV)</th>\n",
       "      <th>LUMO (eV)</th>\n",
       "    </tr>\n",
       "  </thead>\n",
       "  <tbody>\n",
       "    <tr>\n",
       "      <th>Active</th>\n",
       "      <td></td>\n",
       "      <td></td>\n",
       "      <td></td>\n",
       "    </tr>\n",
       "    <tr>\n",
       "      <th>acetone/linear</th>\n",
       "      <td>-108.037</td>\n",
       "      <td>-5.53</td>\n",
       "      <td>-1.20</td>\n",
       "    </tr>\n",
       "    <tr>\n",
       "      <th>acetone/linear+virtual</th>\n",
       "      <td>-108.037</td>\n",
       "      <td>-5.53</td>\n",
       "      <td>-1.63</td>\n",
       "    </tr>\n",
       "    <tr>\n",
       "      <th>naphthalene/linear</th>\n",
       "      <td>-106.580</td>\n",
       "      <td>-5.45</td>\n",
       "      <td>-1.75</td>\n",
       "    </tr>\n",
       "    <tr>\n",
       "      <th>naphthalene/linear+virtual</th>\n",
       "      <td>-106.579</td>\n",
       "      <td>-5.50</td>\n",
       "      <td>-2.09</td>\n",
       "    </tr>\n",
       "    <tr>\n",
       "      <th>Environment</th>\n",
       "      <td></td>\n",
       "      <td></td>\n",
       "      <td></td>\n",
       "    </tr>\n",
       "    <tr>\n",
       "      <th>water/linear</th>\n",
       "      <td>-159.672</td>\n",
       "      <td>-7.12</td>\n",
       "      <td></td>\n",
       "    </tr>\n",
       "    <tr>\n",
       "      <th>naphthalene/linear</th>\n",
       "      <td>-106.575</td>\n",
       "      <td>-5.40</td>\n",
       "      <td></td>\n",
       "    </tr>\n",
       "  </tbody>\n",
       "</table>\n",
       "</div>"
      ],
      "text/plain": [
       "                           $E$ (eV/atom) HOMO (eV) LUMO (eV)\n",
       "Active                                                      \n",
       "acetone/linear                  -108.037     -5.53     -1.20\n",
       "acetone/linear+virtual          -108.037     -5.53     -1.63\n",
       "naphthalene/linear              -106.580     -5.45     -1.75\n",
       "naphthalene/linear+virtual      -106.579     -5.50     -2.09\n",
       "Environment                                                 \n",
       "water/linear                    -159.672     -7.12          \n",
       "naphthalene/linear              -106.575     -5.40          "
      ]
     },
     "metadata": {},
     "output_type": "display_data"
    }
   ],
   "source": [
    "column_names = ['$E$ (eV/atom)', 'HOMO (eV)', 'LUMO (eV)']\n",
    "\n",
    "row_names = ['Active']\n",
    "table_data = [[''] * 3]\n",
    "for a,molecule in enumerate(active_names):\n",
    "    ihomo = active_sf_runs.results[a]['ihomo']\n",
    "    for calc in ['linear', 'S0']:\n",
    "        if calc == 'linear':\n",
    "            row_names.append(molecule + '/' + calc)\n",
    "        else:\n",
    "            row_names.append(molecule + '/linear+virtual')\n",
    "        energy = '{0:.3f}'.format(active_sf_runs.results[a][calc]['energy'])\n",
    "        homo = '{0:.2f}'.format(active_sf_runs.results[a][calc]['evals'][ihomo - 1])\n",
    "        lumo = '{0:.2f}'.format(active_sf_runs.results[a][calc]['evals'][ihomo])\n",
    "        table_data.append([energy, homo, lumo])\n",
    "\n",
    "row_names.append('Environment')\n",
    "table_data.append([''] * 3)\n",
    "for a,molecule in enumerate(env_names):\n",
    "    row_names.append(molecule + '/linear')\n",
    "    ihomo = env_sf_runs.results[a]['ihomo']\n",
    "    energy = '{0:.3f}'.format(env_sf_runs.results[a]['linear']['energy'])\n",
    "    homo = '{0:.2f}'.format(env_sf_runs.results[a]['linear']['evals'][ihomo - 1])\n",
    "    table_data.append([energy, homo, ''])\n",
    "\n",
    "sf_table = pd.DataFrame(table_data, index=row_names, columns=column_names)\n",
    "display(sf_table)"
   ]
  },
  {
   "cell_type": "markdown",
   "metadata": {},
   "source": [
    "### Step 4: Directory Manipulation\n",
    "\n",
    "Define functions for setting up fragment calculations, which need to:\n",
    "- get the fragment dictionary for the input file and general setup information\n",
    "- setup the fragment directories and position files inside a given directory using the output of the previous step\n",
    "- edit the dictionary coming from a minBasis.yaml file so that a) the SFs point to those in the original template directory and b) for triplet claculations the SFs generated in a restricted calculation are duplicated to allow an unrestricted calculation"
   ]
  },
  {
   "cell_type": "code",
   "execution_count": 25,
   "metadata": {},
   "outputs": [],
   "source": [
    "def get_fragment_dict(system_composition, xc, active_basis_size, active_rloc, env_basis_size, env_rloc,\n",
    "                      active_names, env_names, active_structures, env_structures):\n",
    "    # the actual dictionary to be used for the BigDFT input\n",
    "    frag_dict = {}\n",
    "    # unique fragments with their radical, name and position files\n",
    "    frag_setup = []\n",
    "    for m,molecule_dict in enumerate(system_composition):\n",
    "        mol_name = molecule_dict['name']\n",
    "        mol_type = molecule_dict['type']\n",
    "        if mol_type == 'active':\n",
    "            frag_name = get_radical_name(mol_name, xc, active_basis_size, active_rloc)\n",
    "            structure = active_structures[active_names.index(mol_name)]\n",
    "        elif mol_type == 'environment':\n",
    "            frag_name = get_radical_name(mol_name, xc, env_basis_size, env_rloc)\n",
    "            structure = env_structures[env_names.index(mol_name)]\n",
    "        else:\n",
    "            print('Error with fragment type ', system_composition[molecule], ' must be active or environment')\n",
    "            assert False\n",
    "    \n",
    "        if frag_name in frag_dict:\n",
    "            frag_dict[frag_name].append(m + 1)\n",
    "        else:\n",
    "            frag_dict[frag_name] = [m + 1]\n",
    "            frag_setup.append({frag_name: {'name': mol_name, 'radical': frag_name, 'structure': structure}})\n",
    "\n",
    "    return frag_dict, frag_setup\n",
    "\n",
    "@RemoteFunction\n",
    "def setup_fragment_directory(dirname, frag_setup, remote_dir):\n",
    "    from os.path import exists, join, islink\n",
    "    from os import mkdir, symlink\n",
    "    from BigDFT.IO import write_xyz\n",
    "    import yaml\n",
    "    \n",
    "    if not exists(dirname):\n",
    "        mkdir(dirname)\n",
    "\n",
    "    # use absolute paths to avoid need to change directory or use ../\n",
    "    for f,frag_dict in enumerate(frag_setup):\n",
    "        for frag_name in frag_dict:\n",
    "            frag_data_dir_src = join(remote_dir, 'data-'+frag_setup[f][frag_name]['radical'])\n",
    "            frag_data_dir_dest = join(remote_dir, dirname, 'data-'+frag_setup[f][frag_name]['radical'])\n",
    "            minbasis_yaml_dest = '../../data-'+frag_setup[f][frag_name]['radical']+'/'\n",
    "    \n",
    "            # write out the template xyz files directly so that we have the correct environment tags\n",
    "            frag_xyz_dest = join(remote_dir, dirname, frag_setup[f][frag_name]['radical']+'.xyz')\n",
    "            ofile = open(frag_xyz_dest, 'w')\n",
    "            write_xyz(frag_setup[f][frag_name]['structure'], ofile)\n",
    "            ofile.close()\n",
    "            \n",
    "            # new approach\n",
    "            # first make the folder\n",
    "            if not exists(frag_data_dir_dest):\n",
    "                mkdir(frag_data_dir_dest)\n",
    "                \n",
    "            # then read in and modify the minBasis.yaml file\n",
    "            minbasis_filename = join(frag_data_dir_src, 'minBasis.yaml')\n",
    "            with open(minbasis_filename, 'r') as ifile:\n",
    "                minbasis_dict = yaml.load(ifile, Loader=yaml.Loader)\n",
    "\n",
    "            if 'T1' in dirname:\n",
    "                duplicate_spin = True\n",
    "            else:\n",
    "                duplicate_spin = False\n",
    "            new_minbasis_dict = modify_minbasis_yaml(minbasis_dict, minbasis_yaml_dest,\n",
    "                                                     duplicate_spin=False)\n",
    "    \n",
    "            with open(join(frag_data_dir_dest, 'minBasis.yaml'), 'w+') as ofile:\n",
    "                yaml.dump(new_minbasis_dict, ofile)\n",
    "                \n",
    "            # finally make symbolic links for the coeff and kernel files\n",
    "            # these shouldn't be overwritten as system calculations output to the top level data dir only\n",
    "            for file in ['minBasis_coeff', 'density_kernel_sparse.mtx']:\n",
    "                if not islink(join(frag_data_dir_dest, file)):\n",
    "                    symlink(join(frag_data_dir_src, file), join(frag_data_dir_dest, file))\n",
    "    \n",
    "            \n",
    "@RemoteFunction\n",
    "def modify_minbasis_yaml(input_dict, template_dir, duplicate_spin=False):\n",
    "    from copy import deepcopy\n",
    "    \n",
    "    output_dict = deepcopy(input_dict)\n",
    "    \n",
    "    # add the template dir path to each SF name\n",
    "    for locreg in output_dict['functions']:\n",
    "        locreg['function'] = template_dir + locreg['function']\n",
    "        \n",
    "    # if needed, duplicate the spin    \n",
    "    if duplicate_spin:\n",
    "        # a list for storing the locregs associated with spin down\n",
    "        locreg_downs = []\n",
    "        for locreg in output_dict['functions']:\n",
    "            locreg['spin'] = 'up'\n",
    "            locreg_down = deepcopy(locreg)\n",
    "            locreg_down['spin'] = 'down'\n",
    "            locreg_downs.append(locreg_down)\n",
    "\n",
    "        output_dict['functions'] += locreg_downs\n",
    "        \n",
    "    return output_dict"
   ]
  },
  {
   "cell_type": "markdown",
   "metadata": {},
   "source": [
    "The first function can be run locally to generate the fragment dictionary for each system, which is independent of the constraint and excitation type"
   ]
  },
  {
   "cell_type": "code",
   "execution_count": 26,
   "metadata": {},
   "outputs": [],
   "source": [
    "fragment_dicts = {}\n",
    "fragment_setup = {}\n",
    "for system in system_compositions:\n",
    "    fragment_dicts[system], fragment_setup[system] = get_fragment_dict(system_compositions[system], xc,\n",
    "                                                                       active_basis_size, active_rloc,\n",
    "                                                                       env_basis_size, env_rloc,\n",
    "                                                                       active_names, env_names,\n",
    "                                                                       active_structures, env_structures) "
   ]
  },
  {
   "cell_type": "markdown",
   "metadata": {},
   "source": [
    "Generate a list of all calculations to be run, including pure and mixed constraints"
   ]
  },
  {
   "cell_type": "code",
   "execution_count": 27,
   "metadata": {},
   "outputs": [
    {
     "name": "stdout",
     "output_type": "stream",
     "text": [
      "List of calculations for acetone:  ['acetone_PBE_SF_S0', 'acetone_PBE_SF_S1_pure_HOMO_LUMO', 'acetone_PBE_SF_S1_mixed']\n",
      "List of calculations for acetone_water:  ['acetone_water_PBE_SF_S0', 'acetone_water_PBE_SF_S1_pure_HOMO_LUMO', 'acetone_water_PBE_SF_S1_mixed']\n",
      "List of calculations for naphthalene:  ['naphthalene_PBE_SF_S0', 'naphthalene_PBE_SF_S1_pure_HOMO-2_LUMO+2', 'naphthalene_PBE_SF_S1_pure_HOMO-1_LUMO+1', 'naphthalene_PBE_SF_S1_pure_HOMO_LUMO', 'naphthalene_PBE_SF_S1_mixed']\n",
      "List of calculations for naphthalene_dimer:  ['naphthalene_dimer_PBE_SF_S0', 'naphthalene_dimer_PBE_SF_S1_pure_HOMO-2_LUMO+2', 'naphthalene_dimer_PBE_SF_S1_pure_HOMO-1_LUMO+1', 'naphthalene_dimer_PBE_SF_S1_pure_HOMO_LUMO', 'naphthalene_dimer_PBE_SF_S1_mixed']\n"
     ]
    }
   ],
   "source": [
    "# function to identify the active molecule in a system\n",
    "# assumes that there is only one active molecule\n",
    "def get_active_molecule(system_composition):\n",
    "    for m,molecule_dict in enumerate(system_composition):\n",
    "        if molecule_dict['type'] == 'active':\n",
    "            return {'name': molecule_dict['name'], 'index': m}\n",
    "    \n",
    "calc_list = {}\n",
    "for system in system_compositions:\n",
    "    # add the S0 calculation\n",
    "    calc_list[system] = [get_system_name(system, xc, 'S0')]\n",
    "    \n",
    "    # now add the excited state pure and mixed constraints\n",
    "    active_molecule = get_active_molecule(system_compositions[system])['name']\n",
    "    mol_index = active_names.index(active_molecule)\n",
    "    for calc_type in ['S1']:\n",
    "        for component in active_tddft_runs.results[mol_index]['components'][state]:\n",
    "            occ_orb = component[0]\n",
    "            virt_orb = component[1]\n",
    "            orbital_names = [orbital_index_to_name(occ_orb, occupied=True),\n",
    "                             orbital_index_to_name(virt_orb, occupied=False)]\n",
    "            calc_list[system].append(get_system_name(system, xc, calc_type, orbitals=orbital_names))\n",
    "        # add the mixed calculation - to keep things general we assume that all calculations will be mixed\n",
    "        calc_list[system].append(get_system_name(system, xc, calc_type, mixed=True))\n",
    "\n",
    "    print('List of calculations for '+system+': ', calc_list[system])"
   ]
  },
  {
   "cell_type": "markdown",
   "metadata": {},
   "source": [
    "Now we can run the second function remotely on the front end using jupyter magic, looping over all calculations in the above list"
   ]
  },
  {
   "cell_type": "code",
   "execution_count": 28,
   "metadata": {},
   "outputs": [],
   "source": [
    "%load_ext remotemanager"
   ]
  },
  {
   "cell_type": "code",
   "execution_count": 29,
   "metadata": {},
   "outputs": [
    {
     "name": "stdout",
     "output_type": "stream",
     "text": [
      "appended run runner-0\n",
      "assessing run for runner dataset-b8efa681-runner-0... running\n"
     ]
    }
   ],
   "source": [
    "%%sanzu url=url, remote_dir=join(remote_dir, calc_dir), serialiser=serialdill(), skip=False, avoid_nodes=True\n",
    "%%sanzu extra=\"\"\"source /work/e89/e89/lra040/bigdft-suite/Build/install/bin/bigdftvars.sh\"\"\"\n",
    "%%sargs system_compositions=system_compositions, calc_list=calc_list\n",
    "%%sargs fragment_setup=fragment_setup, remote_dir=remote_dir, calc_dir=calc_dir \n",
    "%%sargs active_structures=active_structures, env_structures=env_structures\n",
    "\n",
    "from os.path import join\n",
    "\n",
    "for system in system_compositions:\n",
    "    for calc_name in calc_list[system]:    \n",
    "        dirname = 'data-'+calc_name\n",
    "        setup_fragment_directory(dirname, fragment_setup[system], join(remote_dir, calc_dir),\n",
    "                                 active_structures, env_structures)"
   ]
  },
  {
   "cell_type": "markdown",
   "metadata": {},
   "source": [
    "### Step 5: Run System Calculations for S0 and S1 with Pure Constraints"
   ]
  },
  {
   "cell_type": "markdown",
   "metadata": {},
   "source": [
    "Define a function which will run the system calculations"
   ]
  },
  {
   "cell_type": "code",
   "execution_count": 30,
   "metadata": {},
   "outputs": [],
   "source": [
    "def run_system_calculation(system, calc_name, inp):\n",
    "    from BigDFT import Calculators as C\n",
    "    from os.path import join\n",
    "    \n",
    "    Ha2eV = 27.211396132\n",
    "\n",
    "    # create the calculator\n",
    "    code = C.SystemCalculator(skip=True)\n",
    "    \n",
    "    # now run the code\n",
    "    run = code.run(input=inp, sys=system, name=calc_name) \n",
    "\n",
    "    # put this as a dictionary so we could eventually add whether or not the calculation converged\n",
    "    return {'energy': Ha2eV * run.energy}"
   ]
  },
  {
   "cell_type": "markdown",
   "metadata": {},
   "source": [
    "Define a function which will modify the input file to add a constraint"
   ]
  },
  {
   "cell_type": "code",
   "execution_count": 31,
   "metadata": {},
   "outputs": [],
   "source": [
    "def add_constraint(inp, state, orbitals, frag_index, ihomo, Vc=-500.0):\n",
    "    from BigDFT import CDFT\n",
    "    \n",
    "    if state == 'S1':     \n",
    "        constraint = CDFT.OpticalConstraint(kind='SINGLET')\n",
    "        inp['dft'].update({'nspin': 1})\n",
    "\n",
    "    elif state == 'T1':\n",
    "        constraint = CDFT.OpticalConstraint(kind='TRIPLET')\n",
    "        inp['dft'].update({'nspin': 2})\n",
    "            \n",
    "    constraint.append_hole_component(fragment=frag_index, orbital=orbitals[0], coefficient=1.0)\n",
    "    constraint.append_electron_component(fragment=frag_index, orbital=orbitals[1], coefficient=1.0)\n",
    "    constraint.set_Vc(Vc)\n",
    "    inp.add_cdft_constraint(constraint, homo_per_fragment={1: ihomo})    \n",
    "    inp['lin_general'].update({'kernel_restart_mode': 'diag'})"
   ]
  },
  {
   "cell_type": "markdown",
   "metadata": {},
   "source": [
    "Set up and submit the dataset"
   ]
  },
  {
   "cell_type": "code",
   "execution_count": 33,
   "metadata": {},
   "outputs": [
    {
     "name": "stdout",
     "output_type": "stream",
     "text": [
      "appended run runner-0\n",
      "appended run runner-1\n",
      "appended run runner-2\n",
      "appended run runner-3\n",
      "appended run runner-4\n",
      "appended run runner-5\n",
      "appended run runner-6\n",
      "appended run runner-7\n",
      "appended run runner-8\n",
      "appended run runner-9\n",
      "appended run runner-10\n",
      "appended run runner-11\n",
      "assessing run for runner run_system_calculation-7fb6df27-runner-0... running\n",
      "128 total cores requested\n",
      "appending partition = qos (standard)\n",
      "script parsing complete\n",
      "assessing run for runner run_system_calculation-7fb6df27-runner-1... running\n",
      "128 total cores requested\n",
      "appending partition = qos (standard)\n",
      "script parsing complete\n",
      "assessing run for runner run_system_calculation-7fb6df27-runner-2... running\n",
      "128 total cores requested\n",
      "appending partition = qos (standard)\n",
      "script parsing complete\n",
      "assessing run for runner run_system_calculation-7fb6df27-runner-3... running\n",
      "128 total cores requested\n",
      "appending partition = qos (standard)\n",
      "script parsing complete\n",
      "assessing run for runner run_system_calculation-7fb6df27-runner-4... running\n",
      "128 total cores requested\n",
      "appending partition = qos (standard)\n",
      "script parsing complete\n",
      "assessing run for runner run_system_calculation-7fb6df27-runner-5... running\n",
      "128 total cores requested\n",
      "appending partition = qos (standard)\n",
      "script parsing complete\n",
      "assessing run for runner run_system_calculation-7fb6df27-runner-6... running\n",
      "128 total cores requested\n",
      "appending partition = qos (standard)\n",
      "script parsing complete\n",
      "assessing run for runner run_system_calculation-7fb6df27-runner-7... running\n",
      "128 total cores requested\n",
      "appending partition = qos (standard)\n",
      "script parsing complete\n",
      "assessing run for runner run_system_calculation-7fb6df27-runner-8... running\n",
      "128 total cores requested\n",
      "appending partition = qos (standard)\n",
      "script parsing complete\n",
      "assessing run for runner run_system_calculation-7fb6df27-runner-9... running\n",
      "128 total cores requested\n",
      "appending partition = qos (standard)\n",
      "script parsing complete\n",
      "assessing run for runner run_system_calculation-7fb6df27-runner-10... running\n",
      "128 total cores requested\n",
      "appending partition = qos (standard)\n",
      "script parsing complete\n",
      "assessing run for runner run_system_calculation-7fb6df27-runner-11... running\n",
      "128 total cores requested\n",
      "appending partition = qos (standard)\n",
      "script parsing complete\n"
     ]
    }
   ],
   "source": [
    "run_args = {}\n",
    "run_args['mpi'] = nnodes * nmpi\n",
    "run_args['omp'] = nomp\n",
    "run_args['walltime'] = 1 * 3600\n",
    "\n",
    "pure_tcdft_runs = Dataset(function=run_system_calculation, url=url, name='run_system_calculation',\n",
    "                          remote_dir=join(remote_dir, calc_dir), local_dir=calc_dir, serialiser=serialdill(),\n",
    "                          skip=False)\n",
    "\n",
    "pure_tcdft_run_names = []\n",
    "\n",
    "for s,system in enumerate(system_compositions):  \n",
    "    for c,calc_name in enumerate(calc_list[system]):\n",
    "        inps = get_LS_input_file(hgrid, crmult, frmult, xc, active_basis_size, active_rloc, input_type='system',\n",
    "                                 env_basis_size=env_basis_size, env_rloc=env_rloc, env_tag=env_tag)\n",
    "        \n",
    "        # make sure we remove any constraints for the S0 calculation\n",
    "        # we can also restart from kernel, no need to do the more robust diagonal kernel guess as in T-CDFT\n",
    "        if 'S0' in calc_name:\n",
    "            if 'constrained_dft' in inps:\n",
    "                inps.pop('constrained_dft', None)\n",
    "                inps['lin_general'].update({'kernel_restart_mode': 'kernel'})\n",
    "            \n",
    "        # skip any mixed calculations, as we will come back to them later\n",
    "        elif 'mixed' in calc_name:\n",
    "            continue\n",
    "            \n",
    "        # extract the orbitals from the calculation name and update the input file for any pure calculations\n",
    "        else:\n",
    "            orbital_str = calc_name.split('pure', 1)[1]\n",
    "            occ_orb = orbital_str.split('_', 1)[1]\n",
    "            virt_orb = occ_orb.split('_', 1)[1]\n",
    "            occ_orb = occ_orb.split('_', 1)[0]\n",
    "            if 'S1' in calc_name:\n",
    "                state = 'S1'\n",
    "            elif 'T1' in calc_name:\n",
    "                state = 'T1'\n",
    "            \n",
    "            # update the input file for any pure calculations\n",
    "            active_mol = get_active_molecule(system_compositions[system])\n",
    "            ihomo = active_sf_runs.results[active_names.index(active_mol['name'])]['ihomo']\n",
    "            add_constraint(inps, state, [occ_orb, virt_orb], active_mol['index']+1, ihomo, Vc=-500.0)\n",
    "            \n",
    "            # also make sure we write out the kernel so we can do the mixed constraint\n",
    "            inps['lin_general'].update({'output_mat': 1})\n",
    "\n",
    "        # add fragment dictionary to the input file\n",
    "        inps.update({'frag': fragment_dicts[system]})\n",
    "    \n",
    "        run_args['jobname'] = calc_name\n",
    "        # this relies on consistent ordering when iterating over system_compositions,\n",
    "        # which I think should be the case, but maybe we want to make this more robust/explicit\n",
    "        func_kwargs = dict(system=system_structures[s], calc_name=calc_name, inp=inps)\n",
    "    \n",
    "        pure_tcdft_runs.append_run(args=func_kwargs, local_dir=calc_dir, **run_args)\n",
    "    \n",
    "        pure_tcdft_run_names.append(calc_name)\n",
    "\n",
    "pure_tcdft_runs.run()"
   ]
  },
  {
   "cell_type": "markdown",
   "metadata": {},
   "source": [
    "Pause to allow calculations to finish if running the notebook using \"run all\""
   ]
  },
  {
   "cell_type": "code",
   "execution_count": 34,
   "metadata": {},
   "outputs": [
    {
     "ename": "AssertionError",
     "evalue": "",
     "output_type": "error",
     "traceback": [
      "\u001b[0;31m---------------------------------------------------------------------------\u001b[0m",
      "\u001b[0;31mAssertionError\u001b[0m                            Traceback (most recent call last)",
      "Cell \u001b[0;32mIn[34], line 1\u001b[0m\n\u001b[0;32m----> 1\u001b[0m \u001b[38;5;28;01massert\u001b[39;00m \u001b[38;5;28;01mFalse\u001b[39;00m\n",
      "\u001b[0;31mAssertionError\u001b[0m: "
     ]
    }
   ],
   "source": [
    "assert False"
   ]
  },
  {
   "cell_type": "markdown",
   "metadata": {},
   "source": [
    "Check status"
   ]
  },
  {
   "cell_type": "code",
   "execution_count": 35,
   "metadata": {},
   "outputs": [
    {
     "name": "stdout",
     "output_type": "stream",
     "text": [
      "[True, True, True, True, True, True, True, True, True, True, True, True]\n"
     ]
    }
   ],
   "source": [
    "print(pure_tcdft_runs.is_finished)"
   ]
  },
  {
   "cell_type": "markdown",
   "metadata": {},
   "source": [
    "Fetch results"
   ]
  },
  {
   "cell_type": "code",
   "execution_count": 36,
   "metadata": {},
   "outputs": [],
   "source": [
    "pure_tcdft_runs.fetch_results()"
   ]
  },
  {
   "cell_type": "markdown",
   "metadata": {},
   "source": [
    "Summarize results"
   ]
  },
  {
   "cell_type": "code",
   "execution_count": 37,
   "metadata": {},
   "outputs": [
    {
     "data": {
      "text/html": [
       "<div>\n",
       "<style scoped>\n",
       "    .dataframe tbody tr th:only-of-type {\n",
       "        vertical-align: middle;\n",
       "    }\n",
       "\n",
       "    .dataframe tbody tr th {\n",
       "        vertical-align: top;\n",
       "    }\n",
       "\n",
       "    .dataframe thead th {\n",
       "        text-align: right;\n",
       "    }\n",
       "</style>\n",
       "<table border=\"1\" class=\"dataframe\">\n",
       "  <thead>\n",
       "    <tr style=\"text-align: right;\">\n",
       "      <th></th>\n",
       "      <th>Occ. Orb.</th>\n",
       "      <th>Virt. Orb.</th>\n",
       "      <th>Energy (eV)</th>\n",
       "    </tr>\n",
       "  </thead>\n",
       "  <tbody>\n",
       "    <tr>\n",
       "      <th>acetone</th>\n",
       "      <td></td>\n",
       "      <td></td>\n",
       "      <td></td>\n",
       "    </tr>\n",
       "    <tr>\n",
       "      <th>S1</th>\n",
       "      <td>HOMO</td>\n",
       "      <td>LUMO</td>\n",
       "      <td>5.40</td>\n",
       "    </tr>\n",
       "  </tbody>\n",
       "</table>\n",
       "</div>"
      ],
      "text/plain": [
       "        Occ. Orb. Virt. Orb. Energy (eV)\n",
       "acetone                                 \n",
       "S1           HOMO       LUMO        5.40"
      ]
     },
     "metadata": {},
     "output_type": "display_data"
    },
    {
     "data": {
      "text/html": [
       "<div>\n",
       "<style scoped>\n",
       "    .dataframe tbody tr th:only-of-type {\n",
       "        vertical-align: middle;\n",
       "    }\n",
       "\n",
       "    .dataframe tbody tr th {\n",
       "        vertical-align: top;\n",
       "    }\n",
       "\n",
       "    .dataframe thead th {\n",
       "        text-align: right;\n",
       "    }\n",
       "</style>\n",
       "<table border=\"1\" class=\"dataframe\">\n",
       "  <thead>\n",
       "    <tr style=\"text-align: right;\">\n",
       "      <th></th>\n",
       "      <th>Occ. Orb.</th>\n",
       "      <th>Virt. Orb.</th>\n",
       "      <th>Energy (eV)</th>\n",
       "    </tr>\n",
       "  </thead>\n",
       "  <tbody>\n",
       "    <tr>\n",
       "      <th>acetone_water</th>\n",
       "      <td></td>\n",
       "      <td></td>\n",
       "      <td></td>\n",
       "    </tr>\n",
       "    <tr>\n",
       "      <th>S1</th>\n",
       "      <td>HOMO</td>\n",
       "      <td>LUMO</td>\n",
       "      <td>5.38</td>\n",
       "    </tr>\n",
       "  </tbody>\n",
       "</table>\n",
       "</div>"
      ],
      "text/plain": [
       "              Occ. Orb. Virt. Orb. Energy (eV)\n",
       "acetone_water                                 \n",
       "S1                 HOMO       LUMO        5.38"
      ]
     },
     "metadata": {},
     "output_type": "display_data"
    },
    {
     "data": {
      "text/html": [
       "<div>\n",
       "<style scoped>\n",
       "    .dataframe tbody tr th:only-of-type {\n",
       "        vertical-align: middle;\n",
       "    }\n",
       "\n",
       "    .dataframe tbody tr th {\n",
       "        vertical-align: top;\n",
       "    }\n",
       "\n",
       "    .dataframe thead th {\n",
       "        text-align: right;\n",
       "    }\n",
       "</style>\n",
       "<table border=\"1\" class=\"dataframe\">\n",
       "  <thead>\n",
       "    <tr style=\"text-align: right;\">\n",
       "      <th></th>\n",
       "      <th>Occ. Orb.</th>\n",
       "      <th>Virt. Orb.</th>\n",
       "      <th>Energy (eV)</th>\n",
       "    </tr>\n",
       "  </thead>\n",
       "  <tbody>\n",
       "    <tr>\n",
       "      <th>naphthalene</th>\n",
       "      <td></td>\n",
       "      <td></td>\n",
       "      <td></td>\n",
       "    </tr>\n",
       "    <tr>\n",
       "      <th>S1</th>\n",
       "      <td>HOMO-2</td>\n",
       "      <td>LUMO+2</td>\n",
       "      <td>7.33</td>\n",
       "    </tr>\n",
       "    <tr>\n",
       "      <th>S1</th>\n",
       "      <td>HOMO-1</td>\n",
       "      <td>LUMO+1</td>\n",
       "      <td>6.14</td>\n",
       "    </tr>\n",
       "    <tr>\n",
       "      <th>S1</th>\n",
       "      <td>HOMO</td>\n",
       "      <td>LUMO</td>\n",
       "      <td>4.36</td>\n",
       "    </tr>\n",
       "  </tbody>\n",
       "</table>\n",
       "</div>"
      ],
      "text/plain": [
       "            Occ. Orb. Virt. Orb. Energy (eV)\n",
       "naphthalene                                 \n",
       "S1             HOMO-2     LUMO+2        7.33\n",
       "S1             HOMO-1     LUMO+1        6.14\n",
       "S1               HOMO       LUMO        4.36"
      ]
     },
     "metadata": {},
     "output_type": "display_data"
    },
    {
     "data": {
      "text/html": [
       "<div>\n",
       "<style scoped>\n",
       "    .dataframe tbody tr th:only-of-type {\n",
       "        vertical-align: middle;\n",
       "    }\n",
       "\n",
       "    .dataframe tbody tr th {\n",
       "        vertical-align: top;\n",
       "    }\n",
       "\n",
       "    .dataframe thead th {\n",
       "        text-align: right;\n",
       "    }\n",
       "</style>\n",
       "<table border=\"1\" class=\"dataframe\">\n",
       "  <thead>\n",
       "    <tr style=\"text-align: right;\">\n",
       "      <th></th>\n",
       "      <th>Occ. Orb.</th>\n",
       "      <th>Virt. Orb.</th>\n",
       "      <th>Energy (eV)</th>\n",
       "    </tr>\n",
       "  </thead>\n",
       "  <tbody>\n",
       "    <tr>\n",
       "      <th>naphthalene_dimer</th>\n",
       "      <td></td>\n",
       "      <td></td>\n",
       "      <td></td>\n",
       "    </tr>\n",
       "    <tr>\n",
       "      <th>S1</th>\n",
       "      <td>HOMO-2</td>\n",
       "      <td>LUMO+2</td>\n",
       "      <td>7.36</td>\n",
       "    </tr>\n",
       "    <tr>\n",
       "      <th>S1</th>\n",
       "      <td>HOMO-1</td>\n",
       "      <td>LUMO+1</td>\n",
       "      <td>6.17</td>\n",
       "    </tr>\n",
       "    <tr>\n",
       "      <th>S1</th>\n",
       "      <td>HOMO</td>\n",
       "      <td>LUMO</td>\n",
       "      <td>4.32</td>\n",
       "    </tr>\n",
       "  </tbody>\n",
       "</table>\n",
       "</div>"
      ],
      "text/plain": [
       "                  Occ. Orb. Virt. Orb. Energy (eV)\n",
       "naphthalene_dimer                                 \n",
       "S1                   HOMO-2     LUMO+2        7.36\n",
       "S1                   HOMO-1     LUMO+1        6.17\n",
       "S1                     HOMO       LUMO        4.32"
      ]
     },
     "metadata": {},
     "output_type": "display_data"
    }
   ],
   "source": [
    "def get_pure_tcdft_table(system_name, calc_list, tcdft_results):\n",
    "    \n",
    "    column_names = ['Occ. Orb.', 'Virt. Orb.', 'Energy (eV)']\n",
    "    row_names = [system_name]\n",
    "    \n",
    "    table_data = [[''] * 3] \n",
    "    c = 0\n",
    "    for calc_name in calc_list:\n",
    "        # get the S0 reference energy\n",
    "        if 'S0' in calc_name:\n",
    "            S0_energy = tcdft_results[c]['energy']\n",
    "            c += 1\n",
    "            continue\n",
    "        elif 'mixed' in calc_name:\n",
    "            continue\n",
    "        else:\n",
    "            orbital_str = calc_name.split('pure', 1)[1]\n",
    "            occ_orb = orbital_str.split('_', 1)[1]\n",
    "            virt_orb = occ_orb.split('_', 1)[1]\n",
    "            occ_orb = occ_orb.split('_', 1)[0]\n",
    "\n",
    "            table_data.append([occ_orb, virt_orb, '{0:.2f}'.format(tcdft_results[c]['energy'] - S0_energy)])\n",
    "            if 'S1' in calc_name:\n",
    "                row_names.append('S1')\n",
    "            elif 'T1' in calc_name:\n",
    "                row_names.append('T1')\n",
    "            c += 1 \n",
    "\n",
    "    tcdft_table = pd.DataFrame(table_data, index=row_names, columns=column_names)\n",
    "    return tcdft_table\n",
    "\n",
    "\n",
    "# summarise the pure T-CDFT results in a single table for each system\n",
    "ind = 0\n",
    "for s,system in enumerate(system_compositions): \n",
    "    # number of calculations which are not mixed\n",
    "    ncalcs = 0\n",
    "    for calc_name in calc_list[system]:\n",
    "        if 'mixed' not in calc_name:\n",
    "            ncalcs += 1\n",
    "    pure_tcdft_table = get_pure_tcdft_table(system, calc_list[system], pure_tcdft_runs.results[ind:ind+ncalcs])\n",
    "    display(pure_tcdft_table)\n",
    "    ind += ncalcs"
   ]
  },
  {
   "cell_type": "markdown",
   "metadata": {},
   "source": [
    "### Step 6: Combine Density Kernels\n",
    "\n",
    "Define remote function for doing the kernel combination"
   ]
  },
  {
   "cell_type": "code",
   "execution_count": 38,
   "metadata": {},
   "outputs": [],
   "source": [
    "@RemoteFunction\n",
    "def combine_density_kernels(kernel_info):\n",
    "    from scipy.io import mmread, mmwrite\n",
    "    from copy import deepcopy\n",
    "    from os.path import join\n",
    "    \n",
    "    # combine the density kernels from calculations with a pure constraint\n",
    "    for p,kernel_dir in enumerate(kernel_info['kernel_dirs']):\n",
    "        kernel_file = join(kernel_dir, 'density_kernel_sparse.mtx')\n",
    "        rho_a_p = mmread(kernel_file)\n",
    "\n",
    "        # set the kernel to zero on the first step\n",
    "        if p == 0:\n",
    "            rho_a = deepcopy(rho_a_p)\n",
    "            rho_a.data[:] = 0.0\n",
    "\n",
    "        rho_a += kernel_info['transition_weights'][p] * rho_a_p\n",
    "\n",
    "    mmwrite(join(kernel_info['target_dir'], 'density_kernel_sparse.mtx'), rho_a)"
   ]
  },
  {
   "cell_type": "markdown",
   "metadata": {},
   "source": [
    "Generate the list of directories and weightings to use, which can then be passed to the remote function"
   ]
  },
  {
   "cell_type": "code",
   "execution_count": 39,
   "metadata": {},
   "outputs": [
    {
     "name": "stdout",
     "output_type": "stream",
     "text": [
      "Kernel info for acetone S1:  {'kernel_dirs': ['data-acetone_PBE_SF_S1_pure_HOMO_LUMO'], 'transition_weights': [1.0], 'target_dir': 'data-acetone_PBE_SF_S1_mixed'}\n",
      "Kernel info for acetone_water S1:  {'kernel_dirs': ['data-acetone_water_PBE_SF_S1_pure_HOMO_LUMO'], 'transition_weights': [1.0], 'target_dir': 'data-acetone_water_PBE_SF_S1_mixed'}\n",
      "Kernel info for naphthalene S1:  {'kernel_dirs': ['data-naphthalene_PBE_SF_S1_pure_HOMO-2_LUMO+2', 'data-naphthalene_PBE_SF_S1_pure_HOMO-1_LUMO+1', 'data-naphthalene_PBE_SF_S1_pure_HOMO_LUMO'], 'transition_weights': [0.03597399954496393, 0.03285220156600908, 0.9311737988890271], 'target_dir': 'data-naphthalene_PBE_SF_S1_mixed'}\n",
      "Kernel info for naphthalene_dimer S1:  {'kernel_dirs': ['data-naphthalene_dimer_PBE_SF_S1_pure_HOMO-2_LUMO+2', 'data-naphthalene_dimer_PBE_SF_S1_pure_HOMO-1_LUMO+1', 'data-naphthalene_dimer_PBE_SF_S1_pure_HOMO_LUMO'], 'transition_weights': [0.03597399954496393, 0.03285220156600908, 0.9311737988890271], 'target_dir': 'data-naphthalene_dimer_PBE_SF_S1_mixed'}\n"
     ]
    }
   ],
   "source": [
    "kernel_combination_info = {}\n",
    "\n",
    "for system in system_compositions:\n",
    "    kernel_combination_info[system] = {'S1': {'kernel_dirs': [], 'transition_weights': []}, \n",
    "                                       'T1': {'kernel_dirs': [], 'transition_weights': []}}\n",
    "    s1_ind = 0\n",
    "    t1_ind = 0\n",
    "    \n",
    "    active_mol_name = get_active_molecule(system_compositions[system])['name']\n",
    "    tddft_components = active_tddft_runs.results[active_names.index(active_mol_name)]['components']\n",
    "    \n",
    "    for calc_name in calc_list[system]: \n",
    "        if 'pure' in calc_name:\n",
    "            if 'S1' in calc_name:\n",
    "                kernel_combination_info[system]['S1']['kernel_dirs'].append('data-'+calc_name)\n",
    "                kernel_combination_info[system]['S1']['transition_weights'].append(\n",
    "                                                                            tddft_components['S1'][s1_ind][2])\n",
    "                s1_ind += 1\n",
    "            elif 'T1' in calc_name:\n",
    "                kernel_combination_info[system]['T1']['kernel_dirs'].append('data-'+calc_name)\n",
    "                kernel_combination_info[system]['T1']['transition_weights'].append(\n",
    "                                                                            tddft_components['T1'][t1_ind][2])\n",
    "                t1_ind += 1\n",
    "        elif 'mixed' in calc_name:\n",
    "            if 'S1' in calc_name:\n",
    "                kernel_combination_info[system]['S1']['target_dir'] = 'data-'+calc_name\n",
    "            elif 'T1' in calc_name:\n",
    "                kernel_combination_info[system]['T1']['target_dir'] = 'data-'+calc_name\n",
    "                                                 \n",
    "    \n",
    "    for state in ['S1']:\n",
    "        # the transition weights from TDDFT are not guaranteed to be normalised \n",
    "        # (due to imposing a threshold below which we neglect contributions)\n",
    "        # therefore we want to explicitly normalise the weights\n",
    "        coeff_sum = sum(kernel_combination_info[system][state]['transition_weights'])\n",
    "        kernel_combination_info[system][state]['transition_weights'] =\\\n",
    "                            [c / coeff_sum for c in kernel_combination_info[system][state]['transition_weights']]\n",
    "                                                 \n",
    "        print('Kernel info for '+system+' '+state+': ', kernel_combination_info[system]['S1'])  "
   ]
  },
  {
   "cell_type": "markdown",
   "metadata": {},
   "source": [
    "Now run the function on the front end"
   ]
  },
  {
   "cell_type": "code",
   "execution_count": 40,
   "metadata": {},
   "outputs": [
    {
     "name": "stdout",
     "output_type": "stream",
     "text": [
      "appended run runner-0\n",
      "assessing run for runner dataset-34085642-runner-0... running\n"
     ]
    }
   ],
   "source": [
    "%%sanzu url=url, remote_dir=join(remote_dir, calc_dir), skip=False, avoid_nodes=True\n",
    "%%sanzu extra=\"\"\"source /work/e89/e89/lra040/bigdft-suite/Build/install/bin/bigdftvars.sh\"\"\"\n",
    "%%sargs system_compositions=system_compositions, kernel_combination_info=kernel_combination_info\n",
    "\n",
    "for system in system_compositions:   \n",
    "    combine_density_kernels(kernel_combination_info[system]['S1'])"
   ]
  },
  {
   "cell_type": "markdown",
   "metadata": {},
   "source": [
    "### Step 7: Run Mixed T-CDFT Calculations\n",
    "\n",
    "We first need to define a new system function, since mixed kernel calculations extract the energy from the logfile differently"
   ]
  },
  {
   "cell_type": "code",
   "execution_count": 41,
   "metadata": {},
   "outputs": [],
   "source": [
    "def run_mixed_tcdft_calculation(system, calc_name, inp):\n",
    "    from BigDFT import Calculators as C\n",
    "    from os.path import join\n",
    "    \n",
    "    Ha2eV = 27.211396132\n",
    "\n",
    "    # create the calculator\n",
    "    code = C.SystemCalculator(skip=True)\n",
    "    \n",
    "    # now run the code\n",
    "    run = code.run(input=inp, sys=system, name=calc_name) \n",
    "    \n",
    "    e = run.log['Ground State Optimization'][4]['support function optimization'][1]['Omega']['ENERGY']\n",
    "\n",
    "    # put this as a dictionary so we could eventually add whether or not the calculation converged\n",
    "    return {'energy': Ha2eV * e}"
   ]
  },
  {
   "cell_type": "markdown",
   "metadata": {},
   "source": [
    "Now we have everything needed to run the mixed calculations"
   ]
  },
  {
   "cell_type": "code",
   "execution_count": 42,
   "metadata": {},
   "outputs": [
    {
     "name": "stdout",
     "output_type": "stream",
     "text": [
      "appended run runner-0\n",
      "appended run runner-1\n",
      "appended run runner-2\n",
      "appended run runner-3\n",
      "assessing run for runner run_mixed_tcdft_calculation-c0557b95-runner-0... running\n",
      "128 total cores requested\n",
      "appending partition = qos (standard)\n",
      "script parsing complete\n",
      "assessing run for runner run_mixed_tcdft_calculation-c0557b95-runner-1... running\n",
      "128 total cores requested\n",
      "appending partition = qos (standard)\n",
      "script parsing complete\n",
      "assessing run for runner run_mixed_tcdft_calculation-c0557b95-runner-2... running\n",
      "128 total cores requested\n",
      "appending partition = qos (standard)\n",
      "script parsing complete\n",
      "assessing run for runner run_mixed_tcdft_calculation-c0557b95-runner-3... running\n",
      "128 total cores requested\n",
      "appending partition = qos (standard)\n",
      "script parsing complete\n"
     ]
    }
   ],
   "source": [
    "run_args = {}\n",
    "run_args['mpi'] = nnodes * nmpi\n",
    "run_args['omp'] = nomp\n",
    "run_args['walltime'] = 1 * 3600\n",
    "\n",
    "mixed_tcdft_runs = Dataset(function=run_mixed_tcdft_calculation, url=url, name='run_mixed_tcdft_calculation',\n",
    "                           remote_dir=join(remote_dir, calc_dir), local_dir=calc_dir, serialiser=serialdill(),\n",
    "                           skip=False)\n",
    "\n",
    "mixed_tcdft_run_names = []\n",
    "\n",
    "for s,system in enumerate(system_compositions):  \n",
    "    for c,calc_name in enumerate(calc_list[system]):\n",
    "        # we already ran everything which is not a mixed calculation\n",
    "        if 'mixed' not in calc_name:\n",
    "            continue\n",
    "        \n",
    "        inpm = get_LS_input_file(hgrid, crmult, frmult, xc, active_basis_size, active_rloc, input_type='system',\n",
    "                                 env_basis_size=env_basis_size, env_rloc=env_rloc, env_tag=env_tag)\n",
    "            \n",
    "        # modify the input to run without any SCF iterations\n",
    "        # here for technical reasons we set nit = 1 (not 0), otherwise the resulting logfile is not valid\n",
    "        inpm['lin_kernel'].update({'nit': 1})\n",
    "\n",
    "        # set output_mat to 1 to force it to use ntpoly (may not be needed if the default behaviour has changed)\n",
    "        inpm['lin_general'].update({'kernel_restart_mode': 'full_kernel', 'output_mat': 1})\n",
    "\n",
    "        # add fragment dictionary to the input file\n",
    "        inpm.update({'frag': fragment_dicts[system]})\n",
    "        \n",
    "        if 'T1' in calc_name:\n",
    "            inpm['dft'].update({'nspin': 2})\n",
    "        else:\n",
    "            inpm['dft'].update({'nspin': 1})\n",
    "    \n",
    "        run_args['jobname'] = calc_name\n",
    "        func_kwargs = dict(system=system_structures[s], calc_name=calc_name, inp=inpm)\n",
    "    \n",
    "        mixed_tcdft_runs.append_run(args=func_kwargs, local_dir=calc_dir, **run_args)\n",
    "    \n",
    "        mixed_tcdft_run_names.append(calc_name)\n",
    "\n",
    "mixed_tcdft_runs.run()"
   ]
  },
  {
   "cell_type": "markdown",
   "metadata": {},
   "source": [
    "Pause to allow calculations to finish if running the notebook using \"run all\""
   ]
  },
  {
   "cell_type": "code",
   "execution_count": 43,
   "metadata": {},
   "outputs": [
    {
     "ename": "AssertionError",
     "evalue": "",
     "output_type": "error",
     "traceback": [
      "\u001b[0;31m---------------------------------------------------------------------------\u001b[0m",
      "\u001b[0;31mAssertionError\u001b[0m                            Traceback (most recent call last)",
      "Cell \u001b[0;32mIn[43], line 1\u001b[0m\n\u001b[0;32m----> 1\u001b[0m \u001b[38;5;28;01massert\u001b[39;00m \u001b[38;5;28;01mFalse\u001b[39;00m\n",
      "\u001b[0;31mAssertionError\u001b[0m: "
     ]
    }
   ],
   "source": [
    "assert False"
   ]
  },
  {
   "cell_type": "markdown",
   "metadata": {},
   "source": [
    "Check status"
   ]
  },
  {
   "cell_type": "code",
   "execution_count": 44,
   "metadata": {},
   "outputs": [
    {
     "name": "stdout",
     "output_type": "stream",
     "text": [
      "[True, True, True, True]\n"
     ]
    }
   ],
   "source": [
    "print(mixed_tcdft_runs.is_finished)"
   ]
  },
  {
   "cell_type": "markdown",
   "metadata": {},
   "source": [
    "Fetch results"
   ]
  },
  {
   "cell_type": "code",
   "execution_count": 45,
   "metadata": {},
   "outputs": [],
   "source": [
    "mixed_tcdft_runs.fetch_results()"
   ]
  },
  {
   "cell_type": "markdown",
   "metadata": {},
   "source": [
    "Summarize results"
   ]
  },
  {
   "cell_type": "code",
   "execution_count": 46,
   "metadata": {},
   "outputs": [
    {
     "data": {
      "text/html": [
       "<div>\n",
       "<style scoped>\n",
       "    .dataframe tbody tr th:only-of-type {\n",
       "        vertical-align: middle;\n",
       "    }\n",
       "\n",
       "    .dataframe tbody tr th {\n",
       "        vertical-align: top;\n",
       "    }\n",
       "\n",
       "    .dataframe thead th {\n",
       "        text-align: right;\n",
       "    }\n",
       "</style>\n",
       "<table border=\"1\" class=\"dataframe\">\n",
       "  <thead>\n",
       "    <tr style=\"text-align: right;\">\n",
       "      <th></th>\n",
       "      <th>Weight</th>\n",
       "      <th>Occ. Orb.</th>\n",
       "      <th>Virt. Orb.</th>\n",
       "      <th>Energy (eV)</th>\n",
       "    </tr>\n",
       "  </thead>\n",
       "  <tbody>\n",
       "    <tr>\n",
       "      <th>acetone</th>\n",
       "      <td></td>\n",
       "      <td></td>\n",
       "      <td></td>\n",
       "      <td></td>\n",
       "    </tr>\n",
       "    <tr>\n",
       "      <th>S1</th>\n",
       "      <td></td>\n",
       "      <td></td>\n",
       "      <td></td>\n",
       "      <td></td>\n",
       "    </tr>\n",
       "    <tr>\n",
       "      <th>Pure component 1</th>\n",
       "      <td>1.000</td>\n",
       "      <td>HOMO</td>\n",
       "      <td>LUMO</td>\n",
       "      <td>5.40</td>\n",
       "    </tr>\n",
       "    <tr>\n",
       "      <th>Mixed</th>\n",
       "      <td></td>\n",
       "      <td></td>\n",
       "      <td></td>\n",
       "      <td>5.40</td>\n",
       "    </tr>\n",
       "  </tbody>\n",
       "</table>\n",
       "</div>"
      ],
      "text/plain": [
       "                 Weight Occ. Orb. Virt. Orb. Energy (eV)\n",
       "acetone                                                 \n",
       "S1                                                      \n",
       "Pure component 1  1.000      HOMO       LUMO        5.40\n",
       "Mixed                                               5.40"
      ]
     },
     "metadata": {},
     "output_type": "display_data"
    },
    {
     "data": {
      "text/html": [
       "<div>\n",
       "<style scoped>\n",
       "    .dataframe tbody tr th:only-of-type {\n",
       "        vertical-align: middle;\n",
       "    }\n",
       "\n",
       "    .dataframe tbody tr th {\n",
       "        vertical-align: top;\n",
       "    }\n",
       "\n",
       "    .dataframe thead th {\n",
       "        text-align: right;\n",
       "    }\n",
       "</style>\n",
       "<table border=\"1\" class=\"dataframe\">\n",
       "  <thead>\n",
       "    <tr style=\"text-align: right;\">\n",
       "      <th></th>\n",
       "      <th>Weight</th>\n",
       "      <th>Occ. Orb.</th>\n",
       "      <th>Virt. Orb.</th>\n",
       "      <th>Energy (eV)</th>\n",
       "    </tr>\n",
       "  </thead>\n",
       "  <tbody>\n",
       "    <tr>\n",
       "      <th>acetone_water</th>\n",
       "      <td></td>\n",
       "      <td></td>\n",
       "      <td></td>\n",
       "      <td></td>\n",
       "    </tr>\n",
       "    <tr>\n",
       "      <th>S1</th>\n",
       "      <td></td>\n",
       "      <td></td>\n",
       "      <td></td>\n",
       "      <td></td>\n",
       "    </tr>\n",
       "    <tr>\n",
       "      <th>Pure component 1</th>\n",
       "      <td>1.000</td>\n",
       "      <td>HOMO</td>\n",
       "      <td>LUMO</td>\n",
       "      <td>5.38</td>\n",
       "    </tr>\n",
       "    <tr>\n",
       "      <th>Mixed</th>\n",
       "      <td></td>\n",
       "      <td></td>\n",
       "      <td></td>\n",
       "      <td>5.38</td>\n",
       "    </tr>\n",
       "  </tbody>\n",
       "</table>\n",
       "</div>"
      ],
      "text/plain": [
       "                 Weight Occ. Orb. Virt. Orb. Energy (eV)\n",
       "acetone_water                                           \n",
       "S1                                                      \n",
       "Pure component 1  1.000      HOMO       LUMO        5.38\n",
       "Mixed                                               5.38"
      ]
     },
     "metadata": {},
     "output_type": "display_data"
    },
    {
     "data": {
      "text/html": [
       "<div>\n",
       "<style scoped>\n",
       "    .dataframe tbody tr th:only-of-type {\n",
       "        vertical-align: middle;\n",
       "    }\n",
       "\n",
       "    .dataframe tbody tr th {\n",
       "        vertical-align: top;\n",
       "    }\n",
       "\n",
       "    .dataframe thead th {\n",
       "        text-align: right;\n",
       "    }\n",
       "</style>\n",
       "<table border=\"1\" class=\"dataframe\">\n",
       "  <thead>\n",
       "    <tr style=\"text-align: right;\">\n",
       "      <th></th>\n",
       "      <th>Weight</th>\n",
       "      <th>Occ. Orb.</th>\n",
       "      <th>Virt. Orb.</th>\n",
       "      <th>Energy (eV)</th>\n",
       "    </tr>\n",
       "  </thead>\n",
       "  <tbody>\n",
       "    <tr>\n",
       "      <th>naphthalene</th>\n",
       "      <td></td>\n",
       "      <td></td>\n",
       "      <td></td>\n",
       "      <td></td>\n",
       "    </tr>\n",
       "    <tr>\n",
       "      <th>S1</th>\n",
       "      <td></td>\n",
       "      <td></td>\n",
       "      <td></td>\n",
       "      <td></td>\n",
       "    </tr>\n",
       "    <tr>\n",
       "      <th>Pure component 1</th>\n",
       "      <td>0.036</td>\n",
       "      <td>HOMO-2</td>\n",
       "      <td>LUMO+2</td>\n",
       "      <td>7.33</td>\n",
       "    </tr>\n",
       "    <tr>\n",
       "      <th>Pure component 2</th>\n",
       "      <td>0.033</td>\n",
       "      <td>HOMO-1</td>\n",
       "      <td>LUMO+1</td>\n",
       "      <td>6.14</td>\n",
       "    </tr>\n",
       "    <tr>\n",
       "      <th>Pure component 3</th>\n",
       "      <td>0.931</td>\n",
       "      <td>HOMO</td>\n",
       "      <td>LUMO</td>\n",
       "      <td>4.36</td>\n",
       "    </tr>\n",
       "    <tr>\n",
       "      <th>Mixed</th>\n",
       "      <td></td>\n",
       "      <td></td>\n",
       "      <td></td>\n",
       "      <td>4.44</td>\n",
       "    </tr>\n",
       "  </tbody>\n",
       "</table>\n",
       "</div>"
      ],
      "text/plain": [
       "                 Weight Occ. Orb. Virt. Orb. Energy (eV)\n",
       "naphthalene                                             \n",
       "S1                                                      \n",
       "Pure component 1  0.036    HOMO-2     LUMO+2        7.33\n",
       "Pure component 2  0.033    HOMO-1     LUMO+1        6.14\n",
       "Pure component 3  0.931      HOMO       LUMO        4.36\n",
       "Mixed                                               4.44"
      ]
     },
     "metadata": {},
     "output_type": "display_data"
    },
    {
     "data": {
      "text/html": [
       "<div>\n",
       "<style scoped>\n",
       "    .dataframe tbody tr th:only-of-type {\n",
       "        vertical-align: middle;\n",
       "    }\n",
       "\n",
       "    .dataframe tbody tr th {\n",
       "        vertical-align: top;\n",
       "    }\n",
       "\n",
       "    .dataframe thead th {\n",
       "        text-align: right;\n",
       "    }\n",
       "</style>\n",
       "<table border=\"1\" class=\"dataframe\">\n",
       "  <thead>\n",
       "    <tr style=\"text-align: right;\">\n",
       "      <th></th>\n",
       "      <th>Weight</th>\n",
       "      <th>Occ. Orb.</th>\n",
       "      <th>Virt. Orb.</th>\n",
       "      <th>Energy (eV)</th>\n",
       "    </tr>\n",
       "  </thead>\n",
       "  <tbody>\n",
       "    <tr>\n",
       "      <th>naphthalene_dimer</th>\n",
       "      <td></td>\n",
       "      <td></td>\n",
       "      <td></td>\n",
       "      <td></td>\n",
       "    </tr>\n",
       "    <tr>\n",
       "      <th>S1</th>\n",
       "      <td></td>\n",
       "      <td></td>\n",
       "      <td></td>\n",
       "      <td></td>\n",
       "    </tr>\n",
       "    <tr>\n",
       "      <th>Pure component 1</th>\n",
       "      <td>0.036</td>\n",
       "      <td>HOMO-2</td>\n",
       "      <td>LUMO+2</td>\n",
       "      <td>7.36</td>\n",
       "    </tr>\n",
       "    <tr>\n",
       "      <th>Pure component 2</th>\n",
       "      <td>0.033</td>\n",
       "      <td>HOMO-1</td>\n",
       "      <td>LUMO+1</td>\n",
       "      <td>6.17</td>\n",
       "    </tr>\n",
       "    <tr>\n",
       "      <th>Pure component 3</th>\n",
       "      <td>0.931</td>\n",
       "      <td>HOMO</td>\n",
       "      <td>LUMO</td>\n",
       "      <td>4.32</td>\n",
       "    </tr>\n",
       "    <tr>\n",
       "      <th>Mixed</th>\n",
       "      <td></td>\n",
       "      <td></td>\n",
       "      <td></td>\n",
       "      <td>4.41</td>\n",
       "    </tr>\n",
       "  </tbody>\n",
       "</table>\n",
       "</div>"
      ],
      "text/plain": [
       "                  Weight Occ. Orb. Virt. Orb. Energy (eV)\n",
       "naphthalene_dimer                                        \n",
       "S1                                                       \n",
       "Pure component 1   0.036    HOMO-2     LUMO+2        7.36\n",
       "Pure component 2   0.033    HOMO-1     LUMO+1        6.17\n",
       "Pure component 3   0.931      HOMO       LUMO        4.32\n",
       "Mixed                                                4.41"
      ]
     },
     "metadata": {},
     "output_type": "display_data"
    }
   ],
   "source": [
    "def get_mixed_tcdft_table(system_name, calc_list, pure_tcdft_results, mixed_tcdft_results,\n",
    "                          kernel_combination_info):\n",
    "    \n",
    "    column_names = ['Weight', 'Occ. Orb.', 'Virt. Orb.', 'Energy (eV)']\n",
    "    row_names = [system_name]\n",
    "    \n",
    "    table_data = [[''] * 4] \n",
    "    \n",
    "    for state in ['S1']:\n",
    "        row_names.append(state)\n",
    "        table_data.append([''] * 4)\n",
    "        \n",
    "        indm = 0\n",
    "        indp = 0\n",
    "        indps = 0\n",
    "        for calc_name in calc_list:            \n",
    "            # get the S0 reference energy\n",
    "            if 'S0' in calc_name:\n",
    "                S0_energy = pure_tcdft_results[indp]['energy']\n",
    "                indp += 1\n",
    "                continue\n",
    "            elif 'pure' in calc_name:\n",
    "                if state not in calc_name:\n",
    "                    indp += 1\n",
    "                    continue\n",
    "                orbital_str = calc_name.split('pure', 1)[1]\n",
    "                occ_orb = orbital_str.split('_', 1)[1]\n",
    "                virt_orb = occ_orb.split('_', 1)[1]\n",
    "                occ_orb = occ_orb.split('_', 1)[0]\n",
    "                weight = kernel_combination_info[state]['transition_weights'][indps]\n",
    "                table_data.append(['{0:.3f}'.format(weight), occ_orb, virt_orb,\n",
    "                                   '{0:.2f}'.format(pure_tcdft_results[indp]['energy'] - S0_energy)])\n",
    "                row_names.append('Pure component '+str(indps + 1))\n",
    "                indp += 1\n",
    "                indps += 1\n",
    "            elif 'mixed' in calc_name:\n",
    "                if state not in calc_name:\n",
    "                    indm += 1\n",
    "                    continue\n",
    "                table_data.append(['', '', '', '{0:.2f}'.format(mixed_tcdft_results[indm]['energy'] - S0_energy)])\n",
    "                row_names.append('Mixed')\n",
    "                indm += 1\n",
    "                \n",
    "    tcdft_table = pd.DataFrame(table_data, index=row_names, columns=column_names)\n",
    "    return tcdft_table\n",
    "\n",
    "\n",
    "# summarise the T-CDFT results in a single table for each system\n",
    "indp = 0\n",
    "indm = 0\n",
    "for s,system in enumerate(system_compositions): \n",
    "    # number of calculations in each dataset associated with this system\n",
    "    ncalcsp = 0\n",
    "    ncalcsm = 0\n",
    "    for calc_name in calc_list[system]:\n",
    "        if 'mixed' not in calc_name:\n",
    "            ncalcsp += 1\n",
    "        else:\n",
    "            ncalcsm += 1\n",
    "    pure_tcdft_table = get_mixed_tcdft_table(system, calc_list[system], pure_tcdft_runs.results[indp:indp+ncalcsp],\n",
    "                                             mixed_tcdft_runs.results[indm:indm+ncalcsm],\n",
    "                                             kernel_combination_info[system])\n",
    "    display(pure_tcdft_table)\n",
    "    indp += ncalcsp\n",
    "    indm += ncalcsm"
   ]
  },
  {
   "cell_type": "code",
   "execution_count": null,
   "metadata": {},
   "outputs": [],
   "source": []
  },
  {
   "cell_type": "code",
   "execution_count": null,
   "metadata": {},
   "outputs": [],
   "source": []
  },
  {
   "cell_type": "code",
   "execution_count": null,
   "metadata": {},
   "outputs": [],
   "source": []
  },
  {
   "cell_type": "code",
   "execution_count": null,
   "metadata": {},
   "outputs": [],
   "source": []
  },
  {
   "cell_type": "code",
   "execution_count": null,
   "metadata": {},
   "outputs": [],
   "source": []
  },
  {
   "cell_type": "code",
   "execution_count": null,
   "metadata": {},
   "outputs": [],
   "source": []
  },
  {
   "cell_type": "code",
   "execution_count": null,
   "metadata": {},
   "outputs": [],
   "source": []
  },
  {
   "cell_type": "code",
   "execution_count": null,
   "metadata": {},
   "outputs": [],
   "source": []
  },
  {
   "cell_type": "code",
   "execution_count": null,
   "metadata": {},
   "outputs": [],
   "source": []
  },
  {
   "cell_type": "code",
   "execution_count": null,
   "metadata": {},
   "outputs": [],
   "source": []
  },
  {
   "cell_type": "code",
   "execution_count": null,
   "metadata": {},
   "outputs": [],
   "source": []
  },
  {
   "cell_type": "code",
   "execution_count": null,
   "metadata": {},
   "outputs": [],
   "source": []
  }
 ],
 "metadata": {
  "kernelspec": {
   "display_name": "Python 3 (ipykernel)",
   "language": "python",
   "name": "python3"
  },
  "language_info": {
   "codemirror_mode": {
    "name": "ipython",
    "version": 3
   },
   "file_extension": ".py",
   "mimetype": "text/x-python",
   "name": "python",
   "nbconvert_exporter": "python",
   "pygments_lexer": "ipython3",
   "version": "3.8.10"
  }
 },
 "nbformat": 4,
 "nbformat_minor": 4
}
