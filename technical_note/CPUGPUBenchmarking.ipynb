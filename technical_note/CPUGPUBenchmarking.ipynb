{
 "cells": [
  {
   "cell_type": "markdown",
   "id": "b07ed6a6-d437-449f-a9ee-7f6fa58df1c3",
   "metadata": {},
   "source": [
    "# Code Update and compile\n",
    "First, take the frontend of leonardo and test the connection."
   ]
  },
  {
   "cell_type": "code",
   "execution_count": null,
   "id": "4c705429-22cc-4a6e-b355-c475f4532116",
   "metadata": {},
   "outputs": [
    {
     "name": "stdout",
     "output_type": "stream",
     "text": [
      "Checking for entry point... Success (/leonardo/home/userexternal/lgenoves)\n",
      "Checking file creation in home... True\n",
      "Checking file creation in /tmp... "
     ]
    }
   ],
   "source": [
    "from BigDFT.Interop import RemoteManagerInterop as RM\n",
    "sshpass='sshpass -P assphrase -f /tmp/leonardo'\n",
    "leonardo_test=RM.get_computer(host='leonardo',sshpass_override=sshpass)\n",
    "leonardo_test.test_connection()"
   ]
  },
  {
   "cell_type": "markdown",
   "id": "d05c95f4-f942-4d37-963e-45f4494de3f3",
   "metadata": {},
   "source": [
    "This cell takes the current version of the code (branch `genovese`) and push it in the leonardo remote dir (branch `devel`)"
   ]
  },
  {
   "cell_type": "code",
   "execution_count": 6,
   "id": "1d0c6d46-a098-47ef-9422-d74af2357484",
   "metadata": {},
   "outputs": [
    {
     "name": "stdout",
     "output_type": "stream",
     "text": [
      "Including git+ssh://leonardo//leonardo/home/userexternal/lgenoves/bigdft-suite as leonardo\\n\\nDelete remote target if non empty\\n\\nPushing external repo\\n\\nTo git+ssh://leonardo//leonardo/home/userexternal/lgenoves/bigdft-suite\\n\\n * [new branch]          genovese -> tmp_update\\n\n"
     ]
    }
   ],
   "source": [
    "remote_sourcedir='/leonardo/home/userexternal/lgenoves/bigdft-suite'\n",
    "ls,lsd=RM.get_computer_specs(host='leonardo',action='update')\n",
    "leonardo_frontend=RM.computer_from_specs(ls,**lsd)(sshpass_override=sshpass)\n",
    "leonardo_frontend.update_resources(**RM.get_computer_resources(host='leonardo',flavour='frontend'))\n",
    "#%pdb on\n",
    "ds=RM.code_updater(url=leonardo_frontend,sourcedir='/opt/bigdft/sources/',\n",
    "                   git='\"' + sshpass + ' git\"',\n",
    "                   remote_sourcedir=remote_sourcedir,branch='genovese', remote_branch='devel')"
   ]
  },
  {
   "cell_type": "code",
   "execution_count": 7,
   "id": "f4537fb9-adc8-4132-9bc6-fb3e14159d77",
   "metadata": {},
   "outputs": [],
   "source": [
    "ds.run()"
   ]
  },
  {
   "cell_type": "code",
   "execution_count": 8,
   "id": "a8462474-bce2-43e4-9753-ecde039e3063",
   "metadata": {},
   "outputs": [
    {
     "name": "stdout",
     "output_type": "stream",
     "text": [
      " create mode 100644 bigdft/tests/DFT/linear/rotatesmall/old.xyz\\n\\n create mode 100644 bigdft/tests/DFT/linear/rotatesmall/old.yaml\\n\\n create mode 100644 bigdft/tests/DFT/linear/rotatesmall/rotatesmall_old.out.ref\\n\\n create mode 100644 bigdft/tests/DFT/linear/rotatesmall/rotatesmall_old.out.ref.yaml\\n\\n create mode 100644 chess/.gitrepo\\n\n"
     ]
    }
   ],
   "source": [
    "ds.fetch_results()\n",
    "print(ds.results[0])\n",
    "ds.hard_reset() # finish the update"
   ]
  },
  {
   "cell_type": "markdown",
   "id": "4ed0efc0-d874-4cf9-ba02-1cbc9a0957e1",
   "metadata": {},
   "source": [
    "This cell then creates the dataset for two different compilations of the code"
   ]
  },
  {
   "cell_type": "code",
   "execution_count": 19,
   "id": "e1378018-8de0-474d-b1ae-f8eed870a481",
   "metadata": {},
   "outputs": [],
   "source": [
    "#Get the builddirs from the installed paths\n",
    "gnu=RM.get_computer_resources(host='leonardo',environment='1.9.4-gnu')\n",
    "nvhpc=RM.get_computer_resources(host='leonardo',environment='1.9.4-nvhpc')\n",
    "def get_prefix(res):\n",
    "    return res['export'][0].replace('PREFIX=','')\n",
    "def set_prefix(res, prefix):\n",
    "    res['export'][0]='PREFIX='+prefix\n",
    "base_dir='/leonardo/home/userexternal/lgenoves/binaries'\n",
    "from os.path import join"
   ]
  },
  {
   "cell_type": "code",
   "execution_count": 20,
   "id": "32129f64-72cc-46da-bf2f-b304cac9e343",
   "metadata": {},
   "outputs": [
    {
     "name": "stdout",
     "output_type": "stream",
     "text": [
      "appended run runner-0\n"
     ]
    }
   ],
   "source": [
    "leonardo=RM.get_computer(host='leonardo',flavour='gnu',sshpass_override=sshpass)\n",
    "prefix=join(base_dir,'build-gnu')\n",
    "set_prefix(gnu,prefix)\n",
    "remote_compilation=RM.code_compiler(url=leonardo,\n",
    "                                    builddir=prefix,\n",
    "                                    prefix=get_prefix(gnu),\n",
    "                                    sourcedir=remote_sourcedir,\n",
    "                                    action=\"build\" ,#'\"buildone -f liborbs\"',\n",
    "                                    rcfile='/opt/bigdft/sources/rcfiles/leonardo-gnu.rc',\n",
    "                                    builder='\"$SOURCEDIR/Installer.py -y\"'\n",
    "                                   )"
   ]
  },
  {
   "cell_type": "code",
   "execution_count": 21,
   "id": "cbedee92-1a4e-456c-a66f-68fe47c2fd42",
   "metadata": {},
   "outputs": [
    {
     "name": "stdout",
     "output_type": "stream",
     "text": [
      "assessing run for runner compile_code_rm-794eb9ce-runner-0... running\n"
     ]
    }
   ],
   "source": [
    "remote_compilation.run()"
   ]
  },
  {
   "cell_type": "code",
   "execution_count": 25,
   "id": "9fc69be5-c3bb-4a4d-a674-626e8b2d3e53",
   "metadata": {},
   "outputs": [
    {
     "name": "stdout",
     "output_type": "stream",
     "text": [
      "appended run runner-1\n"
     ]
    }
   ],
   "source": [
    "# and then the nvhpc compilation\n",
    "prefix=join(base_dir,'build-nvhpc')\n",
    "set_prefix(nvhpc,prefix)\n",
    "remote_compilation.append_run(remote_dir=join(base_dir,'build-nvhpc'),\n",
    "                              prefix=get_prefix(nvhpc),\n",
    "                              rcfile='leonardo.rc',\n",
    "                              extra_files_send=['/opt/bigdft/sources/rcfiles/leonardo.rc'],\n",
    "                              **RM.get_computer_resources(host='leonardo',flavour='nvhpc'))"
   ]
  },
  {
   "cell_type": "code",
   "execution_count": 26,
   "id": "64725eda-0826-416f-bd6e-ed3432b40e16",
   "metadata": {},
   "outputs": [
    {
     "name": "stdout",
     "output_type": "stream",
     "text": [
      "assessing run for runner compile_code_rm-794eb9ce-runner-0... skipping already submitted run\n",
      "assessing run for runner compile_code_rm-794eb9ce-runner-1... running\n"
     ]
    }
   ],
   "source": [
    "remote_compilation.run()"
   ]
  },
  {
   "cell_type": "markdown",
   "id": "450e2a97-356c-4532-935c-23a629bc87ac",
   "metadata": {},
   "source": [
    "# Run of the first bench\n",
    "We take an example (without the usage of GPU) from the 2CzPn calculations"
   ]
  },
  {
   "cell_type": "code",
   "execution_count": 39,
   "id": "d9582cc8-6fb6-4613-a6e2-2532c0dcce79",
   "metadata": {},
   "outputs": [],
   "source": [
    "from json import load\n",
    "from copy import deepcopy\n",
    "from os.path import join\n",
    "with open('leonardo_bench.json') as ifile:\n",
    "    base_bench = list(load(ifile))"
   ]
  },
  {
   "cell_type": "code",
   "execution_count": 40,
   "id": "c45d56ef-3e78-46e3-810b-66d37aae4e70",
   "metadata": {},
   "outputs": [
    {
     "name": "stdout",
     "output_type": "stream",
     "text": [
      "Of 24 appends: 24 added. See run_log for more info\n"
     ]
    }
   ],
   "source": [
    "from remotemanager import Dataset\n",
    "from BigDFT.Interop import RemoteManagerInterop as RM\n",
    "from BigDFT import Inputfiles as I\n",
    "sshpass='sshpass -P assphrase -f /tmp/leonardo'\n",
    "base_dir='/leonardo/home/userexternal/lgenoves/binaries'\n",
    "remote_gnu='/leonardo/home/userexternal/lgenoves/benchs/2CzPN-gnu'\n",
    "#remote_nvhpc='/leonardo_work/Max3_devel_2/bigdft/2CzPN-nvhpc'\n",
    "leonardo=RM.get_computer(host='leonardo',flavour='gnu',environment='1.9.4-gnu',sshpass_override=sshpass)\n",
    "prefix=join(base_dir,'build-gnu')\n",
    "leonardo.export.value[0]='PREFIX='+prefix\n",
    "# we first pile up the gnu calculations\n",
    "from benchmark import run_bigdft\n",
    "ds=Dataset(run_bigdft,local_dir='leonardo-2CzPN-gnu',\n",
    "           dbfile='leonardo-2CzPN-gnu.yaml',\n",
    "           remote_dir=remote_gnu,\n",
    "           name='2CzPN',url=leonardo, time='02:00:00',skip=False)\n",
    "bench=[t for t in base_bench.copy() if t['mpi']*t['omp']<=64 ]\n",
    "for run in bench:\n",
    "    ds.append_run(lazy=True,**run.copy())\n",
    "for run in bench:\n",
    "    run=deepcopy(run)\n",
    "    inp=I.Inputfile(run['arguments']['input'])\n",
    "    inp.use_gpu_acceleration(flavour='OCL')\n",
    "    run['arguments']['input'] = dict(inp)\n",
    "    run['arguments']['name'] += '-ocl'\n",
    "    run['gpu'] = 4\n",
    "    run['name'] += '-ocl'\n",
    "    ds.append_run(lazy=True,**run.copy())\n",
    "for run in bench:\n",
    "    run=deepcopy(run)\n",
    "    inp=I.Inputfile(run['arguments']['input'])\n",
    "    inp.set_xc('PBE0')\n",
    "    run['arguments']['input'] = dict(inp)\n",
    "    run['arguments']['name'] += '-pbe0'\n",
    "    run['name'] += '-pbe0'    \n",
    "    ds.append_run(lazy=True,**run.copy())\n",
    "for run in bench:\n",
    "    run=deepcopy(run)\n",
    "    inp=I.Inputfile(run['arguments']['input'])\n",
    "    inp.set_xc('PBE0')\n",
    "    inp.use_gpu_acceleration(flavour='CUDA')\n",
    "    run['arguments']['input'] = dict(inp)\n",
    "    run['arguments']['name'] += '-pbe0-cuda'\n",
    "    run['gpu'] = 4\n",
    "    run['name'] += '-pbe0-cuda'\n",
    "    ds.append_run(lazy=True,**run.copy())\n",
    "for run in bench:\n",
    "    run=deepcopy(run)\n",
    "    inp=I.Inputfile(run['arguments']['input'])\n",
    "    inp.set_xc('PBE0')\n",
    "    inp.use_gpu_acceleration(flavour='OCL')\n",
    "    run['arguments']['input'] = dict(inp)\n",
    "    run['arguments']['name'] += '-pbe0-ocl'    \n",
    "    run['gpu'] = 4\n",
    "    run['name'] += '-pbe0-ocl'\n",
    "    ds.append_run(lazy=True,**run.copy())    \n",
    "# # then we may even pile up the nvhpc calculations\n",
    "# nvhpc_run=RM.get_computer_resources(host='leonardo',environment='1.9.4-nvhpc',flavour='nvhpc')\n",
    "# for run in bench:\n",
    "#     ds.append_run(lazy=True,remote_dir=remote_nvhpc, **run, **nvhpc_run)\n",
    "ds.finish_append()"
   ]
  },
  {
   "cell_type": "code",
   "execution_count": 42,
   "id": "2ec45652-0236-418d-934b-79ece04ce9fe",
   "metadata": {},
   "outputs": [
    {
     "name": "stdout",
     "output_type": "stream",
     "text": [
      "assessing run for runner 2CzPN-0e829193-2CzPN_1.pdb-16-1-pbe0... running\n",
      "assessing run for runner 2CzPN-0e829193-2CzPN_1.pdb-32-1-pbe0... running\n",
      "assessing run for runner 2CzPN-0e829193-2CzPN_1.pdb-64-1-pbe0... running\n",
      "assessing run for runner 2CzPN-0e829193-2CzPN_1.pdb-8-2-pbe0... running\n",
      "assessing run for runner 2CzPN-0e829193-2CzPN_1.pdb-16-2-pbe0... running\n",
      "assessing run for runner 2CzPN-0e829193-2CzPN_1.pdb-32-2-pbe0... running\n",
      "assessing run for runner 2CzPN-0e829193-2CzPN_1.pdb-4-4-pbe0... running\n",
      "assessing run for runner 2CzPN-0e829193-2CzPN_1.pdb-8-4-pbe0... running\n",
      "assessing run for runner 2CzPN-0e829193-2CzPN_1.pdb-16-4-pbe0... running\n",
      "assessing run for runner 2CzPN-0e829193-2CzPN_1.pdb-2-8-pbe0... running\n",
      "assessing run for runner 2CzPN-0e829193-2CzPN_1.pdb-4-8-pbe0... running\n",
      "assessing run for runner 2CzPN-0e829193-2CzPN_1.pdb-8-8-pbe0... running\n",
      "assessing run for runner 2CzPN-0e829193-2CzPN_2.pdb-32-1-pbe0... running\n",
      "assessing run for runner 2CzPN-0e829193-2CzPN_2.pdb-64-1-pbe0... running\n",
      "assessing run for runner 2CzPN-0e829193-2CzPN_2.pdb-16-2-pbe0... running\n",
      "assessing run for runner 2CzPN-0e829193-2CzPN_2.pdb-32-2-pbe0... running\n",
      "assessing run for runner 2CzPN-0e829193-2CzPN_2.pdb-8-4-pbe0... running\n",
      "assessing run for runner 2CzPN-0e829193-2CzPN_2.pdb-16-4-pbe0... running\n",
      "assessing run for runner 2CzPN-0e829193-2CzPN_2.pdb-4-8-pbe0... running\n",
      "assessing run for runner 2CzPN-0e829193-2CzPN_2.pdb-8-8-pbe0... running\n",
      "assessing run for runner 2CzPN-0e829193-2CzPN_4.pdb-64-1-pbe0... running\n",
      "assessing run for runner 2CzPN-0e829193-2CzPN_4.pdb-32-2-pbe0... running\n",
      "assessing run for runner 2CzPN-0e829193-2CzPN_4.pdb-16-4-pbe0... running\n",
      "assessing run for runner 2CzPN-0e829193-2CzPN_4.pdb-8-8-pbe0... running\n"
     ]
    }
   ],
   "source": [
    "ds.run()"
   ]
  },
  {
   "cell_type": "code",
   "execution_count": 6,
   "id": "241da92b-7887-4670-9fca-eb8a95f0570e",
   "metadata": {},
   "outputs": [],
   "source": [
    "ds.fetch_results()"
   ]
  },
  {
   "cell_type": "code",
   "execution_count": 12,
   "id": "df3665d7-af20-4164-8880-53eb444d6580",
   "metadata": {},
   "outputs": [
    {
     "data": {
      "text/plain": [
       "['2CzPN_1.pdb-16-1.tar.gz']"
      ]
     },
     "execution_count": 12,
     "metadata": {},
     "output_type": "execute_result"
    }
   ],
   "source": [
    "base_bench[0]['extra_files_recv']"
   ]
  },
  {
   "cell_type": "markdown",
   "id": "74644c15-8f15-4daa-9362-1d7f8eb49093",
   "metadata": {},
   "source": [
    "# Analyze the bench results"
   ]
  },
  {
   "cell_type": "code",
   "execution_count": 9,
   "id": "a9697297-9f11-4a9e-8508-41fff0b48a6e",
   "metadata": {},
   "outputs": [],
   "source": [
    "import benchmark\n",
    "df=benchmark.dataframe(benchmark.extract_results(directory='leonardo-2CzPN-gnu'))"
   ]
  },
  {
   "cell_type": "code",
   "execution_count": 10,
   "id": "9b67c979-e8a8-4f2f-afc3-5893397102b8",
   "metadata": {},
   "outputs": [],
   "source": [
    "pbe=df[~df['name'].str.endswith(('ocl','cuda','pbe0'))].sort_values(['Nat','cores','OMP'])"
   ]
  },
  {
   "cell_type": "code",
   "execution_count": 11,
   "id": "62347116-c6ad-45b7-81b0-65ae72e8b7e6",
   "metadata": {},
   "outputs": [],
   "source": [
    "pbe_ocl=df[df['name'].str.endswith(('ocl')) * ~df['name'].str.contains('pbe0')].sort_values(['Nat','cores','OMP'])"
   ]
  },
  {
   "cell_type": "code",
   "execution_count": 12,
   "id": "0cbdfa97-edec-48d9-8146-258013bdf95c",
   "metadata": {},
   "outputs": [],
   "source": [
    "pbe0=df[df['name'].str.contains('pbe0')* ~df['name'].str.contains('pbe0-ocl')* ~df['name'].str.contains('pbe0-cuda') ].sort_values(['Nat','cores','OMP'])"
   ]
  },
  {
   "cell_type": "code",
   "execution_count": 13,
   "id": "7ab80cf9-9ba8-438f-9256-98e8f92d9920",
   "metadata": {},
   "outputs": [],
   "source": [
    "pbe0_cuda=df[df['name'].str.contains('pbe0-cuda')* ~df['name'].str.contains('pbe0-ocl') ].sort_values(['Nat','cores','OMP'])"
   ]
  },
  {
   "cell_type": "code",
   "execution_count": 14,
   "id": "95edecdf-1b52-4359-956d-f68f44702fdd",
   "metadata": {},
   "outputs": [],
   "source": [
    "def get_lookup(dst, src, idx, spec):\n",
    "    lookup = True\n",
    "    for s in spec:\n",
    "        lookup *= dst[s] == src[s][idx]\n",
    "    return lookup\n",
    "def get_df_lookup(of,with_respect_to,spec=['OMP','cores','Nat']):\n",
    "    from itertools import product\n",
    "    from numpy import array\n",
    "    from pandas import concat\n",
    "    xs = []\n",
    "    lups = []\n",
    "    for ipiv,idx in enumerate(with_respect_to.index):\n",
    "        lookup = get_lookup(dst=of, src=with_respect_to, idx=idx,spec=spec)\n",
    "        ys = [i for i, v in enumerate(lookup) if v]\n",
    "        if len(ys) == 0:\n",
    "            continue\n",
    "        assert len(ys) == 1, 'Multiple calculations in data: '+str(of[lookup].index)\n",
    "        xs.append(ipiv)\n",
    "        lups.append(of[lookup])\n",
    "    return xs,concat(lups)\n",
    "def get_timedata(df,reference=None,spec=['OMP','cores','Nat'],\n",
    "                 widgets=False,only_last=True, **kwargs):\n",
    "    from futile.Time import TimeData\n",
    "    if reference is None:\n",
    "        dft = df\n",
    "    else:\n",
    "        dft = get_df_lookup(of=df,with_respect_to=reference, spec=spec)        \n",
    "    return TimeData(*dft['timefile'],widgets=widgets,only_last=only_last, **kwargs)"
   ]
  },
  {
   "cell_type": "code",
   "execution_count": 15,
   "id": "717ebcc1-35e1-4110-8edb-7206a9852701",
   "metadata": {},
   "outputs": [
    {
     "data": {
      "image/png": "[encoded data removed]",
      "text/plain": [
       "<Figure size 640x480 with 1 Axes>"
      ]
     },
     "metadata": {},
     "output_type": "display_data"
    }
   ],
   "source": [
    "aggregate=[('Communications',['Communications']),\n",
    "           ('FFT & Convolutions',['Convolutions','PS Computation','Potential']),\n",
    "           ('Linear Algebra',['BLAS-LAPACK', 'Linear Algebra']),\n",
    "           ('Other',['Flib LowLevel','Unknown', 'Other'])]\n",
    "tt=get_timedata(pbe_ocl)\n",
    "ax=benchmark.draw_barplot(tt.ids,tt.actual_data,\n",
    "                          aggregate=aggregate,\n",
    "                          #annotations=pbe_ocl['Nat']/54,\n",
    "                          shift=+0.2,width=0.15)\n",
    "ax.set_xticklabels(ax.get_xticklabels(),rotation=90)\n",
    "ax.legend(loc='best')\n",
    "xs,dft=get_df_lookup(pbe,with_respect_to=pbe_ocl)\n",
    "tt=get_timedata(dft)\n",
    "speedup=[round(s,1) for s in ((dft['WFN_OPT'].to_numpy())/(pbe_ocl['WFN_OPT'].to_numpy()[xs])).flatten()]\n",
    "ax=benchmark.draw_barplot(tt.ids,tt.actual_data,x=xs,\n",
    "                          annotations=speedup,\n",
    "                          aggregate=aggregate,\n",
    "                          ax=ax,shift=-0.2,width=0.15)\n",
    "spine_pos=-0.14\n",
    "tip_pos=-0.12\n",
    "extra_off = 0.35\n",
    "for start,end,label in [(0,3,'Nodes: 0.5'),\n",
    "                        (4,7,'1'),\n",
    "                        (8,11,'2'),\n",
    "                        (12,15,'1'),\n",
    "                        (16,19,'2'),\n",
    "                        (20,23,'2')]:\n",
    "    benchmark.add_label_band(ax, 'x', start-extra_off, end+extra_off, label,\n",
    "                   spine_pos=spine_pos,tip_pos=tip_pos)\n",
    "spine_pos=-0.2\n",
    "tip_pos=-0.18\n",
    "for start,end,label in [(0,11,'Molecules: 1'),\n",
    "                        (12,19,'2'),\n",
    "                        (20,23,'4')]:\n",
    "    benchmark.add_label_band(ax, 'x', start-extra_off, end+extra_off, label,\n",
    "                   spine_pos=spine_pos,tip_pos=tip_pos)    \n",
    "ax.set_title('PBE calculations in CPU and OpenCL (with Speedup)')\n",
    "ax.get_figure().tight_layout()"
   ]
  },
  {
   "cell_type": "code",
   "execution_count": 16,
   "id": "cc6af05e-c80c-40a0-ba82-97c18bddf61a",
   "metadata": {},
   "outputs": [
    {
     "data": {
      "image/png": "[encoded data removed]",
      "text/plain": [
       "<Figure size 640x480 with 1 Axes>"
      ]
     },
     "metadata": {},
     "output_type": "display_data"
    }
   ],
   "source": [
    "tt=get_timedata(pbe0_cuda)\n",
    "ax=benchmark.draw_barplot(tt.ids,tt.actual_data,\n",
    "                          aggregate=aggregate,\n",
    "                          #annotations=pbe0_cuda['Nat']/54,\n",
    "                          shift=+0.2,width=0.15)\n",
    "labels=tt.ids\n",
    "ax.legend(loc='best')\n",
    "xs,dft=get_df_lookup(pbe0,with_respect_to=pbe0_cuda)\n",
    "tt=get_timedata(dft)\n",
    "speedup=[round(s,1) for s in ((dft['WFN_OPT'].to_numpy())/(pbe0_cuda['WFN_OPT'].to_numpy()[xs])).flatten()]\n",
    "ax=benchmark.draw_barplot(tt.ids,tt.actual_data,x=xs,\n",
    "                          annotations=speedup,\n",
    "                          aggregate=aggregate,\n",
    "                          ax=ax,shift=-0.2,width=0.15)\n",
    "spine_pos=-0.14\n",
    "tip_pos=-0.12\n",
    "extra_off = 0.35\n",
    "for start,end,label in [(0,3,'Nodes: 0.5'),\n",
    "                        (4,7,'1'),\n",
    "                        (8,11,'2'),\n",
    "                        (12,15,'1'),\n",
    "                        (16,18,'2')]:\n",
    "    benchmark.add_label_band(ax, 'x', start-extra_off, end+extra_off, label,\n",
    "                   spine_pos=spine_pos,tip_pos=tip_pos)\n",
    "spine_pos=-0.2\n",
    "tip_pos=-0.18\n",
    "for start,end,label in [(0,11,'Molecules: 1'),\n",
    "                        (12,18,'2')]:\n",
    "    benchmark.add_label_band(ax, 'x', start-extra_off, end+extra_off, label,\n",
    "                   spine_pos=spine_pos,tip_pos=tip_pos)    \n",
    "ax.set_xticks(range(len(labels)),labels,rotation=90)\n",
    "ax.set_title('PBE0 calculations in CPU and CUDA (with Speedup)')\n",
    "ax.get_figure().tight_layout()"
   ]
  },
  {
   "cell_type": "code",
   "execution_count": 18,
   "id": "d5e6192d-01c3-43a5-a530-a6076d3c2fd4",
   "metadata": {},
   "outputs": [
    {
     "data": {
      "text/plain": [
       "421.78844741025773"
      ]
     },
     "execution_count": 18,
     "metadata": {},
     "output_type": "execute_result"
    }
   ],
   "source": [
    "#total amount of hours for the benchmark\n",
    "df['CPUhours'].sum()"
   ]
  },
  {
   "cell_type": "code",
   "execution_count": null,
   "id": "79815068-6c3e-409f-a19e-1d37073ba29e",
   "metadata": {},
   "outputs": [],
   "source": []
  },
  {
   "cell_type": "code",
   "execution_count": null,
   "id": "19b6ea50-982c-4b8d-811a-a6ff821cfdd3",
   "metadata": {},
   "outputs": [],
   "source": []
  },
  {
   "cell_type": "code",
   "execution_count": null,
   "id": "dea410d7-55d5-4614-b35a-2b8c0e7140ee",
   "metadata": {},
   "outputs": [],
   "source": []
  }
 ],
 "metadata": {
  "kernelspec": {
   "display_name": "Python 3 (ipykernel)",
   "language": "python",
   "name": "python3"
  },
  "language_info": {
   "codemirror_mode": {
    "name": "ipython",
    "version": 3
   },
   "file_extension": ".py",
   "mimetype": "text/x-python",
   "name": "python",
   "nbconvert_exporter": "python",
   "pygments_lexer": "ipython3",
   "version": "3.9.16"
  }
 },
 "nbformat": 4,
 "nbformat_minor": 5
}
