{
 "cells": [
  {
   "cell_type": "markdown",
   "id": "cbfdf025",
   "metadata": {},
   "source": [
    "# Remote Compile\n",
    "In this notebook, we will demonstrate the use of `remotemanager` for compiling the code. This is not something you would usually do; working out of the shell on your remote machine should be sufficient for most use cases. But consider the case where you want to compile with a few different option sets. In that case, having a notebook that performs the different builds in an automated way can be helpful.\n",
    "\n",
    "First define the computer we want to use."
   ]
  },
  {
   "cell_type": "code",
   "execution_count": null,
   "id": "afcaff53",
   "metadata": {},
   "outputs": [],
   "source": [
    "from spring import SpringLogin\n",
    "from os.path import join\n",
    "\n",
    "url = SpringLogin()\n",
    "url.conda = \"cmake\"\n",
    "install_loc = join(\"binaries\", \"rc\", \"build\")\n",
    "upstream_loc = join(\"binaries\", \"rc\", \"upstream\")\n",
    "source_loc = join(\"devel\")"
   ]
  },
  {
   "cell_type": "code",
   "execution_count": null,
   "id": "e4e85038",
   "metadata": {},
   "outputs": [],
   "source": [
    "%load_ext remotemanager"
   ]
  },
  {
   "cell_type": "markdown",
   "id": "6315d6ee",
   "metadata": {},
   "source": [
    "## Compilation\n",
    "First we need to download the release version of BigDFT."
   ]
  },
  {
   "cell_type": "code",
   "execution_count": null,
   "id": "acc55a25",
   "metadata": {},
   "outputs": [],
   "source": [
    "%%sanzu url=url\n",
    "%%sargs sdir = source_loc\n",
    "from os.path import expanduser, join\n",
    "from os import system, chdir, getcwd\n",
    "\n",
    "old_dir = getcwd()\n",
    "try:\n",
    "    chdir(join(expanduser(\"~\"), sdir))\n",
    "    burl = \"https://gitlab.com/l_sim/bigdft-suite/-/archive/1.9.4/bigdft-suite-1.9.4.tar.gz\"\n",
    "    ret = system(\"wget \" + burl + \" > /dev/null 2>&1\")\n",
    "    if ret != 0:\n",
    "        raise Exception(\"Trouble with wget\")\n",
    "    ret = system(\"tar -xvf bigdft-suite-1.9.4.tar.gz > /dev/null 2>&1\")\n",
    "    if ret != 0:\n",
    "        raise Exception(\"Trouble with untar\")\n",
    "finally:\n",
    "    chdir(old_dir)\n",
    "    \n",
    "join(expanduser(\"~\"), sdir)"
   ]
  },
  {
   "cell_type": "markdown",
   "id": "0f76c147",
   "metadata": {},
   "source": [
    "Now we need to create the `build.rc` file. "
   ]
  },
  {
   "cell_type": "code",
   "execution_count": null,
   "id": "6fb11d5d",
   "metadata": {},
   "outputs": [],
   "source": [
    "def env_configuration():\n",
    "    env = {}\n",
    "    env[\"FC\"] = \"mpiifort\"\n",
    "    env[\"CC\"] = \"icc\"\n",
    "    env[\"CXX\"] = \"icpc\"\n",
    "    env[\"FCFLAGS\"] = fcflags\n",
    "    env[\"FCFLAGS\"] += ' -I\"${MKLROOT}/include\"'\n",
    "    env[\"CXXFLAGS\"] = \"-std=c++11\"\n",
    "    env[\"LIBS\"] = \"-lstdc++\"\n",
    "    env[\"--with-ext-linalg\"] = algebra_flags\n",
    "\n",
    "    return \" \".join(['\"' + x + '=' + y + '\"' for x, y in env.items()])"
   ]
  },
  {
   "cell_type": "code",
   "execution_count": null,
   "id": "a235aae1",
   "metadata": {},
   "outputs": [],
   "source": [
    "def ntpoly_configuration():\n",
    "    ''' \n",
    "    For NTPoly we need to specify the cmake options.\n",
    "    ''' \n",
    "    from os import getcwd, path\n",
    "\n",
    "    cmake_flags = {}\n",
    "    cmake_flags[\"CMAKE_Fortran_FLAGS_RELEASE\"] = fcflags\n",
    "    cmake_flags[\"CMAKE_Fortran_COMPILER\"] = \"mpiifort\"\n",
    "    cmake_flags[\"CMAKE_C_COMPILER\"] = \"mpiicc\"\n",
    "    cmake_flags[\"CMAKE_CXX_COMPILER\"] = \"mpiicpc\"\n",
    "    cmake_flags[\"CMAKE_PREFIX_PATH\"] = path.join(getcwd(), \"install\")\n",
    "\n",
    "    return \" \".join(['-D' + x + '=\"' + y + '\"' for x, y in cmake_flags.items()])"
   ]
  },
  {
   "cell_type": "code",
   "execution_count": null,
   "id": "0079588d",
   "metadata": {},
   "outputs": [],
   "source": [
    "def buildrc(flags, algebra_flags):\n",
    "    from inspect import getsource\n",
    "    ostr = \"\"\n",
    "    ostr += \"fcflags = '\" + flags + \"'\"\n",
    "    ostr += \"\\n\"\n",
    "    ostr += \"algebra_flags = '\" + algebra_flags + \"'\"\n",
    "    ostr += \"\\n\"\n",
    "    ostr += getsource(env_configuration)\n",
    "    ostr += \"\\n\"\n",
    "    ostr += getsource(ntpoly_configuration)\n",
    "    ostr += \"\\n\"\n",
    "    ostr += \"autogenargs = env_configuration()\\n\"\n",
    "    ostr += \"module_cmakeargs.update({ 'ntpoly': ntpoly_configuration() })\\n\"\n",
    "    \n",
    "    return ostr"
   ]
  },
  {
   "cell_type": "markdown",
   "id": "2939a706",
   "metadata": {},
   "source": [
    "Let's write a function that does the building."
   ]
  },
  {
   "cell_type": "code",
   "execution_count": null,
   "id": "6440c4f7",
   "metadata": {},
   "outputs": [],
   "source": [
    "from remotemanager import RemoteFunction\n",
    "\n",
    "@RemoteFunction\n",
    "def builds(sdir, bdir, udir, buildrc, upstream=False):\n",
    "    from os.path import expanduser, join\n",
    "    from os import system, chdir, getcwd, makedirs\n",
    "\n",
    "    # Directory structure\n",
    "    source = join(expanduser(\"~\"), sdir, \"bigdft-suite-1.9.4\")\n",
    "    updir = join(expanduser(\"~\"), udir)\n",
    "    build = join(expanduser(\"~\"), bdir)\n",
    "    makedirs(build, exist_ok=True)\n",
    "    makedirs(updir, exist_ok=True)\n",
    "    \n",
    "    # Write the buildrc\n",
    "    if upstream:\n",
    "        with open(join(updir, \"buildrc\"), \"w\") as ofile:\n",
    "            ofile.write(buildrc)\n",
    "    else:\n",
    "        with open(join(build, \"buildrc\"), \"w\") as ofile:\n",
    "            ofile.write(\"extra_prefixes=['\" + join(expanduser(\"~\"), udir, \"install\") + \"']\\n\")\n",
    "            ofile.write(buildrc)\n",
    "\n",
    "    # CD in and Run\n",
    "    old_dir = getcwd()\n",
    "    try:\n",
    "        if upstream:\n",
    "            chdir(updir)\n",
    "            ret = system(\"python \" + join(source, \"bundler\", \"jhbuild.py\") + \n",
    "                         \" -f buildrc build upstream-suite\")\n",
    "        else:\n",
    "            chdir(build)\n",
    "            ret = system(\"python \" + join(source, \"Installer.py -y build -a no_upstream\"))\n",
    "        if ret != 0:\n",
    "            raise Exception(\"compilation failed\")\n",
    "    finally:\n",
    "        chdir(old_dir)"
   ]
  },
  {
   "cell_type": "markdown",
   "id": "6024bbb2",
   "metadata": {},
   "source": [
    "Upstream comes first."
   ]
  },
  {
   "cell_type": "code",
   "execution_count": null,
   "id": "f7786ab2",
   "metadata": {},
   "outputs": [],
   "source": [
    "algebra_flags = \"-L${MKLROOT}/lib/intel64 -lmkl_intel_lp64 \" + \\\n",
    "                \"-lmkl_intel_thread -lmkl_core -liomp5 \" + \\\n",
    "                \" -lpthread -lm -ldl\"\n",
    "fflags = \"-O2 -qopenmp\""
   ]
  },
  {
   "cell_type": "code",
   "execution_count": null,
   "id": "19762acc",
   "metadata": {},
   "outputs": [],
   "source": [
    "%%sanzu url=url\n",
    "%%sargs idir = install_loc, udir = upstream_loc, sdir = source_loc\n",
    "%%sargs rc = buildrc(fflags, algebra_flags)\n",
    "builds(sdir, idir, udir, rc, True)"
   ]
  },
  {
   "cell_type": "markdown",
   "id": "fef0f77c",
   "metadata": {},
   "source": [
    "Now the main BigDFT source."
   ]
  },
  {
   "cell_type": "code",
   "execution_count": null,
   "id": "698ba2d0",
   "metadata": {},
   "outputs": [],
   "source": [
    "%%sanzu url=url\n",
    "%%sargs idir = install_loc, udir = upstream_loc, sdir = source_loc\n",
    "%%sargs rc = buildrc(fflags, algebra_flags)\n",
    "builds(sdir, idir, udir, rc, False)"
   ]
  },
  {
   "cell_type": "markdown",
   "id": "18f3f991",
   "metadata": {},
   "source": [
    "What about a version that uses `O3`? "
   ]
  },
  {
   "cell_type": "code",
   "execution_count": null,
   "id": "b42f032e",
   "metadata": {},
   "outputs": [],
   "source": [
    "install_loc = join(\"binaries\", \"rc\", \"build-O3\")\n",
    "fflags = \"-O3 -qopenmp\""
   ]
  },
  {
   "cell_type": "code",
   "execution_count": null,
   "id": "0318af7d",
   "metadata": {},
   "outputs": [],
   "source": [
    "%%sanzu url=url\n",
    "%%sargs idir = install_loc, udir = upstream_loc, sdir = source_loc\n",
    "%%sargs rc = buildrc(fflags, algebra_flags)\n",
    "builds(sdir, idir, udir, rc, False)"
   ]
  },
  {
   "cell_type": "markdown",
   "id": "0d6e4883",
   "metadata": {},
   "source": [
    "We can also try some processor specific optimizations for the Skylake processor we are targeting."
   ]
  },
  {
   "cell_type": "code",
   "execution_count": null,
   "id": "602775f4",
   "metadata": {},
   "outputs": [],
   "source": [
    "install_loc = join(\"binaries\", \"rc\", \"build-avx\")\n",
    "fflags = \"-O2 -qopenmp -xSKYLAKE-AVX512\""
   ]
  },
  {
   "cell_type": "code",
   "execution_count": null,
   "id": "fc0b3191",
   "metadata": {},
   "outputs": [],
   "source": [
    "%%sanzu url=url\n",
    "%%sargs idir = install_loc, udir = upstream_loc, sdir = source_loc\n",
    "%%sargs rc = buildrc(fflags, algebra_flags)\n",
    "builds(sdir, idir, udir, rc, False)"
   ]
  },
  {
   "cell_type": "markdown",
   "id": "e4c2f992",
   "metadata": {},
   "source": [
    "And interprocedural optimization."
   ]
  },
  {
   "cell_type": "code",
   "execution_count": null,
   "id": "5042d8cf",
   "metadata": {},
   "outputs": [],
   "source": [
    "install_loc = join(\"binaries\", \"rc\", \"build-ipo\")\n",
    "fflags = \"-O2 -qopenmp -ipo\""
   ]
  },
  {
   "cell_type": "code",
   "execution_count": null,
   "id": "9f8c423e",
   "metadata": {},
   "outputs": [],
   "source": [
    "%%sanzu url=url\n",
    "%%sargs idir = install_loc, udir = upstream_loc, sdir = source_loc\n",
    "%%sargs rc = buildrc(fflags, algebra_flags)\n",
    "builds(sdir, idir, udir, rc, False)"
   ]
  },
  {
   "cell_type": "markdown",
   "id": "0bdb13fe",
   "metadata": {},
   "source": [
    "Let's try GCC as well."
   ]
  },
  {
   "cell_type": "code",
   "execution_count": null,
   "id": "856e5e09",
   "metadata": {},
   "outputs": [],
   "source": [
    "url.scl = True"
   ]
  },
  {
   "cell_type": "code",
   "execution_count": null,
   "id": "534ae609",
   "metadata": {},
   "outputs": [],
   "source": [
    "def env_configuration():\n",
    "    env = {}\n",
    "    env[\"FC\"] = \"mpif90\"\n",
    "    env[\"CC\"] = \"gcc\"\n",
    "    env[\"CXX\"] = \"g++\"\n",
    "    env[\"FCFLAGS\"] = fcflags\n",
    "    env[\"FCFLAGS\"] += ' -I\"${MKLROOT}/include\" -static-libgfortran'\n",
    "    env[\"LIBS\"] = \"-lstdc++\"\n",
    "    env[\"--with-ext-linalg\"] = algebra_flags\n",
    "\n",
    "    return \" \".join(['\"' + x + '=' + y + '\"' for x, y in env.items()])"
   ]
  },
  {
   "cell_type": "code",
   "execution_count": null,
   "id": "2b3a7ff9",
   "metadata": {},
   "outputs": [],
   "source": [
    "def ntpoly_configuration():\n",
    "    ''' \n",
    "    For NTPoly we need to specify the cmake options.\n",
    "    ''' \n",
    "    from os import getcwd, path\n",
    "\n",
    "    cmake_flags = {}\n",
    "    cmake_flags[\"CMAKE_Fortran_FLAGS_RELEASE\"] = fcflags\n",
    "    cmake_flags[\"CMAKE_Fortran_COMPILER\"] = \"mpif90\"\n",
    "    cmake_flags[\"CMAKE_C_COMPILER\"] = \"mpicc\"\n",
    "    cmake_flags[\"CMAKE_CXX_COMPILER\"] = \"mpicxx\"\n",
    "    cmake_flags[\"CMAKE_PREFIX_PATH\"] = path.join(getcwd(), \"install\")\n",
    "\n",
    "    return \" \".join(['-D' + x + '=\"' + y + '\"' for x, y in cmake_flags.items()])"
   ]
  },
  {
   "cell_type": "code",
   "execution_count": null,
   "id": "ea8aad54",
   "metadata": {},
   "outputs": [],
   "source": [
    "install_loc = join(\"binaries\", \"rc\", \"build-gcc\")\n",
    "upstream_loc = join(\"binaries\", \"rc\", \"upstream-gcc\")\n",
    "fflags = \"-O2 -fopenmp -march=skylake-avx512\""
   ]
  },
  {
   "cell_type": "code",
   "execution_count": null,
   "id": "17d73f07",
   "metadata": {},
   "outputs": [],
   "source": [
    "%%sanzu url=url\n",
    "%%sargs idir = install_loc, udir = upstream_loc, sdir = source_loc\n",
    "%%sargs rc = buildrc(fflags, algebra_flags)\n",
    "builds(sdir, idir, udir, rc, True)"
   ]
  },
  {
   "cell_type": "code",
   "execution_count": null,
   "id": "8254e394",
   "metadata": {},
   "outputs": [],
   "source": [
    "%%sanzu url=url\n",
    "%%sargs idir = install_loc, udir = upstream_loc, sdir = source_loc\n",
    "%%sargs rc = buildrc(fflags, algebra_flags)\n",
    "builds(sdir, idir, udir, rc, False)"
   ]
  },
  {
   "cell_type": "markdown",
   "id": "6a9f7e88",
   "metadata": {},
   "source": [
    "## Running\n",
    "Now that we've built several versions, let's try comparing the performance. First, define a computer to use with compute nodes."
   ]
  },
  {
   "cell_type": "code",
   "execution_count": null,
   "id": "8aa6d873",
   "metadata": {},
   "outputs": [],
   "source": [
    "from spring import Spring\n",
    "curl = Spring()\n",
    "curl.conda = \"thermal_iop\"\n",
    "curl.mpi = 4\n",
    "curl.omp = 11\n",
    "curl.queue = \"spring1\""
   ]
  },
  {
   "cell_type": "markdown",
   "id": "ca1e8b0e",
   "metadata": {},
   "source": [
    "Then a comprehensive function."
   ]
  },
  {
   "cell_type": "code",
   "execution_count": null,
   "id": "b25179c1",
   "metadata": {},
   "outputs": [],
   "source": [
    "@RemoteFunction\n",
    "def get_times(sname, geom):\n",
    "    from BigDFT.IO import read_pdb\n",
    "    from BigDFT.Inputfiles import Inputfile\n",
    "    from BigDFT.Calculators import SystemCalculator\n",
    "    from yaml import load, SafeLoader\n",
    "    \n",
    "    # System\n",
    "    with open(geom + \".pdb\") as ifile:\n",
    "        sys = read_pdb(ifile)\n",
    "    \n",
    "    # Input\n",
    "    inp = Inputfile()\n",
    "    inp.set_xc(\"PBE\")\n",
    "    inp.set_hgrid(0.5)\n",
    "    inp.set_rmult(coarse=5.0, fine=7.0)\n",
    "    inp.set_psp_nlcc()\n",
    "    \n",
    "    # Compute\n",
    "    calc = SystemCalculator(skip=True)\n",
    "    \n",
    "    # Determine the run name\n",
    "    log = calc.run(sys=sys, input=inp, name=sname + \"_\" + geom)\n",
    "    \n",
    "    # Return the time\n",
    "    with open(\"time-\" + sname + \"_\" + geom + \".yaml\") as ifile:\n",
    "        time = load(ifile, Loader=SafeLoader)\n",
    "    return {x: y[1] for x, y in time[\"WFN_OPT\"][\"Classes\"].items()}"
   ]
  },
  {
   "cell_type": "markdown",
   "id": "6d4cbfc6",
   "metadata": {},
   "source": [
    "We can run this using the various builds."
   ]
  },
  {
   "cell_type": "code",
   "execution_count": null,
   "id": "c745e893",
   "metadata": {},
   "outputs": [],
   "source": [
    "times = {}\n",
    "geom = \"2CzPN_2\""
   ]
  },
  {
   "cell_type": "code",
   "execution_count": null,
   "id": "6ccfda14",
   "metadata": {},
   "outputs": [],
   "source": [
    "curl.path_to_bigdft = \"~/binaries/rc/build\""
   ]
  },
  {
   "cell_type": "code",
   "execution_count": null,
   "id": "6866bb4d",
   "metadata": {},
   "outputs": [],
   "source": [
    "%%sanzu url=curl, extra_files_send=[geom + \".pdb\"]\n",
    "%%sargs sname = \"intel-o2\", geom=geom\n",
    "get_times(sname, geom)"
   ]
  },
  {
   "cell_type": "code",
   "execution_count": null,
   "id": "b443dc8d",
   "metadata": {},
   "outputs": [],
   "source": [
    "curl.path_to_bigdft = \"~/binaries/rc/build-O3\""
   ]
  },
  {
   "cell_type": "code",
   "execution_count": null,
   "id": "20cc4b98",
   "metadata": {},
   "outputs": [],
   "source": [
    "%%sanzu url=curl, extra_files_send=[geom + \".pdb\"]\n",
    "%%sargs sname = \"intel-o3\", geom=geom\n",
    "get_times(sname, geom)"
   ]
  },
  {
   "cell_type": "code",
   "execution_count": null,
   "id": "e2abc9c9",
   "metadata": {},
   "outputs": [],
   "source": [
    "curl.path_to_bigdft = \"~/binaries/rc/build-avx\""
   ]
  },
  {
   "cell_type": "code",
   "execution_count": null,
   "id": "d351c4bc",
   "metadata": {},
   "outputs": [],
   "source": [
    "%%sanzu url=curl, extra_files_send=[geom + \".pdb\"]\n",
    "%%sargs sname = \"intel-avx\", geom=geom\n",
    "get_times(sname, geom)"
   ]
  },
  {
   "cell_type": "code",
   "execution_count": null,
   "id": "5e33cd6a",
   "metadata": {},
   "outputs": [],
   "source": [
    "curl.path_to_bigdft = \"~/binaries/rc/build-ipo\""
   ]
  },
  {
   "cell_type": "code",
   "execution_count": null,
   "id": "f4a15ab2",
   "metadata": {},
   "outputs": [],
   "source": [
    "%%sanzu url=curl, extra_files_send=[geom + \".pdb\"]\n",
    "%%sargs sname = \"intel-ipo\", geom=geom\n",
    "get_times(sname, geom)"
   ]
  },
  {
   "cell_type": "code",
   "execution_count": null,
   "id": "a8055342",
   "metadata": {},
   "outputs": [],
   "source": [
    "curl.path_to_bigdft = \"~/binaries/rc/build-gcc\""
   ]
  },
  {
   "cell_type": "code",
   "execution_count": null,
   "id": "458772f2",
   "metadata": {},
   "outputs": [],
   "source": [
    "%%sanzu url=curl, extra_files_send=[geom + \".pdb\"]\n",
    "%%sargs sname = \"gcc\", geom=geom\n",
    "get_times(sname, geom)"
   ]
  },
  {
   "cell_type": "markdown",
   "id": "ce185fc0",
   "metadata": {},
   "source": [
    "Compare the results."
   ]
  },
  {
   "cell_type": "code",
   "execution_count": null,
   "id": "04ced1ab",
   "metadata": {},
   "outputs": [],
   "source": [
    "times = {}\n",
    "times[\"Intel/O2\"] = magic_dataset.results[0]\n",
    "times[\"Intel/O3\"] = magic_dataset.results[1]\n",
    "times[\"Intel/AVX-Skylake\"] = magic_dataset.results[2]\n",
    "times[\"Intel/IPO\"] = magic_dataset.results[3]\n",
    "times[\"GCC\"] = magic_dataset.results[4]"
   ]
  },
  {
   "cell_type": "code",
   "execution_count": null,
   "id": "48ca556e",
   "metadata": {},
   "outputs": [],
   "source": [
    "order = sorted(list(times), key=lambda x: times[x][\"Total\"], reverse=True)"
   ]
  },
  {
   "cell_type": "code",
   "execution_count": null,
   "id": "501dd77f",
   "metadata": {},
   "outputs": [],
   "source": [
    "from matplotlib import pyplot as plt\n",
    "\n",
    "fig, axs = plt.subplots(figsize=(6, 3))\n",
    "width = .1\n",
    "offset = -2*width\n",
    "for k in order:\n",
    "    v = times[k]\n",
    "    xvals = range(len(v.values()))\n",
    "    axs.bar([x + offset for x in xvals], [v[x] for x in v], \n",
    "            width, label=k)\n",
    "    axs.set_xticks(xvals)\n",
    "    axs.set_xticklabels(list(v), rotation=90)\n",
    "    offset += width\n",
    "axs.set_ylabel(\"Time (s)\", fontsize=14)\n",
    "_ = axs.legend()\n",
    "plt.savefig(\"compiler.png\", dpi=300, bbox_inches=\"tight\")"
   ]
  }
 ],
 "metadata": {
  "kernelspec": {
   "display_name": "Python 3 (ipykernel)",
   "language": "python",
   "name": "python3"
  },
  "language_info": {
   "codemirror_mode": {
    "name": "ipython",
    "version": 3
   },
   "file_extension": ".py",
   "mimetype": "text/x-python",
   "name": "python",
   "nbconvert_exporter": "python",
   "pygments_lexer": "ipython3",
   "version": "3.11.5"
  }
 },
 "nbformat": 4,
 "nbformat_minor": 5
}
