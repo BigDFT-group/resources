{
 "cells": [
  {
   "cell_type": "markdown",
   "id": "54d39441",
   "metadata": {},
   "source": [
    "# Thermo-Chemistry Benchmark\n",
    "This notebook will try to compare the BigDFT approach to other Quantum Chemistry formalisms use the systems of the W4-11 thermochemistry benchmark.\n",
    "\n",
    "> Karton, Amir, Shauli Daon, and Jan ML Martin. \"W4-11: A high-confidence benchmark dataset for computational thermochemistry derived from first-principles W4 data.\" Chemical Physics Letters 510, no. 4-6 (2011): 165-178."
   ]
  },
  {
   "cell_type": "code",
   "execution_count": null,
   "id": "9aa7e9c7",
   "metadata": {},
   "outputs": [],
   "source": [
    "import warnings\n",
    "warnings.filterwarnings(\"ignore\")"
   ]
  },
  {
   "cell_type": "code",
   "execution_count": null,
   "id": "df5683bb",
   "metadata": {},
   "outputs": [],
   "source": [
    "dataset = \"W4-11\""
   ]
  },
  {
   "cell_type": "markdown",
   "id": "5813578e",
   "metadata": {},
   "source": [
    "We will explore a few parameters: pseudopotentials (Krack vs. NLCC), functional (PBE vs. PBE0 vs. B3LYP), and basis set (PCSEG series, reference: def2-QZVP). "
   ]
  },
  {
   "cell_type": "markdown",
   "id": "c573dc37",
   "metadata": {},
   "source": [
    "## Data Retrieval\n",
    "Before starting, we have to get the dataset."
   ]
  },
  {
   "cell_type": "code",
   "execution_count": null,
   "id": "68a4778c",
   "metadata": {},
   "outputs": [],
   "source": [
    "from os import system\n",
    "from os.path import exists\n",
    "if not exists(\"W4-11.tar\"):\n",
    "    system(\"wget http://www.thch.uni-bonn.de/tc.old/downloads/GMTKN/GMTKN55/W4-11.tar\")\n",
    "    system(\"wget http://www.thch.uni-bonn.de/tc.old/downloads/GMTKN/GMTKN55/W4-11ref.html\")\n",
    "    system(\"wget http://www.thch.uni-bonn.de/tc.old/downloads/GMTKN/GMTKN55/CHARGE_MULTIPLICITY_W4-11.txt\")\n",
    "    system(\"tar -xvf W4-11.tar\")\n",
    "    system(\"mv W4-11ref.html W4-11/\")\n",
    "    system(\"mv CHARGE_MULTIPLICITY_W4-11.txt W4-11/\")"
   ]
  },
  {
   "cell_type": "markdown",
   "id": "a125ab0a",
   "metadata": {},
   "source": [
    "## Read In The Systems\n",
    "First we will read in the full set of systems."
   ]
  },
  {
   "cell_type": "code",
   "execution_count": null,
   "id": "c4c60df5",
   "metadata": {},
   "outputs": [],
   "source": [
    "from os.path import join, basename\n",
    "from glob import glob\n",
    "\n",
    "names = [basename(x) for x in glob(join(dataset, \"*\"))]"
   ]
  },
  {
   "cell_type": "code",
   "execution_count": null,
   "id": "49d8c396",
   "metadata": {},
   "outputs": [],
   "source": [
    "from BigDFT.IO import read_xyz\n",
    "\n",
    "systems = {}\n",
    "for n in names:\n",
    "    if n in [\"c2\", \"cloo\"]:  # Systems with PSI4 convergence problems\n",
    "        continue\n",
    "    try:\n",
    "        with open(join(dataset, n, \"struc.xyz\")) as ifile:\n",
    "            sys = read_xyz(ifile)\n",
    "    except NotADirectoryError:\n",
    "        continue\n",
    "    # Remove Sulfur which doesn't have an Saha\n",
    "    skip = False\n",
    "    for frag in sys.values():\n",
    "        for at in frag:\n",
    "            if at.sym == \"S\":\n",
    "                print(\"Skip:\", n)\n",
    "                skip = True\n",
    "                continue\n",
    "    if not skip:\n",
    "        systems[n] = sys"
   ]
  },
  {
   "cell_type": "markdown",
   "id": "25b803cb",
   "metadata": {},
   "source": [
    "We also need to read in the charge and multiplicity data."
   ]
  },
  {
   "cell_type": "code",
   "execution_count": null,
   "id": "17209cab",
   "metadata": {},
   "outputs": [],
   "source": [
    "charges = {}\n",
    "multiplicities = {}\n",
    "with open(join(dataset, \"CHARGE_MULTIPLICITY_\" + dataset + \".txt\")) as ifile:\n",
    "    for line in ifile:\n",
    "        n, c, m = line.split()\n",
    "        charges[n] = int(c)\n",
    "        multiplicities[n] = int(m)"
   ]
  },
  {
   "cell_type": "markdown",
   "id": "1c836489",
   "metadata": {},
   "source": [
    "Last, we need to read the stochiometry data which is helpfully provided by the GMTKN55 dataset."
   ]
  },
  {
   "cell_type": "code",
   "execution_count": null,
   "id": "ffb6ad24",
   "metadata": {},
   "outputs": [],
   "source": [
    "def process_stochiometry():\n",
    "    from bs4 import BeautifulSoup\n",
    "    with open(join(dataset, dataset+\"ref.html\")) as ifile:\n",
    "        html = ifile.read()\n",
    "    soup = BeautifulSoup(html, 'html.parser')\n",
    "    stochiometries = {}\n",
    "    for row in soup.table:\n",
    "        lrow = list(row)\n",
    "        if lrow[0] == '\\n':\n",
    "            continue\n",
    "        key = lrow[1].get_text().strip()\n",
    "        stochiometries[key] = {\"pairs\": [key], \"weights\": [], \"ref\": None}\n",
    "        for i in range(2, len(lrow)):\n",
    "            val = lrow[i].get_text().strip()\n",
    "            try:\n",
    "                stochiometries[key][\"weights\"].append(int(val))\n",
    "            except ValueError:\n",
    "                try:\n",
    "                    stochiometries[key][\"ref\"] = float(val)\n",
    "                except ValueError:\n",
    "                    val = lrow[i].get_text().strip()\n",
    "                    if val not in [\",\", \"\"]:\n",
    "                        stochiometries[key][\"pairs\"].append(val)\n",
    "    return stochiometries"
   ]
  },
  {
   "cell_type": "code",
   "execution_count": null,
   "id": "3100ad92",
   "metadata": {},
   "outputs": [],
   "source": [
    "stoch = process_stochiometry()"
   ]
  },
  {
   "cell_type": "markdown",
   "id": "f61215a2",
   "metadata": {},
   "source": [
    "## Calculation Routines\n",
    "Now we will build the routines that can process the dataset with a given set of parameters."
   ]
  },
  {
   "cell_type": "code",
   "execution_count": null,
   "id": "3d75fd55",
   "metadata": {},
   "outputs": [],
   "source": [
    "def compute_bigdft(systems, charges, mults, pp, functional):\n",
    "    from BigDFT.Calculators import SystemCalculator\n",
    "    from BigDFT.Inputfiles import Inputfile\n",
    "    from copy import deepcopy\n",
    "    \n",
    "    cinp = Inputfile()\n",
    "    cinp.set_xc(functional)\n",
    "    \n",
    "    if pp == \"Saha\":\n",
    "        cinp.set_psp_nlcc()\n",
    "        cinp.set_hgrid(0.45)\n",
    "    elif pp == \"Krack\":\n",
    "        cinp.set_psp_krack()\n",
    "        cinp.set_hgrid(0.37)\n",
    "    else:\n",
    "        raise ValueError(\"Invalid PP\")\n",
    "\n",
    "    calc = SystemCalculator(skip=True, verbose=False)\n",
    "    \n",
    "    param_id = str(pp) + \"_\" + functional\n",
    "    \n",
    "    logfiles = {}\n",
    "    for k, v in systems.items():\n",
    "        cinp2 = deepcopy(cinp)\n",
    "        cinp2.charge(charges[k])\n",
    "        if mults[k] > 1:\n",
    "            cinp2.spin_polarize(mpol = mults[k]-1)\n",
    "        logfiles[k] = calc.run(sys=v, input=cinp2, name=k,\n",
    "                               run_dir=\"work_bigdft_\" + param_id)\n",
    "\n",
    "    return {k: v.energy for k, v in logfiles.items()}"
   ]
  },
  {
   "cell_type": "code",
   "execution_count": null,
   "id": "cdfd55e9",
   "metadata": {},
   "outputs": [],
   "source": [
    "def compute_psi4(systems, charges, mults, basis, functional):\n",
    "    from BigDFT.Interop.PSI4Interop import PSI4Calculator\n",
    "    from psi4 import set_options, set_num_threads, set_memory\n",
    "    from os import environ\n",
    "    \n",
    "    calc = PSI4Calculator(skip=True, verbose=False)\n",
    "    options = {\"reference\": \"uhf\", \n",
    "               \"dft_spherical_points\": 590,\n",
    "               \"dft_radial_points\": 99,\n",
    "               \"scf_type\": \"direct\",\n",
    "               \"maxiter\": 1000,\n",
    "               \"df_scf_guess\": False}\n",
    "    set_options(options)\n",
    "    set_memory('2048 MB')\n",
    "    set_num_threads(1)\n",
    "#     set_num_threads(int(environ['OMP_NUM_THREADS']))\n",
    "    \n",
    "    param_id = basis + \"_\" + functional\n",
    "    \n",
    "    logfiles = {}\n",
    "    for k, v in systems.items():\n",
    "        logfiles[k] = calc.run(sys=v, name=k, action=\"energy\",\n",
    "                               basis=basis, method=functional,\n",
    "                               chargeA=charges[k], multiplicityA=mults[k],\n",
    "                               run_dir=\"work_psi4_\" + param_id)\n",
    "    return {k: v[\"energy\"][\"total\"] for k, v in logfiles.items()}"
   ]
  },
  {
   "cell_type": "markdown",
   "id": "9e4a9474",
   "metadata": {},
   "source": [
    "At this point, we can test out our functions on a small subset of the data."
   ]
  },
  {
   "cell_type": "code",
   "execution_count": null,
   "id": "b7e1ac3e",
   "metadata": {},
   "outputs": [],
   "source": [
    "subset = {}\n",
    "for i, (k, v) in enumerate(systems.items()):\n",
    "    if i > 2:\n",
    "        break\n",
    "    subset[k] = v"
   ]
  },
  {
   "cell_type": "code",
   "execution_count": null,
   "id": "ecbcea77",
   "metadata": {},
   "outputs": [],
   "source": [
    "energies_bdft = compute_bigdft(systems=subset,\n",
    "                               charges=charges,\n",
    "                               mults=multiplicities, \n",
    "                               pp=\"Saha\", functional=\"PBE\")"
   ]
  },
  {
   "cell_type": "code",
   "execution_count": null,
   "id": "f4af2957",
   "metadata": {},
   "outputs": [],
   "source": [
    "print(energies_bdft)"
   ]
  },
  {
   "cell_type": "code",
   "execution_count": null,
   "id": "b52e262a",
   "metadata": {},
   "outputs": [],
   "source": [
    "energies_psi4 = compute_psi4(systems=subset, \n",
    "                             charges={k: charges[k] for k in subset},\n",
    "                             mults={k: multiplicities[k] for k in subset}, \n",
    "                             basis=\"pcseg-2\", functional=\"PBE\")"
   ]
  },
  {
   "cell_type": "code",
   "execution_count": null,
   "id": "24738ee4",
   "metadata": {},
   "outputs": [],
   "source": [
    "print(energies_psi4)"
   ]
  },
  {
   "cell_type": "markdown",
   "id": "f0e7110b",
   "metadata": {},
   "source": [
    "## Remote Calculations\n",
    "Now we will perform the full set of calculations on a remote machine for different parameters."
   ]
  },
  {
   "cell_type": "code",
   "execution_count": null,
   "id": "b4fdeedc",
   "metadata": {},
   "outputs": [],
   "source": [
    "from remotecomputer.spring import Spring\n",
    "url = Spring(user=\"dawson\")\n",
    "url.queue = \"winter2\"\n",
    "url.mpi = 1\n",
    "url.omp = 36\n",
    "url.conda = \"thermal_iop\"\n",
    "remote_dir = \"/home/dawson/Runs/2023/thermal\""
   ]
  },
  {
   "cell_type": "code",
   "execution_count": null,
   "id": "e3c30bd1",
   "metadata": {},
   "outputs": [],
   "source": [
    "from remotemanager.serialisation import serialjsonpickle\n",
    "serial = serialjsonpickle()"
   ]
  },
  {
   "cell_type": "code",
   "execution_count": null,
   "id": "88c44b6b",
   "metadata": {},
   "outputs": [],
   "source": [
    "from remotemanager.dataset import Dataset\n",
    "bdft_set = Dataset(url=url, function=compute_bigdft, \n",
    "                   dbfile=\"bigdft-db\",\n",
    "                   serialiser=serial,\n",
    "                   remote_dir=remote_dir)"
   ]
  },
  {
   "cell_type": "code",
   "execution_count": null,
   "id": "77b98835",
   "metadata": {},
   "outputs": [],
   "source": [
    "psi4_set = Dataset(url=url, function=compute_psi4, \n",
    "                   dbfile=\"psi4-db\",\n",
    "                   serialiser=serial,\n",
    "                   remote_dir=remote_dir)"
   ]
  },
  {
   "cell_type": "markdown",
   "id": "e9b620fe",
   "metadata": {},
   "source": [
    "BigDFT runs"
   ]
  },
  {
   "cell_type": "code",
   "execution_count": null,
   "id": "aedf1ed2",
   "metadata": {},
   "outputs": [],
   "source": [
    "for functional in [\"PBE\", \"PBE0\", \"B3LYP\"]:\n",
    "    for pp in [\"Krack\", \"Saha\"]:\n",
    "        args = {\"systems\": systems,\n",
    "                \"charges\": charges, \"mults\": multiplicities, \n",
    "                \"pp\": pp, \"functional\": functional}\n",
    "        bdft_set.append_run(arguments=args)"
   ]
  },
  {
   "cell_type": "code",
   "execution_count": null,
   "id": "859ec0ea",
   "metadata": {},
   "outputs": [],
   "source": [
    "_ = bdft_set.run()"
   ]
  },
  {
   "cell_type": "markdown",
   "id": "ab36d772",
   "metadata": {},
   "source": [
    "PSI4"
   ]
  },
  {
   "cell_type": "code",
   "execution_count": null,
   "id": "967de9f3",
   "metadata": {},
   "outputs": [],
   "source": [
    "for functional in [\"pbe\", \"pbe0\", \"b3lyp\"]:\n",
    "    for basis in [\"pcseg-0\", \"pcseg-1\", \"pcseg-2\", \"pcseg-3\", \"def2-QZVP\"]:\n",
    "        args = {\"systems\": systems, \n",
    "                \"charges\": charges, \"mults\": multiplicities, \n",
    "                \"basis\": basis, \"functional\": functional}\n",
    "        psi4_set.append_run(id={\"basis\": basis, \"functional\": functional}, arguments=args)"
   ]
  },
  {
   "cell_type": "code",
   "execution_count": null,
   "id": "40a62edd",
   "metadata": {},
   "outputs": [],
   "source": [
    "_ = psi4_set.run()"
   ]
  },
  {
   "cell_type": "markdown",
   "id": "a9b888c2",
   "metadata": {},
   "source": [
    "Synchronize."
   ]
  },
  {
   "cell_type": "code",
   "execution_count": null,
   "id": "c42fbc4d",
   "metadata": {},
   "outputs": [],
   "source": [
    "from time import sleep\n",
    "while not bdft_set.all_finished: sleep(10)\n",
    "_ = bdft_set.fetch_results()\n",
    "while not psi4_set.all_finished: sleep(10)\n",
    "_ = psi4_set.fetch_results()"
   ]
  },
  {
   "cell_type": "markdown",
   "id": "356d3285",
   "metadata": {},
   "source": [
    "## Analyze Results\n",
    "The last step is to create a plot summarizing the results. First we compute the energies according to the stochiometry rules."
   ]
  },
  {
   "cell_type": "code",
   "execution_count": null,
   "id": "2a01562c",
   "metadata": {},
   "outputs": [],
   "source": [
    "def compute_atomization(data, stoch):\n",
    "    atomization = {}\n",
    "    for point, spec in stoch.items():\n",
    "        if point not in data:\n",
    "            continue\n",
    "        atomization[point] = 0\n",
    "        for p, w in zip(spec[\"pairs\"], spec[\"weights\"]):\n",
    "            atomization[point] += w * data[p]\n",
    "    return atomization"
   ]
  },
  {
   "cell_type": "code",
   "execution_count": null,
   "id": "8d94aa80",
   "metadata": {},
   "outputs": [],
   "source": [
    "atomization = {\"BigDFT\": {}, \"PSI4\": {}}\n",
    "\n",
    "i = 0\n",
    "for functional in [\"PBE\", \"PBE0\", \"B3LYP\"]:\n",
    "    atomization[\"BigDFT\"][functional] = {}\n",
    "    for pp in [\"Krack\", \"Saha\"]:\n",
    "        res = bdft_set.results[i]\n",
    "        atomization[\"BigDFT\"][functional][pp] = compute_atomization(res, stoch)\n",
    "        i += 1\n",
    "\n",
    "i = 0\n",
    "for functional in [\"pbe\", \"pbe0\", \"b3lyp\"]:\n",
    "    atomization[\"PSI4\"][functional] = {}\n",
    "    for basis in [\"pcseg-0\", \"pcseg-1\", \"pcseg-2\", \"pcseg-3\", \"def2-QZVP\"]:\n",
    "        res = psi4_set.results[i]\n",
    "        atomization[\"PSI4\"][functional][basis] = compute_atomization(res, stoch)\n",
    "        i += 1\n",
    "\n",
    "# for params, results in zip(bdft_set.ids, bdft_set.fetch_results()):\n",
    "#     atomization[\"BigDFT\"][(params[\"nlcc\"], params[\"functional\"])] = \\\n",
    "#       compute_atomization(results, stoch)\n",
    "    \n",
    "# for params, results in zip(psi4_set.ids, psi4_set.fetch_results()):\n",
    "#     atomization[\"PSI4\"][(params[\"basis\"], params[\"functional\"])] = \\\n",
    "#       compute_atomization(results, stoch)"
   ]
  },
  {
   "cell_type": "markdown",
   "id": "0bbc3d93",
   "metadata": {},
   "source": [
    "Now plot the errors."
   ]
  },
  {
   "cell_type": "code",
   "execution_count": null,
   "id": "fec6f1e0",
   "metadata": {},
   "outputs": [],
   "source": [
    "def compute_errors(xvals, yvals):\n",
    "    return {k: 630*abs(xvals[k] - yvals[k]) for k in order}"
   ]
  },
  {
   "cell_type": "markdown",
   "id": "fddd31ff",
   "metadata": {},
   "source": [
    "Precision."
   ]
  },
  {
   "cell_type": "code",
   "execution_count": null,
   "id": "83ef9bd6",
   "metadata": {
    "scrolled": true
   },
   "outputs": [],
   "source": [
    "from matplotlib import pyplot as plt\n",
    "fig, axs = plt.subplots(1, 3, figsize=(6, 4))\n",
    "\n",
    "order = [x for x in stoch if x in systems]\n",
    "\n",
    "for i, fun in enumerate([\"PBE\", \"PBE0\", \"B3LYP\"]):\n",
    "    axs[i].set_title(fun, fontsize=12)\n",
    "    ref = {x: atomization[\"PSI4\"][fun.lower()][\"def2-QZVP\"][x] for x in order}\n",
    "\n",
    "    computed = {x: atomization[\"BigDFT\"][fun][\"Krack\"][x] for x in order}\n",
    "    errors = [list(compute_errors(computed, ref).values())]\n",
    "    labels = [\"BigDFT - Krack\"]\n",
    "\n",
    "    computed = {x: atomization[\"BigDFT\"][fun][\"Saha\"][x] for x in order}\n",
    "    errors += [list(compute_errors(computed, ref).values())]\n",
    "    labels += [\"BigDFT - NLCC\"]\n",
    "\n",
    "    for basis in [\"pcseg-0\", \"pcseg-1\", \"pcseg-2\", \"pcseg-3\"]:\n",
    "        computed = {x: atomization[\"PSI4\"][fun.lower()][basis][x] for x in order}\n",
    "        errors += [list(compute_errors(computed, ref).values())]\n",
    "        labels += [\"PSI4 - \" + basis.upper()]\n",
    "\n",
    "    axs[i].boxplot(errors)\n",
    "    axs[i].set_xticks(range(1, 1 + len(labels)))\n",
    "    axs[i].set_xticklabels(labels, rotation=90, fontsize=12)\n",
    "    axs[i].set_ylim(-10, 180)\n",
    "\n",
    "axs[0].set_ylabel(\"Error (kcal/mol)\", fontsize=14)\n",
    "fig.suptitle(\"Precision (vs. def2-QZVP)\", fontsize=14)\n",
    "fig.tight_layout()\n",
    "fig.savefig(\"thermal.png\", dpi=300)"
   ]
  },
  {
   "cell_type": "markdown",
   "id": "169a2605",
   "metadata": {},
   "source": [
    "Accuracy."
   ]
  },
  {
   "cell_type": "code",
   "execution_count": null,
   "id": "4da728ac",
   "metadata": {},
   "outputs": [],
   "source": [
    "from matplotlib import pyplot as plt\n",
    "fig, axs = plt.subplots(1, 3, figsize=(6, 4))\n",
    "\n",
    "order = [x for x in stoch if x in systems]\n",
    "\n",
    "for i, fun in enumerate([\"PBE\", \"PBE0\", \"B3LYP\"]):\n",
    "    axs[i].set_title(fun, fontsize=12)\n",
    "    ref = {x: stoch[x][\"ref\"]/630 for x in order}\n",
    "\n",
    "    computed = {x: atomization[\"BigDFT\"][fun][\"Krack\"][x] for x in order}\n",
    "    errors = [list(compute_errors(computed, ref).values())]\n",
    "    labels = [\"BigDFT - Krack\"]\n",
    "    \n",
    "    edict = compute_errors(computed, ref)\n",
    "    mkey = max(edict, key=edict.get)\n",
    "    print(\"Krack:\", mkey, edict[mkey])\n",
    "\n",
    "    computed = {x: atomization[\"BigDFT\"][fun][\"Saha\"][x] for x in order}\n",
    "    errors += [list(compute_errors(computed, ref).values())]\n",
    "    labels += [\"BigDFT - NLCC\"]\n",
    "    \n",
    "    edict = compute_errors(computed, ref)\n",
    "    mkey = max(edict, key=edict.get)\n",
    "    print(\"NLCC\", mkey, edict[mkey])\n",
    "\n",
    "    for basis in [\"pcseg-0\", \"pcseg-1\", \"pcseg-2\", \"pcseg-3\"]:\n",
    "        computed = {x: atomization[\"PSI4\"][fun.lower()][basis][x] for x in order}\n",
    "        errors += [list(compute_errors(computed, ref).values())]\n",
    "        labels += [\"PSI4 - \" + basis.upper()]\n",
    "        edict = compute_errors(computed, ref)\n",
    "        mkey = max(edict, key=edict.get)\n",
    "        print(basis, mkey, edict[mkey])\n",
    "\n",
    "    axs[i].boxplot(errors)\n",
    "    axs[i].set_xticks(range(1, 1 + len(labels)))\n",
    "    axs[i].set_xticklabels(labels, rotation=90, fontsize=12)\n",
    "    axs[i].set_ylim(-10, 180)\n",
    "\n",
    "axs[0].set_ylabel(\"Error (kcal/mol)\", fontsize=14)\n",
    "fig.suptitle(\"Accuracy (vs. W4 Protocol)\", fontsize=14)\n",
    "fig.tight_layout()\n",
    "# fig.savefig(\"thermal.png\", dpi=300)"
   ]
  }
 ],
 "metadata": {
  "kernelspec": {
   "display_name": "Python 3 (ipykernel)",
   "language": "python",
   "name": "python3"
  },
  "language_info": {
   "codemirror_mode": {
    "name": "ipython",
    "version": 3
   },
   "file_extension": ".py",
   "mimetype": "text/x-python",
   "name": "python",
   "nbconvert_exporter": "python",
   "pygments_lexer": "ipython3",
   "version": "3.11.0"
  }
 },
 "nbformat": 4,
 "nbformat_minor": 5
}
